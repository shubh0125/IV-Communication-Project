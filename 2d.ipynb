{
 "cells": [
  {
   "cell_type": "code",
   "execution_count": null,
   "metadata": {},
   "outputs": [],
   "source": [
    "# Team Members:\n",
    "\n",
    "# Shubh Almal \n",
    "# ID: 801365752\n",
    "\n",
    "# Saakshi Patel \n",
    "# ID: 801361041"
   ]
  },
  {
   "cell_type": "code",
   "execution_count": null,
   "metadata": {},
   "outputs": [],
   "source": [
    "# 2d. What can we learn from this pandemic? Or your most important find from this data?"
   ]
  },
  {
   "cell_type": "code",
   "execution_count": null,
   "metadata": {},
   "outputs": [],
   "source": [
    "# Block 1: Data Loading and Preparation\n",
    "\n",
    "# This block loads the dataset containing COVID-19 vaccination records by state and defines functions to calculate total \n",
    "# vaccinations by location and totals for additional columns."
   ]
  },
  {
   "cell_type": "code",
   "execution_count": 1,
   "metadata": {},
   "outputs": [],
   "source": [
    "import pandas as pd\n",
    "\n",
    "# Load datasets\n",
    "df_vaccinations = pd.read_csv(\"us_state_vaccinations.csv\")\n",
    "\n",
    "# Function to calculate total vaccinations by location\n",
    "def calculate_total_vaccinations():\n",
    "    # Ensure 'location' column exists and convert total_vaccinations to numeric\n",
    "    if 'location' in df_vaccinations.columns:\n",
    "        df_vaccinations['total_vaccinations'] = pd.to_numeric(df_vaccinations['total_vaccinations'], errors='coerce')\n",
    "        total_vaccinations_by_location = df_vaccinations.groupby('location')['total_vaccinations'].sum()\n",
    "        return total_vaccinations_by_location\n",
    "    else:\n",
    "        print(\"Error: 'location' column not found in vaccinations DataFrame.\")\n",
    "        return None\n",
    "\n",
    "# Function to calculate totals for additional columns\n",
    "def calculate_total_columns():\n",
    "    # List of columns to calculate totals for\n",
    "    columns_to_sum = ['total_distributed', 'people_vaccinated', 'people_fully_vaccinated_per_hundred',\n",
    "                      'total_vaccinations_per_hundred', 'people_fully_vaccinated', 'people_vaccinated_per_hundred',\n",
    "                      'distributed_per_hundred', 'daily_vaccinations_raw', 'daily_vaccinations',\n",
    "                      'daily_vaccinations_per_million', 'share_doses_used', 'total_boosters',\n",
    "                      'total_boosters_per_hundred']\n",
    "    \n",
    "    # Convert selected columns to numeric and calculate totals\n",
    "    for col in columns_to_sum:\n",
    "        if col in df_vaccinations.columns:\n",
    "            df_vaccinations[col] = pd.to_numeric(df_vaccinations[col], errors='coerce')\n",
    "    \n",
    "    # Group by location and sum the selected columns\n",
    "    total_columns_by_location = df_vaccinations.groupby('location')[columns_to_sum].sum()\n",
    "    return total_columns_by_location\n"
   ]
  },
  {
   "cell_type": "code",
   "execution_count": null,
   "metadata": {},
   "outputs": [],
   "source": [
    "# Block 2: Interactive Widgets Setup\n",
    "\n",
    "# This block sets up interactive dropdown widgets for selecting attributes and states to visualize."
   ]
  },
  {
   "cell_type": "code",
   "execution_count": 2,
   "metadata": {},
   "outputs": [],
   "source": [
    "import ipywidgets as widgets\n",
    "from ipywidgets import interact\n",
    "\n",
    "# Create dropdown widget for attribute selection\n",
    "attribute_dropdown = widgets.SelectMultiple(\n",
    "    options=df_vaccinations.columns,\n",
    "    value=['total_vaccinations'],  # Default value\n",
    "    description='Attributes:'\n",
    ")\n",
    "\n",
    "# Create dropdown widget for state selection\n",
    "state_dropdown = widgets.SelectMultiple(\n",
    "    options=df_vaccinations['location'].unique(),\n",
    "    value=['Alabama', 'Alaska'],  # Default value\n",
    "    description='States:'\n",
    ")\n"
   ]
  },
  {
   "cell_type": "code",
   "execution_count": null,
   "metadata": {},
   "outputs": [],
   "source": [
    "# Block 3: Visualization Update Function\n",
    "\n",
    "# This block defines an interactive function that updates the bar plot based on the selected attributes and states, \n",
    "# showing the totals for selected columns by location."
   ]
  },
  {
   "cell_type": "code",
   "execution_count": 3,
   "metadata": {},
   "outputs": [
    {
     "data": {
      "application/vnd.jupyter.widget-view+json": {
       "model_id": "33db7260ec8f453b9beca9f87dca34f3",
       "version_major": 2,
       "version_minor": 0
      },
      "text/plain": [
       "interactive(children=(SelectMultiple(description='Attributes:', index=(2,), options=('date', 'location', 'tota…"
      ]
     },
     "metadata": {},
     "output_type": "display_data"
    }
   ],
   "source": [
    "import matplotlib.pyplot as plt\n",
    "\n",
    "# Define interactive function to update plots based on dropdown selection\n",
    "@interact(attributes=attribute_dropdown, states=state_dropdown)\n",
    "def update_plots(attributes, states):\n",
    "    # Ensure attributes is always a list\n",
    "    attributes = list(attributes)\n",
    "    \n",
    "    # Filter DataFrame based on selected states\n",
    "    filtered_df = df_vaccinations[df_vaccinations['location'].isin(states)]\n",
    "    \n",
    "    # Calculate totals for selected columns\n",
    "    total_additional_columns = calculate_total_columns()\n",
    "    \n",
    "    # Combine the results into a single DataFrame if total_vaccinations is not None\n",
    "    if total_additional_columns is not None:\n",
    "        # Visualize totals for selected columns\n",
    "        plt.figure(figsize=(14, 8))  # Increase figure size\n",
    "        filtered_df.groupby('location')[attributes].sum().plot(kind='bar', stacked=True)\n",
    "        plt.title('Totals for Selected Columns by Location')\n",
    "        plt.xlabel('Location')\n",
    "        plt.ylabel('Total')\n",
    "        plt.xticks(rotation=45, ha='right')  # Rotate x-axis labels for better readability\n",
    "        plt.legend(title='Column', loc='upper left', bbox_to_anchor=(1, 1))  # Adjust legend placement\n",
    "        plt.tight_layout()\n",
    "        plt.show()\n",
    "    else:\n",
    "        print(\"Error: Unable to calculate total columns.\")\n"
   ]
  },
  {
   "cell_type": "code",
   "execution_count": null,
   "metadata": {},
   "outputs": [],
   "source": [
    "# Conclusion and Insight:\n",
    "\n",
    "# The interactive visualization allows users to select specific attributes and states to visualize the totals for COVID-19 \n",
    "# vaccination-related data, such as total vaccinations, people vaccinated, daily vaccinations, etc., grouped by location (states). \n",
    "# This helps in understanding the distribution and magnitude of vaccination efforts across different states, providing insights into \n",
    "# vaccination trends and coverage levels."
   ]
  }
 ],
 "metadata": {
  "kernelspec": {
   "display_name": "Python 3",
   "language": "python",
   "name": "python3"
  },
  "language_info": {
   "codemirror_mode": {
    "name": "ipython",
    "version": 3
   },
   "file_extension": ".py",
   "mimetype": "text/x-python",
   "name": "python",
   "nbconvert_exporter": "python",
   "pygments_lexer": "ipython3",
   "version": "3.11.6"
  }
 },
 "nbformat": 4,
 "nbformat_minor": 2
}
