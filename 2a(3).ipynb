{
 "cells": [
  {
   "cell_type": "code",
   "execution_count": 1,
   "metadata": {},
   "outputs": [
    {
     "data": {
      "application/vnd.jupyter.widget-view+json": {
       "model_id": "326bd3843e534804a591c84269ab01a8",
       "version_major": 2,
       "version_minor": 0
      },
      "text/plain": [
       "interactive(children=(IntSlider(value=1, description='Min Deaths:', max=1123836, min=1, step=1000), IntSlider(…"
      ]
     },
     "metadata": {},
     "output_type": "display_data"
    },
    {
     "data": {
      "text/plain": [
       "<function __main__.create_map(min_deaths, max_deaths, min_vaccinations, max_vaccinations)>"
      ]
     },
     "execution_count": 1,
     "metadata": {},
     "output_type": "execute_result"
    }
   ],
   "source": [
    "# MAP CODE WITH SCROLLER\n",
    "\n",
    "\n",
    "import pandas as pd\n",
    "import folium\n",
    "from ipywidgets import interact, widgets\n",
    "\n",
    "# Load datasets\n",
    "df_confirmed_cases = pd.read_csv(\"time_series_covid19_confirmed_US.csv\")\n",
    "df_deaths = pd.read_csv(\"time_series_covid19_deaths_US.csv\")\n",
    "df_vaccinations = pd.read_csv(\"us_state_vaccinations.csv\")\n",
    "\n",
    "# Function to create map with markers\n",
    "def create_map(min_deaths, max_deaths, min_vaccinations, max_vaccinations):\n",
    "    # Create a Folium map\n",
    "    m = folium.Map(location=[37.0902, -95.7129], zoom_start=4)\n",
    "\n",
    "    # Convert total_vaccinations to numeric\n",
    "    df_vaccinations['total_vaccinations'] = pd.to_numeric(df_vaccinations['total_vaccinations'], errors='coerce')\n",
    "\n",
    "    # Add markers for each state based on the filter criteria\n",
    "    for index, row in df_deaths.iterrows():\n",
    "        total_deaths = row.iloc[12:].sum()\n",
    "        total_vaccinations = df_vaccinations[df_vaccinations['location'] == row['Province_State']]['total_vaccinations'].max()\n",
    "\n",
    "        if pd.notnull(total_vaccinations):  # Check if total_vaccinations is not null\n",
    "            if min_deaths <= total_deaths <= max_deaths and min_vaccinations <= total_vaccinations <= max_vaccinations:\n",
    "                # Get coordinates\n",
    "                lat = row['Lat']\n",
    "                lon = row['Long_']\n",
    "\n",
    "                # Create marker with popup\n",
    "                popup_html = f\"<b>Location:</b> {row['Combined_Key']}<br>\"\n",
    "                popup_html += f\"<b>Total Deaths:</b> {total_deaths}<br>\"\n",
    "                popup_html += f\"<b>Total Vaccinations:</b> {total_vaccinations}<br>\"\n",
    "                popup_html += f\"<b>Other aspects:</b> ...<br>\"  # Add other aspects as needed\n",
    "\n",
    "                folium.Marker([lat, lon], popup=folium.Popup(popup_html, parse_html=True)).add_to(m)\n",
    "\n",
    "    return m\n",
    "\n",
    "# Define the range for deaths and vaccinations\n",
    "min_deaths = df_deaths.iloc[:, 12:].sum().min()\n",
    "max_deaths = df_deaths.iloc[:, 12:].sum().max()\n",
    "min_vaccinations = df_vaccinations['total_vaccinations'].min()\n",
    "max_vaccinations = df_vaccinations['total_vaccinations'].max()\n",
    "\n",
    "# Create the interactive map\n",
    "interact(create_map, \n",
    "         min_deaths=widgets.IntSlider(min=min_deaths, max=max_deaths, step=1000, value=min_deaths, description='Min Deaths:'),\n",
    "         max_deaths=widgets.IntSlider(min=min_deaths, max=max_deaths, step=1000, value=max_deaths, description='Max Deaths:'),\n",
    "         min_vaccinations=widgets.IntSlider(min=min_vaccinations, max=max_vaccinations, step=1000, value=min_vaccinations, description='Min Vaccinations:'),\n",
    "         max_vaccinations=widgets.IntSlider(min=min_vaccinations, max=max_vaccinations, step=1000, value=max_vaccinations, description='Max Vaccinations:')\n",
    "        )\n"
   ]
  }
 ],
 "metadata": {
  "kernelspec": {
   "display_name": "Python 3",
   "language": "python",
   "name": "python3"
  },
  "language_info": {
   "codemirror_mode": {
    "name": "ipython",
    "version": 3
   },
   "file_extension": ".py",
   "mimetype": "text/x-python",
   "name": "python",
   "nbconvert_exporter": "python",
   "pygments_lexer": "ipython3",
   "version": "3.11.6"
  }
 },
 "nbformat": 4,
 "nbformat_minor": 2
}
