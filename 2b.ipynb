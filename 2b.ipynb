{
 "cells": [
  {
   "cell_type": "code",
   "execution_count": 1,
   "metadata": {},
   "outputs": [
    {
     "name": "stderr",
     "output_type": "stream",
     "text": [
      "C:\\Users\\shubh\\AppData\\Local\\Temp\\ipykernel_6584\\1662815981.py:2: DeprecationWarning: \n",
      "Pyarrow will become a required dependency of pandas in the next major release of pandas (pandas 3.0),\n",
      "(to allow more performant data types, such as the Arrow string type, and better interoperability with other libraries)\n",
      "but was not found to be installed on your system.\n",
      "If this would cause problems for you,\n",
      "please provide us feedback at https://github.com/pandas-dev/pandas/issues/54466\n",
      "        \n",
      "  import pandas as pd\n"
     ]
    }
   ],
   "source": [
    "import numpy as np\n",
    "import pandas as pd"
   ]
  },
  {
   "cell_type": "code",
   "execution_count": 2,
   "metadata": {},
   "outputs": [],
   "source": [
    "df_confirmed_cases = pd.read_csv(\"time_series_covid19_confirmed_US.csv\")\n",
    "\n",
    "df_deaths = pd.read_csv(\"time_series_covid19_deaths_US.csv\")\n",
    "\n",
    "df_vaccinations = pd.read_csv(\"us_state_vaccinations.csv\")"
   ]
  },
  {
   "cell_type": "code",
   "execution_count": 3,
   "metadata": {},
   "outputs": [
    {
     "name": "stdout",
     "output_type": "stream",
     "text": [
      "        UID iso2 iso3  code3    FIPS   Admin2 Province_State Country_Region  \\\n",
      "0  84001001   US  USA    840  1001.0  Autauga        Alabama             US   \n",
      "1  84001003   US  USA    840  1003.0  Baldwin        Alabama             US   \n",
      "2  84001005   US  USA    840  1005.0  Barbour        Alabama             US   \n",
      "3  84001007   US  USA    840  1007.0     Bibb        Alabama             US   \n",
      "4  84001009   US  USA    840  1009.0   Blount        Alabama             US   \n",
      "\n",
      "         Lat      Long_  ... 2/28/23  3/1/23  3/2/23  3/3/23  3/4/23  3/5/23  \\\n",
      "0  32.539527 -86.644082  ...   19732   19759   19759   19759   19759   19759   \n",
      "1  30.727750 -87.722071  ...   69641   69767   69767   69767   69767   69767   \n",
      "2  31.868263 -85.387129  ...    7451    7474    7474    7474    7474    7474   \n",
      "3  32.996421 -87.125115  ...    8067    8087    8087    8087    8087    8087   \n",
      "4  33.982109 -86.567906  ...   18616   18673   18673   18673   18673   18673   \n",
      "\n",
      "   3/6/23  3/7/23  3/8/23  3/9/23  \n",
      "0   19759   19759   19790   19790  \n",
      "1   69767   69767   69860   69860  \n",
      "2    7474    7474    7485    7485  \n",
      "3    8087    8087    8091    8091  \n",
      "4   18673   18673   18704   18704  \n",
      "\n",
      "[5 rows x 1154 columns]\n"
     ]
    }
   ],
   "source": [
    "print(df_confirmed_cases.head())"
   ]
  },
  {
   "cell_type": "code",
   "execution_count": 4,
   "metadata": {},
   "outputs": [
    {
     "name": "stdout",
     "output_type": "stream",
     "text": [
      "        UID iso2 iso3  code3    FIPS   Admin2 Province_State Country_Region  \\\n",
      "0  84001001   US  USA    840  1001.0  Autauga        Alabama             US   \n",
      "1  84001003   US  USA    840  1003.0  Baldwin        Alabama             US   \n",
      "2  84001005   US  USA    840  1005.0  Barbour        Alabama             US   \n",
      "3  84001007   US  USA    840  1007.0     Bibb        Alabama             US   \n",
      "4  84001009   US  USA    840  1009.0   Blount        Alabama             US   \n",
      "\n",
      "         Lat      Long_  ... 2/28/23  3/1/23  3/2/23  3/3/23  3/4/23  3/5/23  \\\n",
      "0  32.539527 -86.644082  ...     230     232     232     232     232     232   \n",
      "1  30.727750 -87.722071  ...     724     726     726     726     726     726   \n",
      "2  31.868263 -85.387129  ...     103     103     103     103     103     103   \n",
      "3  32.996421 -87.125115  ...     109     109     109     109     109     109   \n",
      "4  33.982109 -86.567906  ...     261     261     261     261     261     261   \n",
      "\n",
      "   3/6/23  3/7/23  3/8/23  3/9/23  \n",
      "0     232     232     232     232  \n",
      "1     726     726     727     727  \n",
      "2     103     103     103     103  \n",
      "3     109     109     109     109  \n",
      "4     261     261     261     261  \n",
      "\n",
      "[5 rows x 1155 columns]\n"
     ]
    }
   ],
   "source": [
    "print(df_deaths.head())"
   ]
  },
  {
   "cell_type": "code",
   "execution_count": 5,
   "metadata": {},
   "outputs": [
    {
     "name": "stdout",
     "output_type": "stream",
     "text": [
      "         date location  total_vaccinations  total_distributed  \\\n",
      "0  2021-01-12  Alabama             78134.0           377025.0   \n",
      "1  2021-01-13  Alabama             84040.0           378975.0   \n",
      "2  2021-01-14  Alabama             92300.0           435350.0   \n",
      "3  2021-01-15  Alabama            100567.0           444650.0   \n",
      "4  2021-01-16  Alabama                 NaN                NaN   \n",
      "\n",
      "   people_vaccinated  people_fully_vaccinated_per_hundred  \\\n",
      "0            70861.0                                 0.15   \n",
      "1            74792.0                                 0.19   \n",
      "2            80480.0                                  NaN   \n",
      "3            86956.0                                 0.28   \n",
      "4                NaN                                  NaN   \n",
      "\n",
      "   total_vaccinations_per_hundred  people_fully_vaccinated  \\\n",
      "0                            1.59                   7270.0   \n",
      "1                            1.71                   9245.0   \n",
      "2                            1.88                      NaN   \n",
      "3                            2.05                  13488.0   \n",
      "4                             NaN                      NaN   \n",
      "\n",
      "   people_vaccinated_per_hundred  distributed_per_hundred  \\\n",
      "0                           1.45                     7.69   \n",
      "1                           1.53                     7.73   \n",
      "2                           1.64                     8.88   \n",
      "3                           1.77                     9.07   \n",
      "4                            NaN                      NaN   \n",
      "\n",
      "   daily_vaccinations_raw  daily_vaccinations  daily_vaccinations_per_million  \\\n",
      "0                     NaN                 NaN                             NaN   \n",
      "1                  5906.0              5906.0                          1205.0   \n",
      "2                  8260.0              7083.0                          1445.0   \n",
      "3                  8267.0              7478.0                          1525.0   \n",
      "4                     NaN              7498.0                          1529.0   \n",
      "\n",
      "   share_doses_used  total_boosters  total_boosters_per_hundred  \n",
      "0             0.207             NaN                         NaN  \n",
      "1             0.222             NaN                         NaN  \n",
      "2             0.212             NaN                         NaN  \n",
      "3             0.226             NaN                         NaN  \n",
      "4               NaN             NaN                         NaN  \n"
     ]
    }
   ],
   "source": [
    "print(df_vaccinations.head())"
   ]
  },
  {
   "cell_type": "code",
   "execution_count": 6,
   "metadata": {},
   "outputs": [
    {
     "name": "stdout",
     "output_type": "stream",
     "text": [
      "              Province_State  Total_Cases  Total_Deaths\n",
      "0                    Alabama    872756073      13398261\n",
      "1                     Alaska    153011898        751555\n",
      "2             American Samoa      2608837         10804\n",
      "3                    Arizona   1330372436      20789702\n",
      "4                   Arkansas    549955573       7721989\n",
      "5                 California   6166190335      65490302\n",
      "6                   Colorado    922394521       8942186\n",
      "7                Connecticut    507631287       8911110\n",
      "8                   Delaware    171886464       2089142\n",
      "9           Diamond Princess        53306             0\n",
      "10      District of Columbia     90279276       1140001\n",
      "11                   Florida   3978357707      51475342\n",
      "12                   Georgia   1698658727      26228841\n",
      "13            Grand Princess       111231          3209\n",
      "14                      Guam     27172745        232819\n",
      "15                    Hawaii    153864444        922359\n",
      "16                     Idaho    292218765       3184340\n",
      "17                  Illinois   2122240785      28240376\n",
      "18                   Indiana   1123252371      16571222\n",
      "19                      Iowa    520990808       6801602\n",
      "20                    Kansas    503378071       6010896\n",
      "21                  Kentucky    844738885       9906514\n",
      "22                 Louisiana    827336792      12995598\n",
      "23                     Maine    143770501       1420548\n",
      "24                  Maryland    704076983      10814209\n",
      "25             Massachusetts   1133764968      16471102\n",
      "26                  Michigan   1561076712      25546398\n",
      "27                 Minnesota    941058065       9098311\n",
      "28               Mississippi    531428221       8912386\n",
      "29                  Missouri    957391365      13333128\n",
      "30                   Montana    178169518       2192341\n",
      "31                  Nebraska    319710682       2894293\n",
      "32                    Nevada    488235227       7248953\n",
      "33             New Hampshire    184973185       1734980\n",
      "34                New Jersey   1536872925      28101090\n",
      "35                New Mexico    341840961       5263145\n",
      "36                  New York   3392006819      58121236\n",
      "37            North Carolina   1726912452      16746947\n",
      "38              North Dakota    161407970       1670390\n",
      "39  Northern Mariana Islands      5153291         16895\n",
      "40                      Ohio   1765525036      26072614\n",
      "41                  Oklahoma    690635691       9954884\n",
      "42                    Oregon    450276185       4727836\n",
      "43              Pennsylvania   1836846159      31912144\n",
      "44               Puerto Rico    400801041       3143166\n",
      "45              Rhode Island    237785076       2820118\n",
      "46            South Carolina    962485826      12198207\n",
      "47              South Dakota    163635868       2112228\n",
      "48                 Tennessee   1350593871      16954495\n",
      "49                     Texas   4566537657      61302166\n",
      "50                      Utah    610617473       3120149\n",
      "51                   Vermont     68003350        421227\n",
      "52            Virgin Islands     10749871         71105\n",
      "53                  Virginia   1127963803      13755116\n",
      "54                Washington    924913617       8680526\n",
      "55             West Virginia    312093419       4306523\n",
      "56                 Wisconsin   1065102633       9781470\n",
      "57                   Wyoming    101470234       1136735\n"
     ]
    }
   ],
   "source": [
    "# Calculate total cases and deaths for each province\n",
    "total_cases_by_province = df_confirmed_cases.groupby('Province_State').sum().iloc[:, 11:].sum(axis=1)\n",
    "total_deaths_by_province = df_deaths.groupby('Province_State').sum().iloc[:, 11:].sum(axis=1)\n",
    "\n",
    "# Create a DataFrame to store the results\n",
    "df_total_cases_deaths_by_province = pd.DataFrame({'Total_Cases': total_cases_by_province, 'Total_Deaths': total_deaths_by_province})\n",
    "\n",
    "# Reset index to make 'Province_State' a column\n",
    "df_total_cases_deaths_by_province.reset_index(inplace=True)\n",
    "\n",
    "# Display the resulting DataFrame\n",
    "print(df_total_cases_deaths_by_province)\n"
   ]
  },
  {
   "cell_type": "code",
   "execution_count": 13,
   "metadata": {},
   "outputs": [],
   "source": [
    "# import ipywidgets as widgets\n",
    "# from IPython.display import display\n",
    "\n",
    "# # Function to calculate total cases within the specified latitude and longitude range\n",
    "# def calculate_total_cases_within_range(min_lat, max_lat, min_long, max_long):\n",
    "#     # Filter DataFrame based on latitude and longitude range\n",
    "#     filtered_df = df_confirmed_cases[(df_confirmed_cases['Lat'] >= min_lat) & (df_confirmed_cases['Lat'] <= max_lat) & \n",
    "#                                      (df_confirmed_cases['Long_'] >= min_long) & (df_confirmed_cases['Long_'] <= max_long)]\n",
    "    \n",
    "#     # Calculate total cases for each province within the filtered range\n",
    "#     total_cases_by_province = filtered_df.groupby('Province_State').sum().iloc[:, 11:].sum(axis=1)\n",
    "    \n",
    "#     # Create a DataFrame to store the results\n",
    "#     df_total_cases_within_range = pd.DataFrame({'Province_State': total_cases_by_province.index, 'Total_Cases': total_cases_by_province})\n",
    "    \n",
    "#     # Reset index to make 'Province_State' a column\n",
    "#     df_total_cases_within_range.reset_index(drop=True, inplace=True)\n",
    "    \n",
    "#     # Display the resulting DataFrame\n",
    "#     display(df_total_cases_within_range)\n",
    "\n",
    "# # Define sliders for latitude and longitude range\n",
    "# min_lat_slider = widgets.FloatSlider(value=-90.0, min=-90.0, max=90.0, step=0.1, description='Min Latitude:')\n",
    "# max_lat_slider = widgets.FloatSlider(value=90.0, min=-90.0, max=90.0, step=0.1, description='Max Latitude:')\n",
    "# min_long_slider = widgets.FloatSlider(value=-180.0, min=-180.0, max=180.0, step=0.1, description='Min Longitude:')\n",
    "# max_long_slider = widgets.FloatSlider(value=180.0, min=-180.0, max=180.0, step=0.1, description='Max Longitude:')\n",
    "\n",
    "# # Create a button to trigger the calculation\n",
    "# calculate_button = widgets.Button(description='Calculate Total Cases')\n",
    "\n",
    "# # Define function to handle button click event\n",
    "# def on_button_click(b):\n",
    "#     calculate_total_cases_within_range(min_lat_slider.value, max_lat_slider.value, min_long_slider.value, max_long_slider.value)\n",
    "\n",
    "# # Attach button click event handler\n",
    "# calculate_button.on_click(on_button_click)\n",
    "\n",
    "# # Display the sliders and button\n",
    "# display(min_lat_slider, max_lat_slider, min_long_slider, max_long_slider, calculate_button)\n"
   ]
  },
  {
   "cell_type": "code",
   "execution_count": 12,
   "metadata": {},
   "outputs": [
    {
     "data": {
      "application/vnd.jupyter.widget-view+json": {
       "model_id": "d7837b44f3e14aad8a349cd83cbf18ba",
       "version_major": 2,
       "version_minor": 0
      },
      "text/plain": [
       "FloatSlider(value=-14.271, description='Min Latitude:', max=69.31479216, min=-14.271)"
      ]
     },
     "metadata": {},
     "output_type": "display_data"
    },
    {
     "data": {
      "application/vnd.jupyter.widget-view+json": {
       "model_id": "0b04d06c67d744ef8834d7b5341d9585",
       "version_major": 2,
       "version_minor": 0
      },
      "text/plain": [
       "FloatSlider(value=69.31479216, description='Max Latitude:', max=69.31479216, min=-14.271)"
      ]
     },
     "metadata": {},
     "output_type": "display_data"
    },
    {
     "data": {
      "application/vnd.jupyter.widget-view+json": {
       "model_id": "f59a02a678b946b6b7b6825bb9700c06",
       "version_major": 2,
       "version_minor": 0
      },
      "text/plain": [
       "FloatSlider(value=-174.1596, description='Min Longitude:', max=145.6739, min=-174.1596)"
      ]
     },
     "metadata": {},
     "output_type": "display_data"
    },
    {
     "data": {
      "application/vnd.jupyter.widget-view+json": {
       "model_id": "9333cc7952bb41fa99d433d4ae5ec6c9",
       "version_major": 2,
       "version_minor": 0
      },
      "text/plain": [
       "FloatSlider(value=145.6739, description='Max Longitude:', max=145.6739, min=-174.1596)"
      ]
     },
     "metadata": {},
     "output_type": "display_data"
    },
    {
     "data": {
      "application/vnd.jupyter.widget-view+json": {
       "model_id": "3d1f354bb88149878875954232a65290",
       "version_major": 2,
       "version_minor": 0
      },
      "text/plain": [
       "Button(description='Calculate Total Cases', style=ButtonStyle())"
      ]
     },
     "metadata": {},
     "output_type": "display_data"
    },
    {
     "data": {
      "text/html": [
       "<div>\n",
       "<style scoped>\n",
       "    .dataframe tbody tr th:only-of-type {\n",
       "        vertical-align: middle;\n",
       "    }\n",
       "\n",
       "    .dataframe tbody tr th {\n",
       "        vertical-align: top;\n",
       "    }\n",
       "\n",
       "    .dataframe thead th {\n",
       "        text-align: right;\n",
       "    }\n",
       "</style>\n",
       "<table border=\"1\" class=\"dataframe\">\n",
       "  <thead>\n",
       "    <tr style=\"text-align: right;\">\n",
       "      <th></th>\n",
       "      <th>Province_State</th>\n",
       "      <th>Total_Cases</th>\n",
       "    </tr>\n",
       "  </thead>\n",
       "  <tbody>\n",
       "    <tr>\n",
       "      <th>0</th>\n",
       "      <td>Alabama</td>\n",
       "      <td>872756073</td>\n",
       "    </tr>\n",
       "    <tr>\n",
       "      <th>1</th>\n",
       "      <td>Alaska</td>\n",
       "      <td>505868</td>\n",
       "    </tr>\n",
       "    <tr>\n",
       "      <th>2</th>\n",
       "      <td>Arizona</td>\n",
       "      <td>1330372436</td>\n",
       "    </tr>\n",
       "    <tr>\n",
       "      <th>3</th>\n",
       "      <td>Arkansas</td>\n",
       "      <td>549955573</td>\n",
       "    </tr>\n",
       "    <tr>\n",
       "      <th>4</th>\n",
       "      <td>California</td>\n",
       "      <td>6166190335</td>\n",
       "    </tr>\n",
       "    <tr>\n",
       "      <th>5</th>\n",
       "      <td>Colorado</td>\n",
       "      <td>922394521</td>\n",
       "    </tr>\n",
       "    <tr>\n",
       "      <th>6</th>\n",
       "      <td>Connecticut</td>\n",
       "      <td>507631287</td>\n",
       "    </tr>\n",
       "    <tr>\n",
       "      <th>7</th>\n",
       "      <td>Delaware</td>\n",
       "      <td>171886464</td>\n",
       "    </tr>\n",
       "    <tr>\n",
       "      <th>8</th>\n",
       "      <td>Diamond Princess</td>\n",
       "      <td>53306</td>\n",
       "    </tr>\n",
       "    <tr>\n",
       "      <th>9</th>\n",
       "      <td>District of Columbia</td>\n",
       "      <td>90279276</td>\n",
       "    </tr>\n",
       "    <tr>\n",
       "      <th>10</th>\n",
       "      <td>Florida</td>\n",
       "      <td>3978357707</td>\n",
       "    </tr>\n",
       "    <tr>\n",
       "      <th>11</th>\n",
       "      <td>Georgia</td>\n",
       "      <td>1698658727</td>\n",
       "    </tr>\n",
       "    <tr>\n",
       "      <th>12</th>\n",
       "      <td>Grand Princess</td>\n",
       "      <td>111231</td>\n",
       "    </tr>\n",
       "    <tr>\n",
       "      <th>13</th>\n",
       "      <td>Hawaii</td>\n",
       "      <td>3905416</td>\n",
       "    </tr>\n",
       "    <tr>\n",
       "      <th>14</th>\n",
       "      <td>Idaho</td>\n",
       "      <td>292218765</td>\n",
       "    </tr>\n",
       "    <tr>\n",
       "      <th>15</th>\n",
       "      <td>Illinois</td>\n",
       "      <td>2122240785</td>\n",
       "    </tr>\n",
       "    <tr>\n",
       "      <th>16</th>\n",
       "      <td>Indiana</td>\n",
       "      <td>1123252371</td>\n",
       "    </tr>\n",
       "    <tr>\n",
       "      <th>17</th>\n",
       "      <td>Iowa</td>\n",
       "      <td>520990808</td>\n",
       "    </tr>\n",
       "    <tr>\n",
       "      <th>18</th>\n",
       "      <td>Kansas</td>\n",
       "      <td>503378071</td>\n",
       "    </tr>\n",
       "    <tr>\n",
       "      <th>19</th>\n",
       "      <td>Kentucky</td>\n",
       "      <td>844738885</td>\n",
       "    </tr>\n",
       "    <tr>\n",
       "      <th>20</th>\n",
       "      <td>Louisiana</td>\n",
       "      <td>827336792</td>\n",
       "    </tr>\n",
       "    <tr>\n",
       "      <th>21</th>\n",
       "      <td>Maine</td>\n",
       "      <td>143770501</td>\n",
       "    </tr>\n",
       "    <tr>\n",
       "      <th>22</th>\n",
       "      <td>Maryland</td>\n",
       "      <td>704076983</td>\n",
       "    </tr>\n",
       "    <tr>\n",
       "      <th>23</th>\n",
       "      <td>Massachusetts</td>\n",
       "      <td>1133764968</td>\n",
       "    </tr>\n",
       "    <tr>\n",
       "      <th>24</th>\n",
       "      <td>Michigan</td>\n",
       "      <td>1561076712</td>\n",
       "    </tr>\n",
       "    <tr>\n",
       "      <th>25</th>\n",
       "      <td>Minnesota</td>\n",
       "      <td>941058065</td>\n",
       "    </tr>\n",
       "    <tr>\n",
       "      <th>26</th>\n",
       "      <td>Mississippi</td>\n",
       "      <td>531428221</td>\n",
       "    </tr>\n",
       "    <tr>\n",
       "      <th>27</th>\n",
       "      <td>Missouri</td>\n",
       "      <td>957391365</td>\n",
       "    </tr>\n",
       "    <tr>\n",
       "      <th>28</th>\n",
       "      <td>Montana</td>\n",
       "      <td>178169518</td>\n",
       "    </tr>\n",
       "    <tr>\n",
       "      <th>29</th>\n",
       "      <td>Nebraska</td>\n",
       "      <td>319710682</td>\n",
       "    </tr>\n",
       "    <tr>\n",
       "      <th>30</th>\n",
       "      <td>Nevada</td>\n",
       "      <td>488235227</td>\n",
       "    </tr>\n",
       "    <tr>\n",
       "      <th>31</th>\n",
       "      <td>New Hampshire</td>\n",
       "      <td>184973185</td>\n",
       "    </tr>\n",
       "    <tr>\n",
       "      <th>32</th>\n",
       "      <td>New Jersey</td>\n",
       "      <td>1536872925</td>\n",
       "    </tr>\n",
       "    <tr>\n",
       "      <th>33</th>\n",
       "      <td>New Mexico</td>\n",
       "      <td>341840961</td>\n",
       "    </tr>\n",
       "    <tr>\n",
       "      <th>34</th>\n",
       "      <td>New York</td>\n",
       "      <td>3392006819</td>\n",
       "    </tr>\n",
       "    <tr>\n",
       "      <th>35</th>\n",
       "      <td>North Carolina</td>\n",
       "      <td>1726912452</td>\n",
       "    </tr>\n",
       "    <tr>\n",
       "      <th>36</th>\n",
       "      <td>North Dakota</td>\n",
       "      <td>161407970</td>\n",
       "    </tr>\n",
       "    <tr>\n",
       "      <th>37</th>\n",
       "      <td>Ohio</td>\n",
       "      <td>1765525036</td>\n",
       "    </tr>\n",
       "    <tr>\n",
       "      <th>38</th>\n",
       "      <td>Oklahoma</td>\n",
       "      <td>690635691</td>\n",
       "    </tr>\n",
       "    <tr>\n",
       "      <th>39</th>\n",
       "      <td>Oregon</td>\n",
       "      <td>450276185</td>\n",
       "    </tr>\n",
       "    <tr>\n",
       "      <th>40</th>\n",
       "      <td>Pennsylvania</td>\n",
       "      <td>1836846159</td>\n",
       "    </tr>\n",
       "    <tr>\n",
       "      <th>41</th>\n",
       "      <td>Puerto Rico</td>\n",
       "      <td>400801041</td>\n",
       "    </tr>\n",
       "    <tr>\n",
       "      <th>42</th>\n",
       "      <td>Rhode Island</td>\n",
       "      <td>237785076</td>\n",
       "    </tr>\n",
       "    <tr>\n",
       "      <th>43</th>\n",
       "      <td>South Carolina</td>\n",
       "      <td>962485826</td>\n",
       "    </tr>\n",
       "    <tr>\n",
       "      <th>44</th>\n",
       "      <td>South Dakota</td>\n",
       "      <td>163635868</td>\n",
       "    </tr>\n",
       "    <tr>\n",
       "      <th>45</th>\n",
       "      <td>Tennessee</td>\n",
       "      <td>1350593871</td>\n",
       "    </tr>\n",
       "    <tr>\n",
       "      <th>46</th>\n",
       "      <td>Texas</td>\n",
       "      <td>4566537657</td>\n",
       "    </tr>\n",
       "    <tr>\n",
       "      <th>47</th>\n",
       "      <td>Utah</td>\n",
       "      <td>610617473</td>\n",
       "    </tr>\n",
       "    <tr>\n",
       "      <th>48</th>\n",
       "      <td>Vermont</td>\n",
       "      <td>68003350</td>\n",
       "    </tr>\n",
       "    <tr>\n",
       "      <th>49</th>\n",
       "      <td>Virgin Islands</td>\n",
       "      <td>10749871</td>\n",
       "    </tr>\n",
       "    <tr>\n",
       "      <th>50</th>\n",
       "      <td>Virginia</td>\n",
       "      <td>1127963803</td>\n",
       "    </tr>\n",
       "    <tr>\n",
       "      <th>51</th>\n",
       "      <td>Washington</td>\n",
       "      <td>924913617</td>\n",
       "    </tr>\n",
       "    <tr>\n",
       "      <th>52</th>\n",
       "      <td>West Virginia</td>\n",
       "      <td>312093419</td>\n",
       "    </tr>\n",
       "    <tr>\n",
       "      <th>53</th>\n",
       "      <td>Wisconsin</td>\n",
       "      <td>1065102633</td>\n",
       "    </tr>\n",
       "    <tr>\n",
       "      <th>54</th>\n",
       "      <td>Wyoming</td>\n",
       "      <td>101470234</td>\n",
       "    </tr>\n",
       "  </tbody>\n",
       "</table>\n",
       "</div>"
      ],
      "text/plain": [
       "          Province_State  Total_Cases\n",
       "0                Alabama    872756073\n",
       "1                 Alaska       505868\n",
       "2                Arizona   1330372436\n",
       "3               Arkansas    549955573\n",
       "4             California   6166190335\n",
       "5               Colorado    922394521\n",
       "6            Connecticut    507631287\n",
       "7               Delaware    171886464\n",
       "8       Diamond Princess        53306\n",
       "9   District of Columbia     90279276\n",
       "10               Florida   3978357707\n",
       "11               Georgia   1698658727\n",
       "12        Grand Princess       111231\n",
       "13                Hawaii      3905416\n",
       "14                 Idaho    292218765\n",
       "15              Illinois   2122240785\n",
       "16               Indiana   1123252371\n",
       "17                  Iowa    520990808\n",
       "18                Kansas    503378071\n",
       "19              Kentucky    844738885\n",
       "20             Louisiana    827336792\n",
       "21                 Maine    143770501\n",
       "22              Maryland    704076983\n",
       "23         Massachusetts   1133764968\n",
       "24              Michigan   1561076712\n",
       "25             Minnesota    941058065\n",
       "26           Mississippi    531428221\n",
       "27              Missouri    957391365\n",
       "28               Montana    178169518\n",
       "29              Nebraska    319710682\n",
       "30                Nevada    488235227\n",
       "31         New Hampshire    184973185\n",
       "32            New Jersey   1536872925\n",
       "33            New Mexico    341840961\n",
       "34              New York   3392006819\n",
       "35        North Carolina   1726912452\n",
       "36          North Dakota    161407970\n",
       "37                  Ohio   1765525036\n",
       "38              Oklahoma    690635691\n",
       "39                Oregon    450276185\n",
       "40          Pennsylvania   1836846159\n",
       "41           Puerto Rico    400801041\n",
       "42          Rhode Island    237785076\n",
       "43        South Carolina    962485826\n",
       "44          South Dakota    163635868\n",
       "45             Tennessee   1350593871\n",
       "46                 Texas   4566537657\n",
       "47                  Utah    610617473\n",
       "48               Vermont     68003350\n",
       "49        Virgin Islands     10749871\n",
       "50              Virginia   1127963803\n",
       "51            Washington    924913617\n",
       "52         West Virginia    312093419\n",
       "53             Wisconsin   1065102633\n",
       "54               Wyoming    101470234"
      ]
     },
     "metadata": {},
     "output_type": "display_data"
    }
   ],
   "source": [
    "import ipywidgets as widgets\n",
    "from IPython.display import display\n",
    "\n",
    "# Get minimum and maximum latitude and longitude values from the dataset\n",
    "min_lat_value = df_confirmed_cases['Lat'].min()\n",
    "max_lat_value = df_confirmed_cases['Lat'].max()\n",
    "min_long_value = df_confirmed_cases['Long_'].min()\n",
    "max_long_value = df_confirmed_cases['Long_'].max()\n",
    "\n",
    "# Function to calculate total cases within the specified latitude and longitude range\n",
    "def calculate_total_cases_within_range(min_lat, max_lat, min_long, max_long):\n",
    "    # Filter DataFrame based on latitude and longitude range\n",
    "    filtered_df = df_confirmed_cases[(df_confirmed_cases['Lat'] >= min_lat) & (df_confirmed_cases['Lat'] <= max_lat) & \n",
    "                                     (df_confirmed_cases['Long_'] >= min_long) & (df_confirmed_cases['Long_'] <= max_long)]\n",
    "    \n",
    "    # Calculate total cases for each province within the filtered range\n",
    "    total_cases_by_province = filtered_df.groupby('Province_State').sum().iloc[:, 11:].sum(axis=1)\n",
    "    \n",
    "    # Create a DataFrame to store the results\n",
    "    df_total_cases_within_range = pd.DataFrame({'Province_State': total_cases_by_province.index, 'Total_Cases': total_cases_by_province})\n",
    "    \n",
    "    # Reset index to make 'Province_State' a column\n",
    "    df_total_cases_within_range.reset_index(drop=True, inplace=True)\n",
    "    \n",
    "    # Display the resulting DataFrame\n",
    "    display(df_total_cases_within_range)\n",
    "\n",
    "# Define sliders for latitude and longitude range\n",
    "min_lat_slider = widgets.FloatSlider(value=min_lat_value, min=min_lat_value, max=max_lat_value, step=0.1, description='Min Latitude:')\n",
    "max_lat_slider = widgets.FloatSlider(value=max_lat_value, min=min_lat_value, max=max_lat_value, step=0.1, description='Max Latitude:')\n",
    "min_long_slider = widgets.FloatSlider(value=min_long_value, min=min_long_value, max=max_long_value, step=0.1, description='Min Longitude:')\n",
    "max_long_slider = widgets.FloatSlider(value=max_long_value, min=min_long_value, max=max_long_value, step=0.1, description='Max Longitude:')\n",
    "\n",
    "# Create a button to trigger the calculation\n",
    "calculate_button = widgets.Button(description='Calculate Total Cases')\n",
    "\n",
    "# Define function to handle button click event\n",
    "def on_button_click(b):\n",
    "    calculate_total_cases_within_range(min_lat_slider.value, max_lat_slider.value, min_long_slider.value, max_long_slider.value)\n",
    "\n",
    "# Attach button click event handler\n",
    "calculate_button.on_click(on_button_click)\n",
    "\n",
    "# Display the sliders and button\n",
    "display(min_lat_slider, max_lat_slider, min_long_slider, max_long_slider, calculate_button)\n",
    "\n"
   ]
  },
  {
   "cell_type": "code",
   "execution_count": 17,
   "metadata": {},
   "outputs": [
    {
     "data": {
      "application/vnd.jupyter.widget-view+json": {
       "model_id": "b4115cde37ce482bb7c91dc261dfe3ae",
       "version_major": 2,
       "version_minor": 0
      },
      "text/plain": [
       "FloatSlider(value=-14.271, description='Min Latitude:', max=69.31479216, min=-14.271)"
      ]
     },
     "metadata": {},
     "output_type": "display_data"
    },
    {
     "data": {
      "application/vnd.jupyter.widget-view+json": {
       "model_id": "6783595d5a91452db7e3eec7d41538fb",
       "version_major": 2,
       "version_minor": 0
      },
      "text/plain": [
       "FloatSlider(value=69.31479216, description='Max Latitude:', max=69.31479216, min=-14.271)"
      ]
     },
     "metadata": {},
     "output_type": "display_data"
    },
    {
     "data": {
      "application/vnd.jupyter.widget-view+json": {
       "model_id": "59a8ad2858e44e59881b0e89eebe3a07",
       "version_major": 2,
       "version_minor": 0
      },
      "text/plain": [
       "FloatSlider(value=-174.1596, description='Min Longitude:', max=145.6739, min=-174.1596)"
      ]
     },
     "metadata": {},
     "output_type": "display_data"
    },
    {
     "data": {
      "application/vnd.jupyter.widget-view+json": {
       "model_id": "ff9e81c27af445e6be176f0d67eb9ddb",
       "version_major": 2,
       "version_minor": 0
      },
      "text/plain": [
       "FloatSlider(value=145.6739, description='Max Longitude:', max=145.6739, min=-174.1596)"
      ]
     },
     "metadata": {},
     "output_type": "display_data"
    },
    {
     "data": {
      "application/vnd.jupyter.widget-view+json": {
       "model_id": "a5691e3e293c4560bda799a1a4ef08b0",
       "version_major": 2,
       "version_minor": 0
      },
      "text/plain": [
       "Button(description='Generate Heatmap', style=ButtonStyle())"
      ]
     },
     "metadata": {},
     "output_type": "display_data"
    },
    {
     "data": {
      "text/html": [
       "<div style=\"width:100%;\"><div style=\"position:relative;width:100%;height:0;padding-bottom:60%;\"><span style=\"color:#565656\">Make this Notebook Trusted to load map: File -> Trust Notebook</span><iframe srcdoc=\"&lt;!DOCTYPE html&gt;\n",
       "&lt;html&gt;\n",
       "&lt;head&gt;\n",
       "    \n",
       "    &lt;meta http-equiv=&quot;content-type&quot; content=&quot;text/html; charset=UTF-8&quot; /&gt;\n",
       "    \n",
       "        &lt;script&gt;\n",
       "            L_NO_TOUCH = false;\n",
       "            L_DISABLE_3D = false;\n",
       "        &lt;/script&gt;\n",
       "    \n",
       "    &lt;style&gt;html, body {width: 100%;height: 100%;margin: 0;padding: 0;}&lt;/style&gt;\n",
       "    &lt;style&gt;#map {position:absolute;top:0;bottom:0;right:0;left:0;}&lt;/style&gt;\n",
       "    &lt;script src=&quot;https://cdn.jsdelivr.net/npm/leaflet@1.9.3/dist/leaflet.js&quot;&gt;&lt;/script&gt;\n",
       "    &lt;script src=&quot;https://code.jquery.com/jquery-3.7.1.min.js&quot;&gt;&lt;/script&gt;\n",
       "    &lt;script src=&quot;https://cdn.jsdelivr.net/npm/bootstrap@5.2.2/dist/js/bootstrap.bundle.min.js&quot;&gt;&lt;/script&gt;\n",
       "    &lt;script src=&quot;https://cdnjs.cloudflare.com/ajax/libs/Leaflet.awesome-markers/2.0.2/leaflet.awesome-markers.js&quot;&gt;&lt;/script&gt;\n",
       "    &lt;link rel=&quot;stylesheet&quot; href=&quot;https://cdn.jsdelivr.net/npm/leaflet@1.9.3/dist/leaflet.css&quot;/&gt;\n",
       "    &lt;link rel=&quot;stylesheet&quot; href=&quot;https://cdn.jsdelivr.net/npm/bootstrap@5.2.2/dist/css/bootstrap.min.css&quot;/&gt;\n",
       "    &lt;link rel=&quot;stylesheet&quot; href=&quot;https://netdna.bootstrapcdn.com/bootstrap/3.0.0/css/bootstrap.min.css&quot;/&gt;\n",
       "    &lt;link rel=&quot;stylesheet&quot; href=&quot;https://cdn.jsdelivr.net/npm/@fortawesome/fontawesome-free@6.2.0/css/all.min.css&quot;/&gt;\n",
       "    &lt;link rel=&quot;stylesheet&quot; href=&quot;https://cdnjs.cloudflare.com/ajax/libs/Leaflet.awesome-markers/2.0.2/leaflet.awesome-markers.css&quot;/&gt;\n",
       "    &lt;link rel=&quot;stylesheet&quot; href=&quot;https://cdn.jsdelivr.net/gh/python-visualization/folium/folium/templates/leaflet.awesome.rotate.min.css&quot;/&gt;\n",
       "    \n",
       "            &lt;meta name=&quot;viewport&quot; content=&quot;width=device-width,\n",
       "                initial-scale=1.0, maximum-scale=1.0, user-scalable=no&quot; /&gt;\n",
       "            &lt;style&gt;\n",
       "                #map_6f01a541f6941179608d0fc6cebccd58 {\n",
       "                    position: relative;\n",
       "                    width: 100.0%;\n",
       "                    height: 100.0%;\n",
       "                    left: 0.0%;\n",
       "                    top: 0.0%;\n",
       "                }\n",
       "                .leaflet-container { font-size: 1rem; }\n",
       "            &lt;/style&gt;\n",
       "        \n",
       "    &lt;script src=&quot;https://cdn.jsdelivr.net/gh/python-visualization/folium@main/folium/templates/leaflet_heat.min.js&quot;&gt;&lt;/script&gt;\n",
       "&lt;/head&gt;\n",
       "&lt;body&gt;\n",
       "    \n",
       "    \n",
       "            &lt;div class=&quot;folium-map&quot; id=&quot;map_6f01a541f6941179608d0fc6cebccd58&quot; &gt;&lt;/div&gt;\n",
       "        \n",
       "&lt;/body&gt;\n",
       "&lt;script&gt;\n",
       "    \n",
       "    \n",
       "            var map_6f01a541f6941179608d0fc6cebccd58 = L.map(\n",
       "                &quot;map_6f01a541f6941179608d0fc6cebccd58&quot;,\n",
       "                {\n",
       "                    center: [-14.271, -73.55960000000002],\n",
       "                    crs: L.CRS.EPSG3857,\n",
       "                    zoom: 5,\n",
       "                    zoomControl: true,\n",
       "                    preferCanvas: false,\n",
       "                }\n",
       "            );\n",
       "\n",
       "            \n",
       "\n",
       "        \n",
       "    \n",
       "            var tile_layer_2416a9449ea3ed2aa9f8fb823fe0d7ec = L.tileLayer(\n",
       "                &quot;https://tile.openstreetmap.org/{z}/{x}/{y}.png&quot;,\n",
       "                {&quot;attribution&quot;: &quot;\\u0026copy; \\u003ca href=\\&quot;https://www.openstreetmap.org/copyright\\&quot;\\u003eOpenStreetMap\\u003c/a\\u003e contributors&quot;, &quot;detectRetina&quot;: false, &quot;maxNativeZoom&quot;: 19, &quot;maxZoom&quot;: 19, &quot;minZoom&quot;: 0, &quot;noWrap&quot;: false, &quot;opacity&quot;: 1, &quot;subdomains&quot;: &quot;abc&quot;, &quot;tms&quot;: false}\n",
       "            );\n",
       "        \n",
       "    \n",
       "            tile_layer_2416a9449ea3ed2aa9f8fb823fe0d7ec.addTo(map_6f01a541f6941179608d0fc6cebccd58);\n",
       "        \n",
       "    \n",
       "            var heat_map_57f64f822bd2d2cbf2f3a0f3b2b14b7e = L.heatLayer(\n",
       "                [[0.0, 0.0], [0.0, 0.0], [0.0, 0.0], [0.0, 0.0], [0.0, 0.0], [0.0, 0.0], [0.0, 0.0], [0.0, 0.0], [0.0, 0.0], [0.0, 0.0], [0.0, 0.0], [0.0, 0.0], [41.26809896, -73.3881171], [41.80283011, -72.73103891], [41.7937534, -73.2451475], [41.45949668, -72.53714864], [41.4080325, -72.93620426], [41.48896435, -72.10430976], [0.0, 0.0], [41.85853803, -72.3308481], [0.0, 0.0], [41.82972709, -71.98182316], [0.0, 0.0], [0.0, 0.0], [0.0, 0.0], [0.0, 0.0], [0.0, 0.0], [0.0, 0.0], [0.0, 0.0], [0.0, 0.0], [0.0, 0.0], [0.0, 0.0], [13.4443, 144.7937], [0.0, 0.0], [0.0, 0.0], [0.0, 0.0], [0.0, 0.0], [0.0, 0.0], [0.0, 0.0], [0.0, 0.0], [0.0, 0.0], [0.0, 0.0], [0.0, 0.0], [0.0, 0.0], [0.0, 0.0], [0.0, 0.0], [0.0, 0.0], [0.0, 0.0], [0.0, 0.0], [44.1664747, -70.20380627], [46.65926321, -68.59841248], [43.8370751, -70.37226999], [44.97330019, -70.44381045], [44.59816444, -68.38401854], [44.40759555, -69.76738544], [44.11486325, -69.10529169], [44.05996956, -69.54227124], [0.0, 0.0], [44.49952995, -70.75682123], [45.40194593, -68.65020455], [45.83839062, -69.2860223], [43.95415864, -69.85074999], [45.51229767, -69.95995554], [0.0, 0.0], [44.4858305, -69.12061935], [45.01607142, -67.62813524], [43.47808377, -70.71052375], [0.0, 0.0], [0.0, 0.0], [41.72980578, -70.28854339], [42.37428441, -73.20524838], [41.79228404, -71.10872211], [41.40674725, -70.68763497], [41.40674725, -70.68763497], [42.6687626, -70.94687179], [42.58119713, -72.58602547], [42.13440424, -72.63235561], [42.33997957, -72.65898478], [42.48607732, -71.39049229], [41.2942019, -70.08774729], [42.16073095, -71.20530408], [0.0, 0.0], [41.94070556, -70.80802823], [42.3279514, -71.07850442], [0.0, 0.0], [42.35026951, -71.90493363], [0.0, 0.0], [0.0, 0.0], [0.0, 0.0], [0.0, 0.0], [0.0, 0.0], [0.0, 0.0], [0.0, 0.0], [0.0, 0.0], [0.0, 0.0], [0.0, 0.0], [0.0, 0.0], [0.0, 0.0], [0.0, 0.0], [0.0, 0.0], [0.0, 0.0], [0.0, 0.0], [43.51637314, -71.41684235], [43.87498583, -71.20430216], [42.92015988, -72.25311043], [44.69063265, -71.30633239], [43.93779815, -71.82057197], [42.91537785, -71.7200253], [43.29662971, -71.6811573], [0.0, 0.0], [42.98499744, -71.12883377], [43.291833, -71.02336013], [43.36094111, -72.22203125], [0.0, 0.0], [0.0, 0.0], [0.0, 0.0], [0.0, 0.0], [0.0, 0.0], [0.0, 0.0], [42.71348136, -73.51089874], [40.88320119, -72.8012172], [0.0, 0.0], [43.31153794, -73.43043448], [0.0, 0.0], [0.0, 0.0], [0.0, 0.0], [0.0, 0.0], [15.0979, 145.6739], [0.0, 0.0], [0.0, 0.0], [0.0, 0.0], [0.0, 0.0], [0.0, 0.0], [0.0, 0.0], [0.0, 0.0], [0.0, 0.0], [18.180117000000006, -66.754367], [18.360255, -67.17513100000001], [18.459681, -67.12081500000001], [18.251619, -66.126806], [18.131361, -66.264131], [18.287985, -67.120611], [18.406631, -66.675077], [17.998457000000005, -66.056546], [18.445533, -66.56053100000001], [18.201592, -66.30963], [18.34946, -66.168435], [18.040993, -67.154391], [18.211615, -66.050779], [18.418578, -66.860206], [18.328802, -65.887612], [18.374986, -65.95683100000001], [18.437269, -66.14330600000001], [18.102851, -66.14914], [18.251818, -65.666416], [18.28885, -66.516475], [18.173559, -66.161179], [18.097597, -66.36014], [18.224687, -66.221622], [18.304264, -66.327738], [18.31586, -65.28813000000001], [18.436115, -66.278669], [18.318373, -65.666866], [18.373715, -66.560488], [17.982429, -66.91964300000001], [18.007516, -66.13390799999999], [18.039942, -66.79186], [18.345114, -66.11452299999999], [18.266461, -65.97970500000001], [18.410928, -66.79632600000001], [18.134532, -67.113972], [18.145211, -65.810174], [18.44981, -67.005093], [18.211446, -66.58878], [18.050764, -66.49458100000001], [18.223793, -65.909109], [18.011661, -67.040585], [18.269035, -66.867236], [18.23679, -66.98362], [18.187527, -65.86946800000001], [18.425688, -65.89943000000001], [18.342114, -65.72509699999999], [18.420473, -66.490461], [18.171795, -66.942126], [18.017889, -65.922235], [18.175457, -67.336525], [18.377805, -67.080952], [18.316963, -66.420383], [18.230637, -65.753897], [18.288019, -66.252703], [18.215046, -66.433604], [0.0, 0.0], [18.03174, -66.012242], [18.059645, -66.721572], [18.059498, -66.613748], [18.439692, -66.926113], [18.335443, -67.23174], [18.346329, -65.813742], [18.08282, -66.943758], [18.010386999999994, -66.256592], [18.111484, -67.03858100000001], [18.386933, -66.061128], [18.147987, -65.976392], [18.328646, -66.971214], [17.994525, -66.388913], [18.362406, -66.246616], [18.431446, -66.213553], [18.336159, -65.99888399999999], [0.0, 0.0], [18.271214, -66.702984], [18.409346, -66.33725], [18.428262, -66.397924], [18.123276, -65.44097099999999], [18.127951, -66.473115], [18.070399, -65.896289], [18.080374, -66.858814], [41.71018079, -71.28652315], [41.67106337, -71.57641596], [41.5642026, -71.26569799], [0.0, 0.0], [41.87064746, -71.57753536], [0.0, 0.0], [41.45961631, -71.61435303], [0.0, 0.0], [0.0, 0.0], [0.0, 0.0], [0.0, 0.0], [0.0, 0.0], [0.0, 0.0], [0.0, 0.0], [0.0, 0.0], [0.0, 0.0], [0.0, 0.0], [44.03217337, -73.14130877], [43.03519828, -73.09048868], [44.46548598, -72.10314651], [44.46322849, -73.08359212], [44.72736416, -71.73579864], [44.85627605, -72.91249563], [44.7975824, -73.29679772], [44.60353043, -72.64356694], [44.00470222, -72.37640104], [44.82964024, -72.24562697], [0.0, 0.0], [43.57723578, -73.03741676], [0.0, 0.0], [44.27343241, -72.61604978], [42.986982, -72.71268875], [43.58010937, -72.58595157], [18.3358, -64.8963], [0.0, 0.0], [0.0, 0.0], [0.0, 0.0], [0.0, 0.0], [0.0, 0.0], [0.0, 0.0], [0.0, 0.0], [0.0, 0.0], [0.0, 0.0], [0.0, 0.0]],\n",
       "                {&quot;blur&quot;: 15, &quot;maxZoom&quot;: 18, &quot;minOpacity&quot;: 0.5, &quot;radius&quot;: 10}\n",
       "            );\n",
       "        \n",
       "    \n",
       "            heat_map_57f64f822bd2d2cbf2f3a0f3b2b14b7e.addTo(map_6f01a541f6941179608d0fc6cebccd58);\n",
       "        \n",
       "&lt;/script&gt;\n",
       "&lt;/html&gt;\" style=\"position:absolute;width:100%;height:100%;left:0;top:0;border:none !important;\" allowfullscreen webkitallowfullscreen mozallowfullscreen></iframe></div></div>"
      ],
      "text/plain": [
       "<folium.folium.Map at 0x1fb256e6a10>"
      ]
     },
     "metadata": {},
     "output_type": "display_data"
    }
   ],
   "source": [
    "# Heatmap for total cases\n",
    "\n",
    "import folium\n",
    "from folium.plugins import HeatMap\n",
    "import ipywidgets as widgets\n",
    "from IPython.display import display\n",
    "\n",
    "# Get minimum and maximum latitude and longitude values from the dataset\n",
    "min_lat_value = df_confirmed_cases['Lat'].min()\n",
    "max_lat_value = df_confirmed_cases['Lat'].max()\n",
    "min_long_value = df_confirmed_cases['Long_'].min()\n",
    "max_long_value = df_confirmed_cases['Long_'].max()\n",
    "\n",
    "# Function to calculate total cases within the specified latitude and longitude range\n",
    "def calculate_total_cases_within_range(min_lat, max_lat, min_long, max_long):\n",
    "    # Filter DataFrame based on latitude and longitude range\n",
    "    filtered_df = df_confirmed_cases[(df_confirmed_cases['Lat'] >= min_lat) & (df_confirmed_cases['Lat'] <= max_lat) & \n",
    "                                     (df_confirmed_cases['Long_'] >= min_long) & (df_confirmed_cases['Long_'] <= max_long)]\n",
    "    \n",
    "    # Drop rows with NaN values in latitude and longitude columns\n",
    "    filtered_df = filtered_df.dropna(subset=['Lat', 'Long_'])\n",
    "    \n",
    "    # Check if there are any rows left after dropping NaN values\n",
    "    if filtered_df.empty:\n",
    "        print(\"No data available for the selected range.\")\n",
    "        return\n",
    "    \n",
    "    # Create a heatmap\n",
    "    heatmap_data = filtered_df[['Lat', 'Long_']]\n",
    "    m = folium.Map(location=[min_lat, min_long], zoom_start=5)\n",
    "    HeatMap(data=heatmap_data, radius=10).add_to(m)\n",
    "    \n",
    "    # Display the map\n",
    "    display(m)\n",
    "\n",
    "# Define sliders for latitude and longitude range\n",
    "min_lat_slider = widgets.FloatSlider(value=min_lat_value, min=min_lat_value, max=max_lat_value, step=0.1, description='Min Latitude:')\n",
    "max_lat_slider = widgets.FloatSlider(value=max_lat_value, min=min_lat_value, max=max_lat_value, step=0.1, description='Max Latitude:')\n",
    "min_long_slider = widgets.FloatSlider(value=min_long_value, min=min_long_value, max=max_long_value, step=0.1, description='Min Longitude:')\n",
    "max_long_slider = widgets.FloatSlider(value=max_long_value, min=min_long_value, max=max_long_value, step=0.1, description='Max Longitude:')\n",
    "\n",
    "# Create a button to trigger the calculation\n",
    "calculate_button = widgets.Button(description='Generate Heatmap')\n",
    "\n",
    "# Define function to handle button click event\n",
    "def on_button_click(b):\n",
    "    calculate_total_cases_within_range(min_lat_slider.value, max_lat_slider.value, min_long_slider.value, max_long_slider.value)\n",
    "\n",
    "# Attach button click event handler\n",
    "calculate_button.on_click(on_button_click)\n",
    "\n",
    "# Display the sliders and button\n",
    "display(min_lat_slider, max_lat_slider, min_long_slider, max_long_slider, calculate_button)\n"
   ]
  },
  {
   "cell_type": "code",
   "execution_count": 20,
   "metadata": {},
   "outputs": [
    {
     "data": {
      "application/vnd.jupyter.widget-view+json": {
       "model_id": "7bb69830431c453bb42e81ba51837a17",
       "version_major": 2,
       "version_minor": 0
      },
      "text/plain": [
       "FloatSlider(value=-14.271, description='Min Latitude:', max=69.31479216, min=-14.271)"
      ]
     },
     "metadata": {},
     "output_type": "display_data"
    },
    {
     "data": {
      "application/vnd.jupyter.widget-view+json": {
       "model_id": "10d1e5aaabed40f69effddad0c7bf631",
       "version_major": 2,
       "version_minor": 0
      },
      "text/plain": [
       "FloatSlider(value=69.31479216, description='Max Latitude:', max=69.31479216, min=-14.271)"
      ]
     },
     "metadata": {},
     "output_type": "display_data"
    },
    {
     "data": {
      "application/vnd.jupyter.widget-view+json": {
       "model_id": "d131a73ee70947b5adf1d25b5e14955d",
       "version_major": 2,
       "version_minor": 0
      },
      "text/plain": [
       "FloatSlider(value=-174.1596, description='Min Longitude:', max=145.6739, min=-174.1596)"
      ]
     },
     "metadata": {},
     "output_type": "display_data"
    },
    {
     "data": {
      "application/vnd.jupyter.widget-view+json": {
       "model_id": "aeafa4e1098545e79592c7cdcc0404ee",
       "version_major": 2,
       "version_minor": 0
      },
      "text/plain": [
       "FloatSlider(value=145.6739, description='Max Longitude:', max=145.6739, min=-174.1596)"
      ]
     },
     "metadata": {},
     "output_type": "display_data"
    },
    {
     "data": {
      "application/vnd.jupyter.widget-view+json": {
       "model_id": "f85a89916f574f228ad6dcb5112b50f1",
       "version_major": 2,
       "version_minor": 0
      },
      "text/plain": [
       "Button(description='Generate Death Heatmap', style=ButtonStyle())"
      ]
     },
     "metadata": {},
     "output_type": "display_data"
    }
   ],
   "source": [
    "## HeatMap for deaths\n",
    "\n",
    "import folium\n",
    "from folium.plugins import HeatMap\n",
    "import ipywidgets as widgets\n",
    "from IPython.display import display\n",
    "\n",
    "# Get minimum and maximum latitude and longitude values from the dataset\n",
    "min_lat_value = df_deaths['Lat'].min()\n",
    "max_lat_value = df_deaths['Lat'].max()\n",
    "min_long_value = df_deaths['Long_'].min()\n",
    "max_long_value = df_deaths['Long_'].max()\n",
    "\n",
    "# Function to calculate total deaths within the specified latitude and longitude range\n",
    "def calculate_total_deaths_within_range(min_lat, max_lat, min_long, max_long):\n",
    "    # Filter DataFrame based on latitude and longitude range\n",
    "    filtered_df = df_deaths[(df_deaths['Lat'] >= min_lat) & (df_deaths['Lat'] <= max_lat) & \n",
    "                            (df_deaths['Long_'] >= min_long) & (df_deaths['Long_'] <= max_long)]\n",
    "    \n",
    "    # Drop rows with NaN values in latitude and longitude columns\n",
    "    filtered_df = filtered_df.dropna(subset=['Lat', 'Long_'])\n",
    "    \n",
    "    # Check if there are any rows left after dropping NaN values\n",
    "    if filtered_df.empty:\n",
    "        print(\"No data available for the selected range.\")\n",
    "        return\n",
    "    \n",
    "    # Create a heatmap\n",
    "    heatmap_data = filtered_df[['Lat', 'Long_']]\n",
    "    m = folium.Map(location=[min_lat, min_long], zoom_start=5)\n",
    "    HeatMap(data=heatmap_data, radius=10).add_to(m)\n",
    "    \n",
    "    # Display the map\n",
    "    display(m)\n",
    "\n",
    "# Define sliders for latitude and longitude range\n",
    "min_lat_slider = widgets.FloatSlider(value=min_lat_value, min=min_lat_value, max=max_lat_value, step=0.1, description='Min Latitude:')\n",
    "max_lat_slider = widgets.FloatSlider(value=max_lat_value, min=min_lat_value, max=max_lat_value, step=0.1, description='Max Latitude:')\n",
    "min_long_slider = widgets.FloatSlider(value=min_long_value, min=min_long_value, max=max_long_value, step=0.1, description='Min Longitude:')\n",
    "max_long_slider = widgets.FloatSlider(value=max_long_value, min=min_long_value, max=max_long_value, step=0.1, description='Max Longitude:')\n",
    "\n",
    "# Create a button to trigger the calculation\n",
    "calculate_button = widgets.Button(description='Generate Death Heatmap')\n",
    "\n",
    "# Define function to handle button click event\n",
    "def on_button_click(b):\n",
    "    calculate_total_deaths_within_range(min_lat_slider.value, max_lat_slider.value, min_long_slider.value, max_long_slider.value)\n",
    "\n",
    "# Attach button click event handler\n",
    "calculate_button.on_click(on_button_click)\n",
    "\n",
    "# Display the sliders and button\n",
    "display(min_lat_slider, max_lat_slider, min_long_slider, max_long_slider, calculate_button)\n"
   ]
  },
  {
   "cell_type": "code",
   "execution_count": null,
   "metadata": {},
   "outputs": [],
   "source": []
  },
  {
   "cell_type": "code",
   "execution_count": 21,
   "metadata": {},
   "outputs": [],
   "source": [
    "#### Visualization 2"
   ]
  },
  {
   "cell_type": "code",
   "execution_count": 24,
   "metadata": {},
   "outputs": [
    {
     "data": {
      "image/png": "[encoded data removed]",
      "text/plain": [
       "<Figure size 1200x600 with 1 Axes>"
      ]
     },
     "metadata": {},
     "output_type": "display_data"
    }
   ],
   "source": [
    "import matplotlib.pyplot as plt\n",
    "\n",
    "# Aggregate total vaccinations by state\n",
    "vaccinations_by_state = df_vaccinations.groupby('location')['total_vaccinations'].max().sort_values(ascending=False)\n",
    "\n",
    "# Plotting the bar plot\n",
    "plt.figure(figsize=(12, 6))\n",
    "vaccinations_by_state.plot(kind='bar', color='skyblue')\n",
    "plt.title('Total Vaccinations by State')\n",
    "plt.xlabel('State')\n",
    "plt.ylabel('Total Vaccinations')\n",
    "plt.xticks(rotation=45, ha='right')\n",
    "plt.tight_layout()\n",
    "plt.show()\n"
   ]
  },
  {
   "cell_type": "code",
   "execution_count": 29,
   "metadata": {},
   "outputs": [
    {
     "ename": "ValueError",
     "evalue": "Mime type rendering requires nbformat>=4.2.0 but it is not installed",
     "output_type": "error",
     "traceback": [
      "\u001b[1;31m---------------------------------------------------------------------------\u001b[0m",
      "\u001b[1;31mValueError\u001b[0m                                Traceback (most recent call last)",
      "Cell \u001b[1;32mIn[29], line 16\u001b[0m\n\u001b[0;32m     13\u001b[0m fig\u001b[38;5;241m.\u001b[39mupdate_layout(xaxis_tickangle\u001b[38;5;241m=\u001b[39m\u001b[38;5;241m-\u001b[39m\u001b[38;5;241m45\u001b[39m)\n\u001b[0;32m     15\u001b[0m \u001b[38;5;66;03m# Display the figure in IPython Notebook\u001b[39;00m\n\u001b[1;32m---> 16\u001b[0m \u001b[43mfig\u001b[49m\u001b[38;5;241;43m.\u001b[39;49m\u001b[43mshow\u001b[49m\u001b[43m(\u001b[49m\u001b[43m)\u001b[49m\n\u001b[0;32m     18\u001b[0m \u001b[38;5;66;03m# Save the figure to an HTML file\u001b[39;00m\n\u001b[0;32m     19\u001b[0m html_file_path \u001b[38;5;241m=\u001b[39m \u001b[38;5;124m'\u001b[39m\u001b[38;5;124mtotal_vaccinations_bar_plot.html\u001b[39m\u001b[38;5;124m'\u001b[39m\n",
      "File \u001b[1;32md:\\pyhton\\Lib\\site-packages\\plotly\\basedatatypes.py:3410\u001b[0m, in \u001b[0;36mBaseFigure.show\u001b[1;34m(self, *args, **kwargs)\u001b[0m\n\u001b[0;32m   3377\u001b[0m \u001b[38;5;250m\u001b[39m\u001b[38;5;124;03m\"\"\"\u001b[39;00m\n\u001b[0;32m   3378\u001b[0m \u001b[38;5;124;03mShow a figure using either the default renderer(s) or the renderer(s)\u001b[39;00m\n\u001b[0;32m   3379\u001b[0m \u001b[38;5;124;03mspecified by the renderer argument\u001b[39;00m\n\u001b[1;32m   (...)\u001b[0m\n\u001b[0;32m   3406\u001b[0m \u001b[38;5;124;03mNone\u001b[39;00m\n\u001b[0;32m   3407\u001b[0m \u001b[38;5;124;03m\"\"\"\u001b[39;00m\n\u001b[0;32m   3408\u001b[0m \u001b[38;5;28;01mimport\u001b[39;00m \u001b[38;5;21;01mplotly\u001b[39;00m\u001b[38;5;21;01m.\u001b[39;00m\u001b[38;5;21;01mio\u001b[39;00m \u001b[38;5;28;01mas\u001b[39;00m \u001b[38;5;21;01mpio\u001b[39;00m\n\u001b[1;32m-> 3410\u001b[0m \u001b[38;5;28;01mreturn\u001b[39;00m \u001b[43mpio\u001b[49m\u001b[38;5;241;43m.\u001b[39;49m\u001b[43mshow\u001b[49m\u001b[43m(\u001b[49m\u001b[38;5;28;43mself\u001b[39;49m\u001b[43m,\u001b[49m\u001b[43m \u001b[49m\u001b[38;5;241;43m*\u001b[39;49m\u001b[43margs\u001b[49m\u001b[43m,\u001b[49m\u001b[43m \u001b[49m\u001b[38;5;241;43m*\u001b[39;49m\u001b[38;5;241;43m*\u001b[39;49m\u001b[43mkwargs\u001b[49m\u001b[43m)\u001b[49m\n",
      "File \u001b[1;32md:\\pyhton\\Lib\\site-packages\\plotly\\io\\_renderers.py:394\u001b[0m, in \u001b[0;36mshow\u001b[1;34m(fig, renderer, validate, **kwargs)\u001b[0m\n\u001b[0;32m    389\u001b[0m         \u001b[38;5;28;01mraise\u001b[39;00m \u001b[38;5;167;01mValueError\u001b[39;00m(\n\u001b[0;32m    390\u001b[0m             \u001b[38;5;124m\"\u001b[39m\u001b[38;5;124mMime type rendering requires ipython but it is not installed\u001b[39m\u001b[38;5;124m\"\u001b[39m\n\u001b[0;32m    391\u001b[0m         )\n\u001b[0;32m    393\u001b[0m     \u001b[38;5;28;01mif\u001b[39;00m \u001b[38;5;129;01mnot\u001b[39;00m nbformat \u001b[38;5;129;01mor\u001b[39;00m Version(nbformat\u001b[38;5;241m.\u001b[39m__version__) \u001b[38;5;241m<\u001b[39m Version(\u001b[38;5;124m\"\u001b[39m\u001b[38;5;124m4.2.0\u001b[39m\u001b[38;5;124m\"\u001b[39m):\n\u001b[1;32m--> 394\u001b[0m         \u001b[38;5;28;01mraise\u001b[39;00m \u001b[38;5;167;01mValueError\u001b[39;00m(\n\u001b[0;32m    395\u001b[0m             \u001b[38;5;124m\"\u001b[39m\u001b[38;5;124mMime type rendering requires nbformat>=4.2.0 but it is not installed\u001b[39m\u001b[38;5;124m\"\u001b[39m\n\u001b[0;32m    396\u001b[0m         )\n\u001b[0;32m    398\u001b[0m     ipython_display\u001b[38;5;241m.\u001b[39mdisplay(bundle, raw\u001b[38;5;241m=\u001b[39m\u001b[38;5;28;01mTrue\u001b[39;00m)\n\u001b[0;32m    400\u001b[0m \u001b[38;5;66;03m# external renderers\u001b[39;00m\n",
      "\u001b[1;31mValueError\u001b[0m: Mime type rendering requires nbformat>=4.2.0 but it is not installed"
     ]
    }
   ],
   "source": [
    "## here refer to the HTML file which is created\n",
    "\n",
    "##TRY IF YOU CAN DISPLAY IT IN THE IBYNB FILE AS WELL\n",
    "\n",
    "import plotly.express as px\n",
    "import plotly.io as pio\n",
    "\n",
    "# Aggregate total vaccinations by state\n",
    "vaccinations_by_state = df_vaccinations.groupby('location')['total_vaccinations'].max().sort_values(ascending=False).reset_index()\n",
    "\n",
    "# Plotting the bar plot\n",
    "fig = px.bar(vaccinations_by_state, x='location', y='total_vaccinations', color='total_vaccinations', \n",
    "             labels={'location': 'State', 'total_vaccinations': 'Total Vaccinations'}, \n",
    "             title='Total Vaccinations by State')\n",
    "fig.update_layout(xaxis_tickangle=-45)\n",
    "\n",
    "# Save the figure to an HTML file\n",
    "pio.write_html(fig, 'total_vaccinations_bar_plot.html')\n",
    "\n",
    "\n"
   ]
  },
  {
   "cell_type": "code",
   "execution_count": null,
   "metadata": {},
   "outputs": [],
   "source": []
  },
  {
   "cell_type": "code",
   "execution_count": null,
   "metadata": {},
   "outputs": [],
   "source": []
  },
  {
   "cell_type": "code",
   "execution_count": null,
   "metadata": {},
   "outputs": [],
   "source": []
  },
  {
   "cell_type": "code",
   "execution_count": null,
   "metadata": {},
   "outputs": [],
   "source": []
  },
  {
   "cell_type": "code",
   "execution_count": null,
   "metadata": {},
   "outputs": [],
   "source": []
  },
  {
   "cell_type": "code",
   "execution_count": null,
   "metadata": {},
   "outputs": [],
   "source": []
  },
  {
   "cell_type": "code",
   "execution_count": 3,
   "metadata": {},
   "outputs": [
    {
     "ename": "KeyError",
     "evalue": "\"['Lat', 'Long_'] not in index\"",
     "output_type": "error",
     "traceback": [
      "\u001b[1;31m---------------------------------------------------------------------------\u001b[0m",
      "\u001b[1;31mKeyError\u001b[0m                                  Traceback (most recent call last)",
      "Cell \u001b[1;32mIn[3], line 8\u001b[0m\n\u001b[0;32m      5\u001b[0m df_vaccinations \u001b[38;5;241m=\u001b[39m pd\u001b[38;5;241m.\u001b[39mread_csv(\u001b[38;5;124m\"\u001b[39m\u001b[38;5;124mus_state_vaccinations.csv\u001b[39m\u001b[38;5;124m\"\u001b[39m)\n\u001b[0;32m      7\u001b[0m \u001b[38;5;66;03m# Select relevant columns (state, latitude, longitude, total_vaccinations)\u001b[39;00m\n\u001b[1;32m----> 8\u001b[0m df_vaccinations \u001b[38;5;241m=\u001b[39m \u001b[43mdf_vaccinations\u001b[49m\u001b[43m[\u001b[49m\u001b[43m[\u001b[49m\u001b[38;5;124;43m'\u001b[39;49m\u001b[38;5;124;43mlocation\u001b[39;49m\u001b[38;5;124;43m'\u001b[39;49m\u001b[43m,\u001b[49m\u001b[43m \u001b[49m\u001b[38;5;124;43m'\u001b[39;49m\u001b[38;5;124;43mtotal_vaccinations\u001b[39;49m\u001b[38;5;124;43m'\u001b[39;49m\u001b[43m,\u001b[49m\u001b[43m \u001b[49m\u001b[38;5;124;43m'\u001b[39;49m\u001b[38;5;124;43mLat\u001b[39;49m\u001b[38;5;124;43m'\u001b[39;49m\u001b[43m,\u001b[49m\u001b[43m \u001b[49m\u001b[38;5;124;43m'\u001b[39;49m\u001b[38;5;124;43mLong_\u001b[39;49m\u001b[38;5;124;43m'\u001b[39;49m\u001b[43m]\u001b[49m\u001b[43m]\u001b[49m\n\u001b[0;32m     10\u001b[0m \u001b[38;5;66;03m# Drop rows with missing latitude or longitude values\u001b[39;00m\n\u001b[0;32m     11\u001b[0m df_vaccinations \u001b[38;5;241m=\u001b[39m df_vaccinations\u001b[38;5;241m.\u001b[39mdropna(subset\u001b[38;5;241m=\u001b[39m[\u001b[38;5;124m'\u001b[39m\u001b[38;5;124mLat\u001b[39m\u001b[38;5;124m'\u001b[39m, \u001b[38;5;124m'\u001b[39m\u001b[38;5;124mLong_\u001b[39m\u001b[38;5;124m'\u001b[39m])\n",
      "File \u001b[1;32md:\\pyhton\\Lib\\site-packages\\pandas\\core\\frame.py:4096\u001b[0m, in \u001b[0;36mDataFrame.__getitem__\u001b[1;34m(self, key)\u001b[0m\n\u001b[0;32m   4094\u001b[0m     \u001b[38;5;28;01mif\u001b[39;00m is_iterator(key):\n\u001b[0;32m   4095\u001b[0m         key \u001b[38;5;241m=\u001b[39m \u001b[38;5;28mlist\u001b[39m(key)\n\u001b[1;32m-> 4096\u001b[0m     indexer \u001b[38;5;241m=\u001b[39m \u001b[38;5;28;43mself\u001b[39;49m\u001b[38;5;241;43m.\u001b[39;49m\u001b[43mcolumns\u001b[49m\u001b[38;5;241;43m.\u001b[39;49m\u001b[43m_get_indexer_strict\u001b[49m\u001b[43m(\u001b[49m\u001b[43mkey\u001b[49m\u001b[43m,\u001b[49m\u001b[43m \u001b[49m\u001b[38;5;124;43m\"\u001b[39;49m\u001b[38;5;124;43mcolumns\u001b[39;49m\u001b[38;5;124;43m\"\u001b[39;49m\u001b[43m)\u001b[49m[\u001b[38;5;241m1\u001b[39m]\n\u001b[0;32m   4098\u001b[0m \u001b[38;5;66;03m# take() does not accept boolean indexers\u001b[39;00m\n\u001b[0;32m   4099\u001b[0m \u001b[38;5;28;01mif\u001b[39;00m \u001b[38;5;28mgetattr\u001b[39m(indexer, \u001b[38;5;124m\"\u001b[39m\u001b[38;5;124mdtype\u001b[39m\u001b[38;5;124m\"\u001b[39m, \u001b[38;5;28;01mNone\u001b[39;00m) \u001b[38;5;241m==\u001b[39m \u001b[38;5;28mbool\u001b[39m:\n",
      "File \u001b[1;32md:\\pyhton\\Lib\\site-packages\\pandas\\core\\indexes\\base.py:6199\u001b[0m, in \u001b[0;36mIndex._get_indexer_strict\u001b[1;34m(self, key, axis_name)\u001b[0m\n\u001b[0;32m   6196\u001b[0m \u001b[38;5;28;01melse\u001b[39;00m:\n\u001b[0;32m   6197\u001b[0m     keyarr, indexer, new_indexer \u001b[38;5;241m=\u001b[39m \u001b[38;5;28mself\u001b[39m\u001b[38;5;241m.\u001b[39m_reindex_non_unique(keyarr)\n\u001b[1;32m-> 6199\u001b[0m \u001b[38;5;28;43mself\u001b[39;49m\u001b[38;5;241;43m.\u001b[39;49m\u001b[43m_raise_if_missing\u001b[49m\u001b[43m(\u001b[49m\u001b[43mkeyarr\u001b[49m\u001b[43m,\u001b[49m\u001b[43m \u001b[49m\u001b[43mindexer\u001b[49m\u001b[43m,\u001b[49m\u001b[43m \u001b[49m\u001b[43maxis_name\u001b[49m\u001b[43m)\u001b[49m\n\u001b[0;32m   6201\u001b[0m keyarr \u001b[38;5;241m=\u001b[39m \u001b[38;5;28mself\u001b[39m\u001b[38;5;241m.\u001b[39mtake(indexer)\n\u001b[0;32m   6202\u001b[0m \u001b[38;5;28;01mif\u001b[39;00m \u001b[38;5;28misinstance\u001b[39m(key, Index):\n\u001b[0;32m   6203\u001b[0m     \u001b[38;5;66;03m# GH 42790 - Preserve name from an Index\u001b[39;00m\n",
      "File \u001b[1;32md:\\pyhton\\Lib\\site-packages\\pandas\\core\\indexes\\base.py:6251\u001b[0m, in \u001b[0;36mIndex._raise_if_missing\u001b[1;34m(self, key, indexer, axis_name)\u001b[0m\n\u001b[0;32m   6248\u001b[0m     \u001b[38;5;28;01mraise\u001b[39;00m \u001b[38;5;167;01mKeyError\u001b[39;00m(\u001b[38;5;124mf\u001b[39m\u001b[38;5;124m\"\u001b[39m\u001b[38;5;124mNone of [\u001b[39m\u001b[38;5;132;01m{\u001b[39;00mkey\u001b[38;5;132;01m}\u001b[39;00m\u001b[38;5;124m] are in the [\u001b[39m\u001b[38;5;132;01m{\u001b[39;00maxis_name\u001b[38;5;132;01m}\u001b[39;00m\u001b[38;5;124m]\u001b[39m\u001b[38;5;124m\"\u001b[39m)\n\u001b[0;32m   6250\u001b[0m not_found \u001b[38;5;241m=\u001b[39m \u001b[38;5;28mlist\u001b[39m(ensure_index(key)[missing_mask\u001b[38;5;241m.\u001b[39mnonzero()[\u001b[38;5;241m0\u001b[39m]]\u001b[38;5;241m.\u001b[39munique())\n\u001b[1;32m-> 6251\u001b[0m \u001b[38;5;28;01mraise\u001b[39;00m \u001b[38;5;167;01mKeyError\u001b[39;00m(\u001b[38;5;124mf\u001b[39m\u001b[38;5;124m\"\u001b[39m\u001b[38;5;132;01m{\u001b[39;00mnot_found\u001b[38;5;132;01m}\u001b[39;00m\u001b[38;5;124m not in index\u001b[39m\u001b[38;5;124m\"\u001b[39m)\n",
      "\u001b[1;31mKeyError\u001b[0m: \"['Lat', 'Long_'] not in index\""
     ]
    }
   ],
   "source": [
    "import pandas as pd\n",
    "import folium\n",
    "\n",
    "# Load the vaccination dataset\n",
    "df_vaccinations = pd.read_csv(\"us_state_vaccinations.csv\")\n",
    "\n",
    "# Select relevant columns (state, latitude, longitude, total_vaccinations)\n",
    "df_vaccinations = df_vaccinations[['location', 'total_vaccinations', 'Lat', 'Long_']]\n",
    "\n",
    "# Drop rows with missing latitude or longitude values\n",
    "df_vaccinations = df_vaccinations.dropna(subset=['Lat', 'Long_'])\n",
    "\n",
    "# Create a Folium map centered on the United States\n",
    "us_map = folium.Map(location=[37.0902, -95.7129], zoom_start=4)\n",
    "\n",
    "# Add markers for each state with the size of the marker based on total vaccinations\n",
    "for index, row in df_vaccinations.iterrows():\n",
    "    folium.CircleMarker(\n",
    "        location=[row['Lat'], row['Long_']],\n",
    "        radius=row['total_vaccinations'] / 100000,  # Adjust the divisor for appropriate marker size\n",
    "        color='blue',\n",
    "        fill=True,\n",
    "        fill_color='blue',\n",
    "        fill_opacity=0.6,\n",
    "        tooltip=f\"{row['location']}: {row['total_vaccinations']} vaccinations\"\n",
    "    ).add_to(us_map)\n",
    "\n",
    "# Display the map\n",
    "us_map.save('vaccination_map.html')\n"
   ]
  },
  {
   "cell_type": "code",
   "execution_count": 6,
   "metadata": {},
   "outputs": [
    {
     "data": {
      "text/plain": [
       "<Figure size 1000x600 with 0 Axes>"
      ]
     },
     "metadata": {},
     "output_type": "display_data"
    },
    {
     "data": {
      "image/png": "[encoded data removed]",
      "text/plain": [
       "<Figure size 640x480 with 1 Axes>"
      ]
     },
     "metadata": {},
     "output_type": "display_data"
    }
   ],
   "source": [
    "import pandas as pd\n",
    "import matplotlib.pyplot as plt\n",
    "from matplotlib.dates import DateFormatter\n",
    "\n",
    "# Load the vaccination dataset\n",
    "df_vaccinations = pd.read_csv(\"us_state_vaccinations.csv\")\n",
    "\n",
    "# Select relevant columns (date, total_vaccinations, people_vaccinated, people_fully_vaccinated)\n",
    "df_vaccinations = df_vaccinations[['date', 'total_vaccinations', 'people_vaccinated', 'people_fully_vaccinated']]\n",
    "\n",
    "# Convert date column to datetime format\n",
    "df_vaccinations['date'] = pd.to_datetime(df_vaccinations['date'])\n",
    "\n",
    "# Group by date and sum the doses for each type\n",
    "df_grouped = df_vaccinations.groupby('date').sum()\n",
    "\n",
    "# Plot stacked bar chart\n",
    "plt.figure(figsize=(10, 6))\n",
    "df_grouped.plot(kind='bar', stacked=True)\n",
    "\n",
    "# Set x-axis tick frequency\n",
    "plt.gca().xaxis.set_major_formatter(DateFormatter('%Y-%m-%d'))\n",
    "plt.gca().xaxis.set_major_locator(plt.MaxNLocator(10))  # Adjust the number of ticks as needed\n",
    "\n",
    "plt.title('Distribution of Different Vaccine Doses Over Time')\n",
    "plt.xlabel('Date')\n",
    "plt.ylabel('Number of Doses')\n",
    "plt.legend(title='Dose Type', bbox_to_anchor=(1.05, 1), loc='upper left')\n",
    "plt.tight_layout()\n",
    "plt.show()\n",
    "\n"
   ]
  },
  {
   "cell_type": "code",
   "execution_count": 7,
   "metadata": {},
   "outputs": [
    {
     "ename": "AttributeError",
     "evalue": "'str' object has no attribute 'year'",
     "output_type": "error",
     "traceback": [
      "\u001b[1;31m---------------------------------------------------------------------------\u001b[0m",
      "\u001b[1;31mAttributeError\u001b[0m                            Traceback (most recent call last)",
      "Cell \u001b[1;32mIn[7], line 28\u001b[0m\n\u001b[0;32m     25\u001b[0m     plt\u001b[38;5;241m.\u001b[39mshow()\n\u001b[0;32m     27\u001b[0m \u001b[38;5;66;03m# Define date range widget\u001b[39;00m\n\u001b[1;32m---> 28\u001b[0m start_date_widget \u001b[38;5;241m=\u001b[39m \u001b[43mwidgets\u001b[49m\u001b[38;5;241;43m.\u001b[39;49m\u001b[43mDatePicker\u001b[49m\u001b[43m(\u001b[49m\u001b[43mdescription\u001b[49m\u001b[38;5;241;43m=\u001b[39;49m\u001b[38;5;124;43m'\u001b[39;49m\u001b[38;5;124;43mStart Date:\u001b[39;49m\u001b[38;5;124;43m'\u001b[39;49m\u001b[43m,\u001b[49m\u001b[43m \u001b[49m\u001b[43mvalue\u001b[49m\u001b[38;5;241;43m=\u001b[39;49m\u001b[43mdf_vaccinations\u001b[49m\u001b[43m[\u001b[49m\u001b[38;5;124;43m'\u001b[39;49m\u001b[38;5;124;43mdate\u001b[39;49m\u001b[38;5;124;43m'\u001b[39;49m\u001b[43m]\u001b[49m\u001b[38;5;241;43m.\u001b[39;49m\u001b[43mmin\u001b[49m\u001b[43m(\u001b[49m\u001b[43m)\u001b[49m\u001b[43m)\u001b[49m\n\u001b[0;32m     29\u001b[0m end_date_widget \u001b[38;5;241m=\u001b[39m widgets\u001b[38;5;241m.\u001b[39mDatePicker(description\u001b[38;5;241m=\u001b[39m\u001b[38;5;124m'\u001b[39m\u001b[38;5;124mEnd Date:\u001b[39m\u001b[38;5;124m'\u001b[39m, value\u001b[38;5;241m=\u001b[39mdf_vaccinations[\u001b[38;5;124m'\u001b[39m\u001b[38;5;124mdate\u001b[39m\u001b[38;5;124m'\u001b[39m]\u001b[38;5;241m.\u001b[39mmax())\n\u001b[0;32m     31\u001b[0m \u001b[38;5;66;03m# Define location selection widget\u001b[39;00m\n",
      "File \u001b[1;32md:\\pyhton\\Lib\\site-packages\\ipywidgets\\widgets\\widget_description.py:35\u001b[0m, in \u001b[0;36mDescriptionWidget.__init__\u001b[1;34m(self, *args, **kwargs)\u001b[0m\n\u001b[0;32m     33\u001b[0m     kwargs\u001b[38;5;241m.\u001b[39msetdefault(\u001b[38;5;124m'\u001b[39m\u001b[38;5;124mtooltip\u001b[39m\u001b[38;5;124m'\u001b[39m, kwargs[\u001b[38;5;124m'\u001b[39m\u001b[38;5;124mdescription_tooltip\u001b[39m\u001b[38;5;124m'\u001b[39m])\n\u001b[0;32m     34\u001b[0m     \u001b[38;5;28;01mdel\u001b[39;00m kwargs[\u001b[38;5;124m'\u001b[39m\u001b[38;5;124mdescription_tooltip\u001b[39m\u001b[38;5;124m'\u001b[39m]\n\u001b[1;32m---> 35\u001b[0m \u001b[38;5;28;43msuper\u001b[39;49m\u001b[43m(\u001b[49m\u001b[43m)\u001b[49m\u001b[38;5;241;43m.\u001b[39;49m\u001b[38;5;21;43m__init__\u001b[39;49m\u001b[43m(\u001b[49m\u001b[38;5;241;43m*\u001b[39;49m\u001b[43margs\u001b[49m\u001b[43m,\u001b[49m\u001b[43m \u001b[49m\u001b[38;5;241;43m*\u001b[39;49m\u001b[38;5;241;43m*\u001b[39;49m\u001b[43mkwargs\u001b[49m\u001b[43m)\u001b[49m\n",
      "File \u001b[1;32md:\\pyhton\\Lib\\site-packages\\ipywidgets\\widgets\\widget.py:506\u001b[0m, in \u001b[0;36mWidget.__init__\u001b[1;34m(self, **kwargs)\u001b[0m\n\u001b[0;32m    503\u001b[0m \u001b[38;5;28msuper\u001b[39m()\u001b[38;5;241m.\u001b[39m\u001b[38;5;21m__init__\u001b[39m(\u001b[38;5;241m*\u001b[39m\u001b[38;5;241m*\u001b[39mkwargs)\n\u001b[0;32m    505\u001b[0m Widget\u001b[38;5;241m.\u001b[39m_call_widget_constructed(\u001b[38;5;28mself\u001b[39m)\n\u001b[1;32m--> 506\u001b[0m \u001b[38;5;28;43mself\u001b[39;49m\u001b[38;5;241;43m.\u001b[39;49m\u001b[43mopen\u001b[49m\u001b[43m(\u001b[49m\u001b[43m)\u001b[49m\n",
      "File \u001b[1;32md:\\pyhton\\Lib\\site-packages\\ipywidgets\\widgets\\widget.py:525\u001b[0m, in \u001b[0;36mWidget.open\u001b[1;34m(self)\u001b[0m\n\u001b[0;32m    523\u001b[0m \u001b[38;5;250m\u001b[39m\u001b[38;5;124;03m\"\"\"Open a comm to the frontend if one isn't already open.\"\"\"\u001b[39;00m\n\u001b[0;32m    524\u001b[0m \u001b[38;5;28;01mif\u001b[39;00m \u001b[38;5;28mself\u001b[39m\u001b[38;5;241m.\u001b[39mcomm \u001b[38;5;129;01mis\u001b[39;00m \u001b[38;5;28;01mNone\u001b[39;00m:\n\u001b[1;32m--> 525\u001b[0m     state, buffer_paths, buffers \u001b[38;5;241m=\u001b[39m _remove_buffers(\u001b[38;5;28;43mself\u001b[39;49m\u001b[38;5;241;43m.\u001b[39;49m\u001b[43mget_state\u001b[49m\u001b[43m(\u001b[49m\u001b[43m)\u001b[49m)\n\u001b[0;32m    527\u001b[0m     args \u001b[38;5;241m=\u001b[39m \u001b[38;5;28mdict\u001b[39m(target_name\u001b[38;5;241m=\u001b[39m\u001b[38;5;124m'\u001b[39m\u001b[38;5;124mjupyter.widget\u001b[39m\u001b[38;5;124m'\u001b[39m,\n\u001b[0;32m    528\u001b[0m                 data\u001b[38;5;241m=\u001b[39m{\u001b[38;5;124m'\u001b[39m\u001b[38;5;124mstate\u001b[39m\u001b[38;5;124m'\u001b[39m: state, \u001b[38;5;124m'\u001b[39m\u001b[38;5;124mbuffer_paths\u001b[39m\u001b[38;5;124m'\u001b[39m: buffer_paths},\n\u001b[0;32m    529\u001b[0m                 buffers\u001b[38;5;241m=\u001b[39mbuffers,\n\u001b[0;32m    530\u001b[0m                 metadata\u001b[38;5;241m=\u001b[39m{\u001b[38;5;124m'\u001b[39m\u001b[38;5;124mversion\u001b[39m\u001b[38;5;124m'\u001b[39m: __protocol_version__}\n\u001b[0;32m    531\u001b[0m                 )\n\u001b[0;32m    532\u001b[0m     \u001b[38;5;28;01mif\u001b[39;00m \u001b[38;5;28mself\u001b[39m\u001b[38;5;241m.\u001b[39m_model_id \u001b[38;5;129;01mis\u001b[39;00m \u001b[38;5;129;01mnot\u001b[39;00m \u001b[38;5;28;01mNone\u001b[39;00m:\n",
      "File \u001b[1;32md:\\pyhton\\Lib\\site-packages\\ipywidgets\\widgets\\widget.py:615\u001b[0m, in \u001b[0;36mWidget.get_state\u001b[1;34m(self, key, drop_defaults)\u001b[0m\n\u001b[0;32m    613\u001b[0m \u001b[38;5;28;01mfor\u001b[39;00m k \u001b[38;5;129;01min\u001b[39;00m keys:\n\u001b[0;32m    614\u001b[0m     to_json \u001b[38;5;241m=\u001b[39m \u001b[38;5;28mself\u001b[39m\u001b[38;5;241m.\u001b[39mtrait_metadata(k, \u001b[38;5;124m'\u001b[39m\u001b[38;5;124mto_json\u001b[39m\u001b[38;5;124m'\u001b[39m, \u001b[38;5;28mself\u001b[39m\u001b[38;5;241m.\u001b[39m_trait_to_json)\n\u001b[1;32m--> 615\u001b[0m     value \u001b[38;5;241m=\u001b[39m \u001b[43mto_json\u001b[49m\u001b[43m(\u001b[49m\u001b[38;5;28;43mgetattr\u001b[39;49m\u001b[43m(\u001b[49m\u001b[38;5;28;43mself\u001b[39;49m\u001b[43m,\u001b[49m\u001b[43m \u001b[49m\u001b[43mk\u001b[49m\u001b[43m)\u001b[49m\u001b[43m,\u001b[49m\u001b[43m \u001b[49m\u001b[38;5;28;43mself\u001b[39;49m\u001b[43m)\u001b[49m\n\u001b[0;32m    616\u001b[0m     \u001b[38;5;28;01mif\u001b[39;00m \u001b[38;5;129;01mnot\u001b[39;00m drop_defaults \u001b[38;5;129;01mor\u001b[39;00m \u001b[38;5;129;01mnot\u001b[39;00m \u001b[38;5;28mself\u001b[39m\u001b[38;5;241m.\u001b[39m_compare(value, traits[k]\u001b[38;5;241m.\u001b[39mdefault_value):\n\u001b[0;32m    617\u001b[0m         state[k] \u001b[38;5;241m=\u001b[39m value\n",
      "File \u001b[1;32md:\\pyhton\\Lib\\site-packages\\ipywidgets\\widgets\\trait_types.py:246\u001b[0m, in \u001b[0;36mdate_to_json\u001b[1;34m(pydate, manager)\u001b[0m\n\u001b[0;32m    243\u001b[0m     \u001b[38;5;28;01mreturn\u001b[39;00m \u001b[38;5;28;01mNone\u001b[39;00m\n\u001b[0;32m    244\u001b[0m \u001b[38;5;28;01melse\u001b[39;00m:\n\u001b[0;32m    245\u001b[0m     \u001b[38;5;28;01mreturn\u001b[39;00m \u001b[38;5;28mdict\u001b[39m(\n\u001b[1;32m--> 246\u001b[0m         year\u001b[38;5;241m=\u001b[39m\u001b[43mpydate\u001b[49m\u001b[38;5;241;43m.\u001b[39;49m\u001b[43myear\u001b[49m,\n\u001b[0;32m    247\u001b[0m         month\u001b[38;5;241m=\u001b[39mpydate\u001b[38;5;241m.\u001b[39mmonth \u001b[38;5;241m-\u001b[39m \u001b[38;5;241m1\u001b[39m,  \u001b[38;5;66;03m# Months are 0-based indices in JS\u001b[39;00m\n\u001b[0;32m    248\u001b[0m         date\u001b[38;5;241m=\u001b[39mpydate\u001b[38;5;241m.\u001b[39mday\n\u001b[0;32m    249\u001b[0m     )\n",
      "\u001b[1;31mAttributeError\u001b[0m: 'str' object has no attribute 'year'"
     ]
    }
   ],
   "source": [
    "import pandas as pd\n",
    "import matplotlib.pyplot as plt\n",
    "import ipywidgets as widgets\n",
    "from ipywidgets import interact, fixed\n",
    "\n",
    "# Load the vaccination dataset\n",
    "df_vaccinations = pd.read_csv(\"us_state_vaccinations.csv\")\n",
    "\n",
    "# Function to plot total vaccinations based on selected date range and location\n",
    "def plot_vaccinations(start_date, end_date, location):\n",
    "    # Filter the dataset based on selected date range and location\n",
    "    df_filtered = df_vaccinations[(df_vaccinations['date'] >= start_date) & \n",
    "                                  (df_vaccinations['date'] <= end_date) &\n",
    "                                  (df_vaccinations['location'] == location)]\n",
    "    \n",
    "    # Plot total vaccinations\n",
    "    plt.figure(figsize=(10, 6))\n",
    "    plt.plot(df_filtered['date'], df_filtered['total_vaccinations'], marker='o', linestyle='-')\n",
    "    plt.title(f'Total Vaccinations in {location} ({start_date} to {end_date})')\n",
    "    plt.xlabel('Date')\n",
    "    plt.ylabel('Total Vaccinations')\n",
    "    plt.xticks(rotation=45)\n",
    "    plt.grid(True)\n",
    "    plt.tight_layout()\n",
    "    plt.show()\n",
    "\n",
    "# Define date range widget\n",
    "start_date_widget = widgets.DatePicker(description='Start Date:', value=df_vaccinations['date'].min())\n",
    "end_date_widget = widgets.DatePicker(description='End Date:', value=df_vaccinations['date'].max())\n",
    "\n",
    "# Define location selection widget\n",
    "location_widget = widgets.Dropdown(description='Location:', options=df_vaccinations['location'].unique())\n",
    "\n",
    "# Interactively update the plot based on selected date range and location\n",
    "interact(plot_vaccinations, start_date=start_date_widget, end_date=end_date_widget, location=location_widget)\n"
   ]
  },
  {
   "cell_type": "code",
   "execution_count": null,
   "metadata": {},
   "outputs": [],
   "source": []
  },
  {
   "cell_type": "code",
   "execution_count": null,
   "metadata": {},
   "outputs": [],
   "source": []
  },
  {
   "cell_type": "code",
   "execution_count": null,
   "metadata": {},
   "outputs": [],
   "source": []
  },
  {
   "cell_type": "code",
   "execution_count": null,
   "metadata": {},
   "outputs": [],
   "source": []
  }
 ],
 "metadata": {
  "kernelspec": {
   "display_name": "Python 3",
   "language": "python",
   "name": "python3"
  },
  "language_info": {
   "codemirror_mode": {
    "name": "ipython",
    "version": 3
   },
   "file_extension": ".py",
   "mimetype": "text/x-python",
   "name": "python",
   "nbconvert_exporter": "python",
   "pygments_lexer": "ipython3",
   "version": "3.11.5"
  }
 },
 "nbformat": 4,
 "nbformat_minor": 2
}
