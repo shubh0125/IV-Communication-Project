{
 "cells": [
  {
   "cell_type": "code",
   "execution_count": 1,
   "metadata": {},
   "outputs": [
    {
     "name": "stdout",
     "output_type": "stream",
     "text": [
      "DataFrame for Alabama_policy.csv:\n",
      "        date                                             policy  \\\n",
      "0   6-Mar-20  Governor Ivey announced the formation of a Cor...   \n",
      "1  10-Mar-20  Governor Ivey sent a memo to state agency head...   \n",
      "2  13-Mar-20  Governor Ivey issued a state of emergency for ...   \n",
      "3  14-Mar-20  Governor Ivey closed all Alabama public school...   \n",
      "4  15-Mar-20  Governor Ivey authorized directors of all stat...   \n",
      "\n",
      "  Restrict/Close Opening (State)  Deferring to County Testing Education  \\\n",
      "0            NaN             NaN                  NaN     NaN       NaN   \n",
      "1            NaN             NaN                  NaN     NaN       NaN   \n",
      "2            NaN             NaN                  NaN     NaN       NaN   \n",
      "3              Y             NaN                  NaN     NaN         Y   \n",
      "4            NaN             NaN                  NaN     NaN       NaN   \n",
      "\n",
      "  Health/Medical Emergency Level  Transportation Budget Social Distancing  \\\n",
      "0            NaN             NaN             NaN    NaN               NaN   \n",
      "1            NaN             NaN             NaN    NaN               NaN   \n",
      "2            NaN               Y             NaN    NaN               NaN   \n",
      "3            NaN             NaN             NaN    NaN               NaN   \n",
      "4            NaN             NaN             NaN    NaN               NaN   \n",
      "\n",
      "  Other Vaccine  \n",
      "0     Y     NaN  \n",
      "1     Y     NaN  \n",
      "2     Y     NaN  \n",
      "3   NaN     NaN  \n",
      "4     Y     NaN  \n",
      "DataFrame for Alaska_policy.csv:\n",
      "        date                                             policy  \\\n",
      "0   3-Mar-20  The Division of Insurance sent a bulletin allo...   \n",
      "1   6-Mar-20  The Division of Insurance issued anotherbullet...   \n",
      "2  11-Mar-20  Governor Dunleavy issued a declaration of publ...   \n",
      "3  13-Mar-20  Governor Dunleavy and the Alaska Department of...   \n",
      "4  16-Mar-20  The Governor issued a second COVID-19 health m...   \n",
      "\n",
      "  Restrict/Close Opening (State) Deferring to County Testing Education  \\\n",
      "0            NaN             NaN                 NaN     NaN       NaN   \n",
      "1            NaN             NaN                 NaN     NaN       NaN   \n",
      "2            NaN             NaN                 NaN     NaN       NaN   \n",
      "3              Y             NaN                 NaN     NaN         Y   \n",
      "4              Y             NaN                 NaN     NaN       NaN   \n",
      "\n",
      "  Health/Medical Emergency Level Transportation Budget Social Distancing  \\\n",
      "0            NaN             NaN            NaN    NaN               NaN   \n",
      "1            NaN             NaN            NaN    NaN               NaN   \n",
      "2            NaN               Y            NaN    NaN               NaN   \n",
      "3            NaN             NaN            NaN    NaN               NaN   \n",
      "4            NaN             NaN            NaN    NaN               NaN   \n",
      "\n",
      "  Other Vaccine  \n",
      "0     Y     NaN  \n",
      "1     Y     NaN  \n",
      "2     Y     NaN  \n",
      "3   NaN     NaN  \n",
      "4   NaN     NaN  \n",
      "DataFrame for American Samoa_policy.csv:\n",
      "        date                                             policy  \\\n",
      "0   2-Mar-20  Governor Moliga appointed a government task fo...   \n",
      "1  21-Mar-20  The National Emergency Operations Centre (NEOC...   \n",
      "2  20-Mar-20  The Governor amended their declaration of cont...   \n",
      "3  20-Mar-20  The Governor announced the closing of all publ...   \n",
      "4  25-Mar-20  The Governor issued an Executive Order 001 rec...   \n",
      "\n",
      "  Restrict/Close Opening (State)  Deferring to County  Testing  Education  \\\n",
      "0            NaN             NaN                  NaN      NaN        NaN   \n",
      "1            NaN             NaN                  NaN      NaN        NaN   \n",
      "2              Y             NaN                  NaN      NaN        NaN   \n",
      "3              Y             NaN                  NaN      NaN        NaN   \n",
      "4            NaN             NaN                  NaN      NaN        NaN   \n",
      "\n",
      "   Health/Medical Emergency Level  Transportation  Budget Social Distancing  \\\n",
      "0             NaN             NaN             NaN     NaN               NaN   \n",
      "1             NaN             NaN             NaN     NaN               NaN   \n",
      "2             NaN             NaN             NaN     NaN               NaN   \n",
      "3             NaN             NaN             NaN     NaN               NaN   \n",
      "4             NaN               Y             NaN     NaN               NaN   \n",
      "\n",
      "  Other Vaccine  \n",
      "0     Y     NaN  \n",
      "1     Y     NaN  \n",
      "2   NaN     NaN  \n",
      "3   NaN     NaN  \n",
      "4     Y     NaN  \n",
      "DataFrame for Arizona_policy.csv:\n",
      "        date                                             policy  \\\n",
      "0  26-Jan-20  Arizona's Health Emergency Operations Center a...   \n",
      "1  11-Mar-20  Governor Ducey issued a Declaration of Emergen...   \n",
      "2  12-Mar-20  Arizona signed S.B. 1051, legislation introduc...   \n",
      "3  15-Mar-20  The Governor and Boys & Girls Clubs Arizona Al...   \n",
      "4  15-Mar-20  The Governor ordered a statewide closure of sc...   \n",
      "\n",
      "  Restrict/Close Opening (State) Deferring to County Testing Education  \\\n",
      "0            NaN             NaN                 NaN     NaN       NaN   \n",
      "1            NaN             NaN                 NaN     NaN       NaN   \n",
      "2            NaN             NaN                 NaN     NaN       NaN   \n",
      "3              Y             NaN                 NaN     NaN         Y   \n",
      "4              Y             NaN                 NaN     NaN         Y   \n",
      "\n",
      "  Health/Medical Emergency Level Transportation Budget Social Distancing  \\\n",
      "0            NaN             NaN            NaN    NaN               NaN   \n",
      "1            NaN             NaN            NaN    NaN               NaN   \n",
      "2            NaN             NaN            NaN      Y               NaN   \n",
      "3            NaN             NaN            NaN    NaN               NaN   \n",
      "4            NaN             NaN            NaN    NaN               NaN   \n",
      "\n",
      "  Other Vaccine  \n",
      "0     Y     NaN  \n",
      "1     Y     NaN  \n",
      "2   NaN     NaN  \n",
      "3   NaN     NaN  \n",
      "4   NaN     NaN  \n",
      "DataFrame for Arkansas_policy.csv:\n",
      "        date                                             policy  \\\n",
      "0  11-Mar-20  Governor Hutchinson signed an executive order ...   \n",
      "1  11-Mar-20  The Governor announced that members of his cab...   \n",
      "2  12-Mar-20  The Secretary of State ordered the closure of ...   \n",
      "3  12-Mar-20  The Governor amended executive order 20-03 to ...   \n",
      "4  13-Mar-20  The Governor issued executive order 20-05, per...   \n",
      "\n",
      "  Restrict/Close Opening (State) Deferring to County Testing Education  \\\n",
      "0            NaN             NaN                 NaN     NaN       NaN   \n",
      "1            NaN             NaN                 NaN     NaN       NaN   \n",
      "2              Y             NaN                 NaN     NaN       NaN   \n",
      "3            NaN             NaN                 NaN     NaN       NaN   \n",
      "4            NaN             NaN                 NaN     NaN       NaN   \n",
      "\n",
      "  Health/Medical Emergency Level Transportation Budget Social Distancing  \\\n",
      "0            NaN               Y            NaN    NaN               NaN   \n",
      "1            NaN             NaN            NaN    NaN               NaN   \n",
      "2            NaN             NaN            NaN    NaN               NaN   \n",
      "3            NaN             NaN            NaN      Y               NaN   \n",
      "4              Y             NaN            NaN    NaN               NaN   \n",
      "\n",
      "  Other Vaccine  \n",
      "0   NaN     NaN  \n",
      "1     Y     NaN  \n",
      "2   NaN     NaN  \n",
      "3   NaN     NaN  \n",
      "4   NaN     NaN  \n",
      "DataFrame for California_policy.csv:\n",
      "       date                                             policy Restrict/Close  \\\n",
      "0  2-Mar-20  Governor Newsom is requesting emergency action...            NaN   \n",
      "1  3-Mar-20  California's Public Health Department announce...            NaN   \n",
      "2  5-Mar-20  California Employee Development Department ann...            NaN   \n",
      "3  5-Mar-20  The California Department of Insurance issued ...            NaN   \n",
      "4  7-Mar-20  California officials issued updated guidance t...            NaN   \n",
      "\n",
      "  Opening (State) Deferring to County Testing Education Health/Medical  \\\n",
      "0             NaN                 NaN     NaN       NaN            NaN   \n",
      "1             NaN                 NaN     NaN       NaN            NaN   \n",
      "2             NaN                 NaN     NaN       NaN            NaN   \n",
      "3             NaN                 NaN     NaN       NaN            NaN   \n",
      "4             NaN                 NaN       Y       NaN            NaN   \n",
      "\n",
      "  Emergency Level Transportation Budget Social Distancing Other Vaccine  \n",
      "0             NaN              Y    NaN               NaN     Y     NaN  \n",
      "1             NaN            NaN      Y               NaN     Y     NaN  \n",
      "2             NaN            NaN    NaN               NaN     Y     NaN  \n",
      "3               Y            NaN    NaN               NaN     Y     NaN  \n",
      "4             NaN            NaN    NaN               NaN     Y     NaN  \n",
      "DataFrame for Colorado_policy.csv:\n",
      "        date                                             policy  \\\n",
      "0   2-Mar-20  In response to new coronavirus cases, Governor...   \n",
      "1  10-Mar-20  Governor Polis signed an executive order decla...   \n",
      "2  11-Mar-20  Governor Polis issued guidance to all K-12 sch...   \n",
      "3  11-Mar-20  Governor Polis also instructedthe Colorado Dep...   \n",
      "4  13-Mar-20  The Governor issued guidance for large gatheri...   \n",
      "\n",
      "  Restrict/Close Opening (State) Deferring to County Testing Education  \\\n",
      "0            NaN             NaN                 NaN     NaN       NaN   \n",
      "1            NaN             NaN                 NaN       Y       NaN   \n",
      "2            NaN             NaN                 NaN     NaN       NaN   \n",
      "3            NaN             NaN                 NaN     NaN       NaN   \n",
      "4            NaN             NaN                 NaN     NaN       NaN   \n",
      "\n",
      "  Health/Medical Emergency Level  Transportation Budget Social Distancing  \\\n",
      "0            NaN               Y             NaN    NaN               NaN   \n",
      "1            NaN               Y             NaN    NaN               NaN   \n",
      "2            NaN             NaN             NaN    NaN               NaN   \n",
      "3            NaN             NaN             NaN    NaN               NaN   \n",
      "4            NaN             NaN             NaN    NaN               NaN   \n",
      "\n",
      "  Other Vaccine  \n",
      "0     Y     NaN  \n",
      "1     Y     NaN  \n",
      "2     Y     NaN  \n",
      "3     Y     NaN  \n",
      "4     Y     NaN  \n",
      "DataFrame for Connecticut_policy.csv:\n",
      "        date                                             policy  \\\n",
      "0   7-Mar-20  Governor Lamont announced that Connecticut is ...   \n",
      "1   9-Mar-20  The Governor also issued an immediate freeze o...   \n",
      "2   9-Mar-20  The Department of Insurance has a bulletin whi...   \n",
      "3  10-Mar-20  Governor Lamont declared civil preparedness an...   \n",
      "4  10-Mar-20  The Connecticut Insurance Department is notify...   \n",
      "\n",
      "  Restrict/Close Opening (State) Deferring to County Testing Education  \\\n",
      "0            NaN             NaN                 NaN     NaN       NaN   \n",
      "1              Y             NaN                 NaN     NaN       NaN   \n",
      "2            NaN             NaN                 NaN     NaN       NaN   \n",
      "3            NaN             NaN                 NaN     NaN       NaN   \n",
      "4            NaN             NaN                 NaN     NaN       NaN   \n",
      "\n",
      "  Health/Medical Emergency Level Transportation Budget Social Distancing  \\\n",
      "0            NaN             NaN            NaN    NaN               NaN   \n",
      "1            NaN             NaN              Y    NaN               NaN   \n",
      "2            NaN             NaN            NaN    NaN               NaN   \n",
      "3            NaN               Y            NaN    NaN               NaN   \n",
      "4            NaN             NaN            NaN    NaN               NaN   \n",
      "\n",
      "  Other Vaccine  \n",
      "0     Y     NaN  \n",
      "1   NaN     NaN  \n",
      "2     Y     NaN  \n",
      "3   NaN     NaN  \n",
      "4     Y     NaN  \n",
      "DataFrame for Delaware_policy.csv:\n",
      "        date                                             policy  \\\n",
      "0  12-Mar-20  Governor Carney issued a State of Emergency de...   \n",
      "1  13-Mar-20  The Governor directed a two-week closure of De...   \n",
      "2  16-Mar-20  The Delaware Department of Education received ...   \n",
      "3  14-Mar-20  The Governor authorized all executive branch a...   \n",
      "4  16-Mar-20  The Delaware Department of Transportation anno...   \n",
      "\n",
      "  Restrict/Close Opening (State)  Deferring to County Testing Education  \\\n",
      "0              Y             NaN                  NaN     NaN       NaN   \n",
      "1              Y             NaN                  NaN     NaN         Y   \n",
      "2              Y             NaN                  NaN     NaN       NaN   \n",
      "3              Y             NaN                  NaN     NaN       NaN   \n",
      "4              Y             NaN                  NaN     NaN       NaN   \n",
      "\n",
      "  Health/Medical Emergency Level Transportation Budget Social Distancing  \\\n",
      "0            NaN             NaN            NaN    NaN               NaN   \n",
      "1            NaN             NaN            NaN    NaN               NaN   \n",
      "2            NaN             NaN            NaN    NaN               NaN   \n",
      "3            NaN             NaN            NaN    NaN               NaN   \n",
      "4            NaN             NaN              Y    NaN               NaN   \n",
      "\n",
      "  Other Vaccine  \n",
      "0   NaN     NaN  \n",
      "1   NaN     NaN  \n",
      "2   NaN     NaN  \n",
      "3   NaN     NaN  \n",
      "4   NaN     NaN  \n",
      "DataFrame for DistrictofColumbia_policy.csv:\n",
      "        date                                             policy  \\\n",
      "0   7-Mar-20  The District of Columbia announces its first C...   \n",
      "1  13-Mar-20  The District of Columbia bans gathering of 50+...   \n",
      "2  16-Mar-20  D.C. begins offering free student meals at sch...   \n",
      "3  16-Mar-20  District government begins modified operations...   \n",
      "4  16-Mar-20  D.C. government closes restaurant/bar dining r...   \n",
      "\n",
      "  Restrict/Close Opening (State)  Deferring to County Testing Education  \\\n",
      "0            NaN             NaN                  NaN     NaN       NaN   \n",
      "1              Y             NaN                  NaN     NaN       NaN   \n",
      "2            NaN             NaN                  NaN     NaN       NaN   \n",
      "3              Y             NaN                  NaN     NaN       NaN   \n",
      "4              Y             NaN                  NaN     NaN       NaN   \n",
      "\n",
      "  Health/Medical Emergency Level Transportation Budget Social Distancing  \\\n",
      "0            NaN             NaN            NaN    NaN               NaN   \n",
      "1            NaN             NaN            NaN    NaN               NaN   \n",
      "2            NaN             NaN            NaN    NaN               NaN   \n",
      "3            NaN             NaN            NaN    NaN               NaN   \n",
      "4            NaN             NaN            NaN    NaN               NaN   \n",
      "\n",
      "  Other Vaccine  \n",
      "0     Y     NaN  \n",
      "1   NaN     NaN  \n",
      "2     Y     NaN  \n",
      "3   NaN     NaN  \n",
      "4   NaN     NaN  \n",
      "DataFrame for Florida_policy.csv:\n",
      "        date                                             policy  \\\n",
      "0   1-Mar-20  Governor DeSantis signed anexecutive orderdire...   \n",
      "1   9-Mar-20  Governor DeSantis declared a state of emergenc...   \n",
      "2  12-Mar-20  Florida activated the Business Damage Assessme...   \n",
      "3  16-Mar-20  The Governor activated the Florida Small Busin...   \n",
      "4  17-Mar-20  The Florida Division of Emergency Management u...   \n",
      "\n",
      "  Restrict/Close Opening (State) Deferring to County Testing Education  \\\n",
      "0            NaN             NaN                 NaN     NaN       NaN   \n",
      "1            NaN             NaN                 NaN     NaN       NaN   \n",
      "2            NaN             NaN                 NaN     NaN       NaN   \n",
      "3            NaN             NaN                 NaN     NaN       NaN   \n",
      "4            NaN             NaN                 NaN     NaN       NaN   \n",
      "\n",
      "  Health/Medical Emergency Level Transportation Budget Social Distancing  \\\n",
      "0            NaN             NaN            NaN    NaN               NaN   \n",
      "1              Y               Y            NaN    NaN               NaN   \n",
      "2            NaN             NaN            NaN    NaN               NaN   \n",
      "3            NaN             NaN            NaN    NaN               NaN   \n",
      "4            NaN             NaN            NaN    NaN               NaN   \n",
      "\n",
      "  Other Vaccine  \n",
      "0     Y     NaN  \n",
      "1     Y     NaN  \n",
      "2     Y     NaN  \n",
      "3     Y     NaN  \n",
      "4     Y     NaN  \n",
      "DataFrame for Georgia_policy.csv:\n",
      "        date                                             policy  \\\n",
      "0   2-Mar-20  Governor Kemp announced a coronavirus task for...   \n",
      "1  12-Mar-20  Governor Kemp ordered most state employees to ...   \n",
      "2  12-Mar-20  Governor Kemp requested 100 million in state f...   \n",
      "3  13-Mar-20  Governor Kemp issued a public health emergency...   \n",
      "4  14-Mar-20  The Governor issued an executive order calling...   \n",
      "\n",
      "  Restrict/Close Opening (State)  Deferring to County Testing Education  \\\n",
      "0            NaN             NaN                  NaN     NaN       NaN   \n",
      "1              Y             NaN                  NaN     NaN       NaN   \n",
      "2            NaN             NaN                  NaN     NaN       NaN   \n",
      "3            NaN             NaN                  NaN     NaN       NaN   \n",
      "4            NaN             NaN                  NaN     NaN       NaN   \n",
      "\n",
      "  Health/Medical Emergency Level Transportation Budget Social Distancing  \\\n",
      "0            NaN             NaN            NaN    NaN               NaN   \n",
      "1            NaN             NaN            NaN    NaN               NaN   \n",
      "2            NaN             NaN            NaN    NaN               NaN   \n",
      "3            NaN             NaN            NaN    NaN               NaN   \n",
      "4            NaN             NaN            NaN    NaN               NaN   \n",
      "\n",
      "  Other Vaccine  \n",
      "0     Y     NaN  \n",
      "1   NaN     NaN  \n",
      "2     Y     NaN  \n",
      "3     Y     NaN  \n",
      "4     Y     NaN  \n",
      "DataFrame for Guam_policy.csv:\n",
      "        date                                             policy  \\\n",
      "0   9-Mar-20  Governor Guerrero implemented a Temporary Econ...   \n",
      "1  15-Mar-20   The Governor declared a public health emergency.   \n",
      "2  15-Mar-20  The Governor and the Guam Department of Public...   \n",
      "3  16-Mar-20  The Governor signed a bill that prevents price...   \n",
      "4  18-Mar-20  The Governor signed an executive order which i...   \n",
      "\n",
      "  Restrict/Close Opening (State)  Deferring to County Testing Education  \\\n",
      "0            NaN             NaN                  NaN     NaN       NaN   \n",
      "1            NaN             NaN                  NaN     NaN       NaN   \n",
      "2              Y             NaN                  NaN     NaN       NaN   \n",
      "3            NaN             NaN                  NaN     NaN       NaN   \n",
      "4              Y             NaN                  NaN     NaN       NaN   \n",
      "\n",
      "  Health/Medical Emergency Level Transportation  Budget Social Distancing  \\\n",
      "0            NaN             NaN            NaN     NaN               NaN   \n",
      "1            NaN             NaN            NaN     NaN               NaN   \n",
      "2            NaN             NaN            NaN     NaN               NaN   \n",
      "3            NaN             NaN            NaN     NaN               NaN   \n",
      "4            NaN             NaN            NaN     NaN               NaN   \n",
      "\n",
      "  Other Vaccine  \n",
      "0     Y     NaN  \n",
      "1     Y     NaN  \n",
      "2   NaN     NaN  \n",
      "3     Y     NaN  \n",
      "4   NaN     NaN  \n",
      "DataFrame for Hawaii_policy.csv:\n",
      "        date                                             policy  \\\n",
      "0   4-Mar-20  Governor Ige declared a state of emergency for...   \n",
      "1  12-Mar-20  The Hawaii Department of Transportation instal...   \n",
      "2  15-Mar-20  The Governor issued a supplemental emergency p...   \n",
      "3  17-Mar-20  The Governor at a press conference issued the ...   \n",
      "4  19-Mar-20  The Governor supported the decision of the Haw...   \n",
      "\n",
      "  Restrict/Close Opening (State) Deferring to County Testing Education  \\\n",
      "0            NaN             NaN                 NaN     NaN       NaN   \n",
      "1            NaN             NaN                 NaN     NaN       NaN   \n",
      "2            NaN             NaN                 NaN     NaN       NaN   \n",
      "3              Y             NaN                 NaN     NaN       NaN   \n",
      "4              Y             NaN                 NaN     NaN       NaN   \n",
      "\n",
      "  Health/Medical  Emergency Level Transportation Budget Social Distancing  \\\n",
      "0            NaN              NaN            NaN    NaN               NaN   \n",
      "1            NaN              NaN            NaN    NaN               NaN   \n",
      "2            NaN              NaN            NaN    NaN               NaN   \n",
      "3            NaN              NaN            NaN    NaN               NaN   \n",
      "4            NaN              NaN            NaN    NaN               NaN   \n",
      "\n",
      "  Other Vaccine  \n",
      "0     Y     NaN  \n",
      "1     Y     NaN  \n",
      "2     Y     NaN  \n",
      "3   NaN     NaN  \n",
      "4   NaN     NaN  \n",
      "DataFrame for Idaho_policy.csv:\n",
      "        date                                             policy  \\\n",
      "0   4-Mar-20  Governor Brad Little announced the creation of...   \n",
      "1   6-Mar-20  The Idaho Legislature approved Governor Little...   \n",
      "2  13-Mar-20     Governor Little declared a state of emergency.   \n",
      "3  16-Mar-20  The legislature approved The Governors request...   \n",
      "4  16-Mar-20  Idaho Department of Health and Welfare provide...   \n",
      "\n",
      "  Restrict/Close Opening (State) Deferring to County Testing Education  \\\n",
      "0            NaN             NaN                 NaN     NaN       NaN   \n",
      "1            NaN             NaN                 NaN     NaN       NaN   \n",
      "2            NaN             NaN                 NaN     NaN       NaN   \n",
      "3            NaN             NaN                 NaN     NaN       NaN   \n",
      "4            NaN             NaN                 NaN     NaN       NaN   \n",
      "\n",
      "  Health/Medical Emergency Level  Transportation Budget Social Distancing  \\\n",
      "0            NaN             NaN             NaN    NaN               NaN   \n",
      "1            NaN             NaN             NaN    NaN               NaN   \n",
      "2            NaN               Y             NaN    NaN               NaN   \n",
      "3            NaN             NaN             NaN    NaN               NaN   \n",
      "4            NaN             NaN             NaN    NaN               NaN   \n",
      "\n",
      "  Other Vaccine  \n",
      "0     Y     NaN  \n",
      "1     Y     NaN  \n",
      "2     Y     NaN  \n",
      "3     Y     NaN  \n",
      "4     Y     NaN  \n",
      "DataFrame for Illinois_policy.csv:\n",
      "        date                                             policy  \\\n",
      "0   2-Mar-20  The Illinois Department of Insurance issued a ...   \n",
      "1   8-Mar-20  The Illinois Department of Insurance has relea...   \n",
      "2  10-Mar-20  In a press conference, Governor Pritzker annou...   \n",
      "3  12-Mar-20  Governor Pritzker ordered the closure of publi...   \n",
      "4  13-Mar-20  Governor Pritzker announces two-week statewide...   \n",
      "\n",
      "  Restrict/Close Opening (State) Deferring to County Testing Education  \\\n",
      "0            NaN             NaN                 NaN     NaN       NaN   \n",
      "1            NaN             NaN                 NaN     NaN       NaN   \n",
      "2            NaN             NaN                 NaN     NaN       NaN   \n",
      "3              Y             NaN                 NaN     NaN       NaN   \n",
      "4              Y             NaN                 NaN     NaN       NaN   \n",
      "\n",
      "  Health/Medical  Emergency Level  Transportation Budget Social Distancing  \\\n",
      "0            NaN              NaN             NaN    NaN               NaN   \n",
      "1            NaN              NaN             NaN    NaN               NaN   \n",
      "2            NaN              NaN             NaN    NaN               NaN   \n",
      "3            NaN              NaN             NaN    NaN               NaN   \n",
      "4            NaN              NaN             NaN    NaN               NaN   \n",
      "\n",
      "  Other Vaccine  \n",
      "0     Y     NaN  \n",
      "1     Y     NaN  \n",
      "2     Y     NaN  \n",
      "3   NaN     NaN  \n",
      "4   NaN     NaN  \n",
      "DataFrame for Indiana_policy.csv:\n",
      "        date                                             policy  \\\n",
      "0   6-Mar-20  Governor Holcomb signed an executive order dec...   \n",
      "1  12-Mar-20  Governor Holcomb initiatedseveral actionson Ma...   \n",
      "2  13-Mar-20  The Governor announced additional steps the st...   \n",
      "3  16-Mar-20  The Governor announcedthe following updates re...   \n",
      "4  17-Mar-20  The Governor signed an executive order activat...   \n",
      "\n",
      "  Restrict/Close Opening (State) Deferring to County Testing Education  \\\n",
      "0            NaN             NaN                 NaN     NaN       NaN   \n",
      "1              Y             NaN                 NaN     NaN       NaN   \n",
      "2            NaN             NaN                 NaN     NaN       NaN   \n",
      "3              Y             NaN                 NaN     NaN       NaN   \n",
      "4            NaN             NaN                 NaN     NaN       NaN   \n",
      "\n",
      "  Health/Medical Emergency Level Transportation Budget  Social Distancing  \\\n",
      "0            NaN               Y            NaN    NaN                NaN   \n",
      "1            NaN             NaN            NaN    NaN                NaN   \n",
      "2            NaN             NaN            NaN    NaN                NaN   \n",
      "3            NaN             NaN            NaN    NaN                NaN   \n",
      "4            NaN             NaN            NaN    NaN                NaN   \n",
      "\n",
      "  Other Vaccine  \n",
      "0   NaN     NaN  \n",
      "1   NaN     NaN  \n",
      "2     Y     NaN  \n",
      "3   NaN     NaN  \n",
      "4     Y     NaN  \n",
      "DataFrame for Iowa_policy.csv:\n",
      "        date                                             policy  \\\n",
      "0  10-Mar-20  Governor Reynolds announced in a news conferen...   \n",
      "1  15-Mar-20  The Governor recommended Iowa schools close fo...   \n",
      "2  16-Mar-20  The Governor announced various forms of assist...   \n",
      "3  17-Mar-20  The Governor signed legislation that creates e...   \n",
      "4  17-Mar-20  The Governor issued state of public health dis...   \n",
      "\n",
      "  Restrict/Close Opening (State) Deferring to County Testing Education  \\\n",
      "0            NaN             NaN                 NaN     NaN       NaN   \n",
      "1              Y             NaN                 NaN     NaN         Y   \n",
      "2            NaN             NaN                 NaN     NaN       NaN   \n",
      "3            NaN             NaN                 NaN     NaN       NaN   \n",
      "4              Y             NaN                 NaN     NaN       NaN   \n",
      "\n",
      "  Health/Medical Emergency Level  Transportation Budget Social Distancing  \\\n",
      "0            NaN             NaN             NaN    NaN               NaN   \n",
      "1            NaN             NaN             NaN    NaN               NaN   \n",
      "2            NaN             NaN             NaN    NaN               NaN   \n",
      "3            NaN               Y             NaN    NaN               NaN   \n",
      "4            NaN               Y             NaN    NaN               NaN   \n",
      "\n",
      "  Other Vaccine  \n",
      "0     Y     NaN  \n",
      "1   NaN     NaN  \n",
      "2     Y     NaN  \n",
      "3     Y     NaN  \n",
      "4   NaN     NaN  \n",
      "DataFrame for Kansas_policy.csv:\n",
      "        date                                             policy  \\\n",
      "0  12-Mar-20        The Governor declared a state of emergency.   \n",
      "1  15-Mar-20  The Governor recommended K-12 school in Kansas...   \n",
      "2  16-Mar-20  The Governor banned all gatherings larger than...   \n",
      "3  17-Mar-20  The Governor ordered, effective Monday, March ...   \n",
      "4  17-Mar-20  The Governor ordered the closure of all K-12 s...   \n",
      "\n",
      "  Restrict/Close Opening (State) Deferring to County Testing Education  \\\n",
      "0            NaN             NaN                 NaN     NaN       NaN   \n",
      "1              Y             NaN                 NaN     NaN         Y   \n",
      "2              Y             NaN                 NaN     NaN       NaN   \n",
      "3              Y             NaN                 NaN     NaN       NaN   \n",
      "4              Y             NaN                 NaN     NaN         Y   \n",
      "\n",
      "  Health/Medical Emergency Level Transportation Budget Social Distancing  \\\n",
      "0            NaN               Y            NaN    NaN               NaN   \n",
      "1            NaN             NaN            NaN    NaN               NaN   \n",
      "2            NaN             NaN            NaN    NaN               NaN   \n",
      "3            NaN             NaN            NaN    NaN               NaN   \n",
      "4            NaN             NaN            NaN    NaN               NaN   \n",
      "\n",
      "  Other Vaccine  \n",
      "0   NaN     NaN  \n",
      "1   NaN     NaN  \n",
      "2   NaN     NaN  \n",
      "3   NaN     NaN  \n",
      "4   NaN     NaN  \n",
      "DataFrame for Kentucky_policy.csv:\n",
      "        date                                             policy  \\\n",
      "0   6-Mar-20  Governor Beshear declared astate of emergency ...   \n",
      "1   7-Mar-20  The Governor issued guidance for high risk pop...   \n",
      "2  10-Mar-20  Governor Beshear announced in a press conferen...   \n",
      "3  11-Mar-20  Governor Beshear instructed school districts t...   \n",
      "4  15-Mar-20  The Governor asked all Kentucky hospitals to c...   \n",
      "\n",
      "  Restrict/Close Deferring to County Opening (County) Testing Education  \\\n",
      "0            NaN                 NaN              NaN     NaN       NaN   \n",
      "1            NaN                 NaN              NaN     NaN       NaN   \n",
      "2            NaN                 NaN              NaN     NaN       NaN   \n",
      "3              Y                 NaN              NaN     NaN       NaN   \n",
      "4              Y                 NaN              NaN     NaN       NaN   \n",
      "\n",
      "  Health/Medical Emergency Level Transportation  Budget Social Distancing  \\\n",
      "0            NaN               Y            NaN     NaN               NaN   \n",
      "1            NaN             NaN            NaN     NaN               NaN   \n",
      "2            NaN             NaN            NaN     NaN               NaN   \n",
      "3            NaN             NaN            NaN     NaN               NaN   \n",
      "4            NaN             NaN            NaN     NaN               NaN   \n",
      "\n",
      "  Other Vaccine  \n",
      "0     Y     NaN  \n",
      "1     Y     NaN  \n",
      "2     Y     NaN  \n",
      "3   NaN     NaN  \n",
      "4   NaN     NaN  \n",
      "DataFrame for Louisiana_policy.csv:\n",
      "        date                                             policy  \\\n",
      "0   2-Mar-20  Gov. John Bel Edwards announced the creation o...   \n",
      "1  11-Mar-20  Governor Edwards declared a public health emer...   \n",
      "2  13-Mar-20  The Governor signed an executive order postpon...   \n",
      "3  13-Mar-20  The Governor signed a proclamation that immedi...   \n",
      "4  17-Mar-20  The Governor ordered bars, gyms and movie thea...   \n",
      "\n",
      "  Restrict/Close Opening (State) Deferring to County Testing Education  \\\n",
      "0            NaN             NaN                 NaN     NaN       NaN   \n",
      "1            NaN             NaN                 NaN     NaN       NaN   \n",
      "2            NaN             NaN                 NaN     NaN       NaN   \n",
      "3              Y             NaN                 NaN     NaN       NaN   \n",
      "4              Y             NaN                 NaN     NaN       NaN   \n",
      "\n",
      "  Health/Medical Emergency Level  Transportation Budget Social Distancing  \\\n",
      "0            NaN             NaN             NaN    NaN               NaN   \n",
      "1            NaN             NaN             NaN    NaN               NaN   \n",
      "2            NaN             NaN             NaN    NaN               NaN   \n",
      "3            NaN             NaN             NaN    NaN               NaN   \n",
      "4            NaN             NaN             NaN    NaN               NaN   \n",
      "\n",
      "  Other Vaccine  \n",
      "0     Y     NaN  \n",
      "1     Y     NaN  \n",
      "2     Y     NaN  \n",
      "3   NaN     NaN  \n",
      "4   NaN     NaN  \n",
      "DataFrame for Maine_policy.csv:\n",
      "        date                                             policy  \\\n",
      "0   2-Mar-20  Governor Janet Mills convened an Coronavirus R...   \n",
      "1  12-Mar-20  Governor Janet Mills recommended in a press co...   \n",
      "2  15-Mar-20  Governor Janet Mills signed a proclamation of ...   \n",
      "3  17-Mar-20  The Governors emergency legislation were appro...   \n",
      "4  18-Mar-20  The Governor issued an executive order that cl...   \n",
      "\n",
      "  Restrict/Close Opening (State) Deferring to County Testing Education  \\\n",
      "0            NaN             NaN                 NaN     NaN       NaN   \n",
      "1              Y             NaN                 NaN     NaN       NaN   \n",
      "2            NaN             NaN                 NaN     NaN       NaN   \n",
      "3            NaN             NaN                 NaN     NaN       NaN   \n",
      "4              Y             NaN                 NaN     NaN       NaN   \n",
      "\n",
      "  Health/Medical Emergency Level Transportation Budget Social Distancing  \\\n",
      "0            NaN             NaN            NaN    NaN               NaN   \n",
      "1            NaN             NaN            NaN    NaN               NaN   \n",
      "2            NaN               Y            NaN    NaN               NaN   \n",
      "3            NaN             NaN            NaN    NaN               NaN   \n",
      "4            NaN             NaN            NaN    NaN               NaN   \n",
      "\n",
      "  Other Vaccine  \n",
      "0     Y     NaN  \n",
      "1   NaN     NaN  \n",
      "2     Y     NaN  \n",
      "3     Y     NaN  \n",
      "4   NaN     NaN  \n",
      "DataFrame for Maryland_policy.csv:\n",
      "       date                                             policy Restrict/Close  \\\n",
      "0  2-Mar-20  MDH has released public service announcements ...            NaN   \n",
      "1  3-Mar-20  Governor Hogan is submitting a $10 million eme...            NaN   \n",
      "2  3-Mar-20  The Maryland Higher Education Commission is co...            NaN   \n",
      "3  3-Mar-20  MDH is coordinating with nursing homes and ass...            NaN   \n",
      "4  3-Mar-20  MDH is coordinating with the Maryland State De...            NaN   \n",
      "\n",
      "  Opening (State)  Deferring to County Testing Education Health/Medical  \\\n",
      "0             NaN                  NaN     NaN       NaN            NaN   \n",
      "1             NaN                  NaN     NaN       NaN            NaN   \n",
      "2             NaN                  NaN     NaN         Y            NaN   \n",
      "3             NaN                  NaN     NaN       NaN            NaN   \n",
      "4             NaN                  NaN     NaN         Y            NaN   \n",
      "\n",
      "  Emergency Level Transportation Budget Social Distancing Other Vaccine  \\\n",
      "0             NaN            NaN    NaN                 Y   NaN     NaN   \n",
      "1             NaN            NaN    NaN                 y   NaN     NaN   \n",
      "2             NaN            NaN    NaN                 Y   NaN     NaN   \n",
      "3             NaN            NaN    NaN                 Y   NaN     NaN   \n",
      "4             NaN            NaN    NaN                 Y   NaN     NaN   \n",
      "\n",
      "   Unnamed: 14  \n",
      "0          NaN  \n",
      "1          NaN  \n",
      "2          NaN  \n",
      "3          NaN  \n",
      "4          NaN  \n",
      "DataFrame for Massachusetts_policy.csv:\n",
      "        date                                             policy  \\\n",
      "0   4-Mar-20  Governor Baker announced that due to the emerg...   \n",
      "1  10-Mar-20      Governor Baker declared a state of emergency.   \n",
      "2  10-Mar-20  Broad restrictions are imposed on travel for m...   \n",
      "3  12-Mar-20  Governor Baker signed off on a $15 million dol...   \n",
      "4  13-Mar-20  The state allowed medical professionals from o...   \n",
      "\n",
      "  Restrict/Close Opening (State)  Deferring to County Testing Education  \\\n",
      "0              Y             NaN                  NaN     NaN       NaN   \n",
      "1            NaN             NaN                  NaN     NaN       NaN   \n",
      "2              Y             NaN                  NaN     NaN       NaN   \n",
      "3            NaN             NaN                  NaN     NaN       NaN   \n",
      "4            NaN             NaN                  NaN     NaN       NaN   \n",
      "\n",
      "  Health/Medical Emergency Level  Transportation Budget Social Distancing  \\\n",
      "0            NaN             NaN             NaN    NaN               NaN   \n",
      "1            NaN               Y             NaN    NaN               NaN   \n",
      "2            NaN             NaN             NaN    NaN               NaN   \n",
      "3            NaN             NaN             NaN      Y               NaN   \n",
      "4              Y             NaN             NaN    NaN               NaN   \n",
      "\n",
      "  Other Vaccine  \n",
      "0   NaN     NaN  \n",
      "1     Y     NaN  \n",
      "2   NaN     NaN  \n",
      "3     Y     NaN  \n",
      "4     Y     NaN  \n",
      "DataFrame for Michigan_policy.csv:\n",
      "        date                                             policy  \\\n",
      "0   3-Mar-20  Governor Whitmer announced the creation of fou...   \n",
      "1  10-Mar-20    Governor Whitmer declared a state of emergency.   \n",
      "2  12-Mar-20  Governor Whitmer ordered closure of all K-12 s...   \n",
      "3  15-Mar-20  The Governor signed Executive Order 2020-8, ef...   \n",
      "4  16-Mar-20  The Governor issued guidance that limits mass ...   \n",
      "\n",
      "  Restrict/Close Opening (State)  Deferring to County Testing Education  \\\n",
      "0            NaN             NaN                  NaN     NaN       NaN   \n",
      "1            NaN             NaN                  NaN     NaN       NaN   \n",
      "2              Y             NaN                  NaN     NaN         Y   \n",
      "3            NaN             NaN                  NaN     NaN       NaN   \n",
      "4              Y             NaN                  NaN     NaN       NaN   \n",
      "\n",
      "  Health/Medical Emergency Level Transportation Budget Social Distancing  \\\n",
      "0            NaN             NaN            NaN    NaN               NaN   \n",
      "1            NaN               Y            NaN    NaN               NaN   \n",
      "2            NaN             NaN            NaN    NaN               NaN   \n",
      "3            NaN             NaN            NaN    NaN               NaN   \n",
      "4            NaN             NaN            NaN    NaN               NaN   \n",
      "\n",
      "  Other Vaccine  \n",
      "0     Y     NaN  \n",
      "1   NaN     NaN  \n",
      "2   NaN     NaN  \n",
      "3     Y     NaN  \n",
      "4   NaN     NaN  \n",
      "DataFrame for Minnesota_policy.csv:\n",
      "        date                                             policy  \\\n",
      "0  10-Mar-20  Governor Walz signed legislation authorizing t...   \n",
      "1  11-Mar-20  Proposed legislation would grant the Governor ...   \n",
      "2  12-Mar-20  Governor Walz restricted all state business tr...   \n",
      "3  15-Mar-20  The Governor signed Executive Order 20-02 auth...   \n",
      "4  15-Mar-20  The Minnesota Department of Labor and Industry...   \n",
      "\n",
      "  Restrict/Close Opening (State)  Deferring to County Testing Education  \\\n",
      "0            NaN             NaN                  NaN     NaN       NaN   \n",
      "1            NaN             NaN                  NaN     NaN       NaN   \n",
      "2              Y             NaN                  NaN     NaN       NaN   \n",
      "3              Y             NaN                  NaN     NaN         Y   \n",
      "4            NaN             NaN                  NaN     NaN       NaN   \n",
      "\n",
      "  Health/Medical Emergency Level  Transportation Budget Social Distancing  \\\n",
      "0            NaN             NaN             NaN    NaN               NaN   \n",
      "1            NaN               Y             NaN    NaN               NaN   \n",
      "2            NaN             NaN             NaN    NaN               NaN   \n",
      "3            NaN             NaN             NaN    NaN               NaN   \n",
      "4              Y             NaN             NaN    NaN               NaN   \n",
      "\n",
      "  Other Vaccine  \n",
      "0     Y     NaN  \n",
      "1   NaN     NaN  \n",
      "2   NaN     NaN  \n",
      "3     Y     NaN  \n",
      "4   NaN     NaN  \n",
      "DataFrame for Mississippi_policy.csv:\n",
      "        date                                             policy  \\\n",
      "0   4-Mar-20  Governor Reeves established the Mississippi Co...   \n",
      "1  14-Mar-20     Governor Reeves declared a state of emergency.   \n",
      "2  16-Mar-20  The Governor signed two executive orders which...   \n",
      "3  19-Mar-20  The Governor announced the closing of all publ...   \n",
      "4  20-Mar-20         The Governor activated the National Guard.   \n",
      "\n",
      "  Restrict/Close Opening (State) Deferring to County Testing Education  \\\n",
      "0            NaN             NaN                 NaN     NaN       NaN   \n",
      "1            NaN             NaN                 NaN     NaN       NaN   \n",
      "2              Y             NaN                 NaN       Y         Y   \n",
      "3              Y             NaN                 NaN     NaN         Y   \n",
      "4            NaN             NaN                 NaN     NaN       NaN   \n",
      "\n",
      "  Health/Medical Emergency Level  Transportation  Budget Social Distancing  \\\n",
      "0            NaN             NaN             NaN     NaN               NaN   \n",
      "1            NaN               Y             NaN     NaN               NaN   \n",
      "2            NaN             NaN             NaN     NaN               NaN   \n",
      "3            NaN             NaN             NaN     NaN               NaN   \n",
      "4            NaN             NaN             NaN     NaN               NaN   \n",
      "\n",
      "  Other Vaccine  \n",
      "0     Y     NaN  \n",
      "1   NaN     NaN  \n",
      "2     Y     NaN  \n",
      "3   NaN     NaN  \n",
      "4     Y     NaN  \n",
      "DataFrame for Missouri_policy.csv:\n",
      "        date                                             policy  \\\n",
      "0  13-Mar-20  Governor Parsons signs a state of emergency de...   \n",
      "1  15-Mar-20  The Governor issued guidance limiting mass gat...   \n",
      "2  17-Mar-20  The Governor announced that casinos will be cl...   \n",
      "3  18-Mar-20  The Governor signed Executive Order 20-04 whic...   \n",
      "4  19-Mar-20  The Governor directed the Missouri State Emerg...   \n",
      "\n",
      "  Restrict/Close Opening (State) Deferring to County Testing Education  \\\n",
      "0            NaN             NaN                 NaN     NaN       NaN   \n",
      "1              Y             NaN                 NaN     NaN       NaN   \n",
      "2              Y             NaN                 NaN     NaN         Y   \n",
      "3            NaN             NaN                 NaN     NaN         Y   \n",
      "4            NaN             NaN                 NaN     NaN       NaN   \n",
      "\n",
      "  Health/Medical Emergency Level  Transportation Budget Social Distancing  \\\n",
      "0            NaN               Y             NaN    NaN               NaN   \n",
      "1            NaN             NaN             NaN    NaN               NaN   \n",
      "2            NaN             NaN             NaN    NaN               NaN   \n",
      "3              Y             NaN             NaN    NaN               NaN   \n",
      "4            NaN             NaN             NaN    NaN               NaN   \n",
      "\n",
      "  Other Vaccine  \n",
      "0   NaN     NaN  \n",
      "1   NaN     NaN  \n",
      "2   NaN     NaN  \n",
      "3     Y     NaN  \n",
      "4     Y     NaN  \n",
      "DataFrame for Montana_policy.csv:\n",
      "        date                                             policy  \\\n",
      "0   3-Mar-20  Governor Bullock activated the Governors Coron...   \n",
      "1  12-Mar-20  Governor Bullock declared a state of emergency...   \n",
      "2  15-Mar-20  The Governor issued guidance closing all publi...   \n",
      "3  16-Mar-20  The Governor activated eight Montana Army Nati...   \n",
      "4  17-Mar-20  The Governor announced that uninsured resident...   \n",
      "\n",
      "  Restrict/Close Opening (State) Deferring to County Testing Education  \\\n",
      "0            NaN             NaN                 NaN     NaN       NaN   \n",
      "1            NaN             NaN                 NaN     NaN       NaN   \n",
      "2              Y             NaN                 NaN     NaN         Y   \n",
      "3            NaN             NaN                 NaN     NaN       NaN   \n",
      "4            NaN             NaN                 NaN     NaN       NaN   \n",
      "\n",
      "  Health/Medical Emergency Level  Transportation Budget Social Distancing  \\\n",
      "0            NaN             NaN             NaN    NaN               NaN   \n",
      "1            NaN               Y             NaN    NaN               NaN   \n",
      "2            NaN             NaN             NaN    NaN               NaN   \n",
      "3            NaN             NaN             NaN    NaN               NaN   \n",
      "4            NaN             NaN             NaN    NaN               NaN   \n",
      "\n",
      "  Other Vaccine  \n",
      "0     Y     NaN  \n",
      "1   NaN     NaN  \n",
      "2     Y     NaN  \n",
      "3     Y     NaN  \n",
      "4     Y     NaN  \n",
      "DataFrame for Nebraska_policy.csv:\n",
      "        date                                             policy  \\\n",
      "0  13-Mar-20  Gov. Ricketts issued an emergency declaration ...   \n",
      "1  13-Mar-20  The Nebraska Department of Economic Developmen...   \n",
      "2  13-Mar-20  The Department of Economic Development (DED) a...   \n",
      "3  16-Mar-20  The Governor announced new guidance which limi...   \n",
      "4  17-Mar-20  The Governor issued an Executive Order to allo...   \n",
      "\n",
      "  Restrict/Close Opening (State) Deferring to County Testing Education  \\\n",
      "0            NaN             NaN                 NaN     NaN       NaN   \n",
      "1            NaN             NaN                 NaN     NaN       NaN   \n",
      "2            NaN             NaN                 NaN     NaN       NaN   \n",
      "3              Y             NaN                 NaN     NaN       NaN   \n",
      "4            NaN             NaN                 NaN     NaN       NaN   \n",
      "\n",
      "  Health/Medical Emergency Level  Transportation Budget  Social Distancing  \\\n",
      "0            NaN               Y             NaN    NaN                NaN   \n",
      "1            NaN             NaN             NaN    NaN                NaN   \n",
      "2            NaN             NaN             NaN    NaN                NaN   \n",
      "3            NaN             NaN             NaN    NaN                NaN   \n",
      "4            NaN             NaN             NaN    NaN                NaN   \n",
      "\n",
      "  Other Vaccine  \n",
      "0   NaN     NaN  \n",
      "1     Y     NaN  \n",
      "2     Y     NaN  \n",
      "3   NaN     NaN  \n",
      "4     Y     NaN  \n",
      "DataFrame for Nevada_policy.csv:\n",
      "        date                                             policy  \\\n",
      "0   5-Mar-20  In coordination with the Nevada Department of ...   \n",
      "1  12-Mar-20    Governor Sisolak declared a state of emergency.   \n",
      "2  15-Mar-20  The Governor closed all public elementary and ...   \n",
      "3  17-Mar-20  The Governor announced risk mitigation measure...   \n",
      "4  18-Mar-20  The Nevada Health Response Center released the...   \n",
      "\n",
      "  Restrict/Close Opening (State) Deferring to County  Testing Education  \\\n",
      "0            NaN             NaN                 NaN      NaN       NaN   \n",
      "1            NaN             NaN                 NaN      NaN       NaN   \n",
      "2              Y             NaN                 NaN      NaN         Y   \n",
      "3              Y             NaN                 NaN      NaN       NaN   \n",
      "4            NaN             NaN                 NaN      NaN       NaN   \n",
      "\n",
      "  Health/Medical Emergency Level  Transportation Budget Social Distancing  \\\n",
      "0              Y             NaN             NaN    NaN               NaN   \n",
      "1            NaN               Y             NaN    NaN               NaN   \n",
      "2            NaN             NaN             NaN    NaN               NaN   \n",
      "3            NaN             NaN             NaN    NaN               NaN   \n",
      "4            NaN             NaN             NaN    NaN               NaN   \n",
      "\n",
      "  Other Vaccine  \n",
      "0   NaN     NaN  \n",
      "1   NaN     NaN  \n",
      "2   NaN     NaN  \n",
      "3     Y     NaN  \n",
      "4     Y     NaN  \n",
      "DataFrame for New Hampshire_policy.csv:\n",
      "        date                                             policy  \\\n",
      "0  12-Mar-20  Governor Sununu announced a new order, issued ...   \n",
      "1  15-Mar-20  The Governor issued an emergency order closing...   \n",
      "2  16-Mar-20  The Governor limited scheduled public gatherin...   \n",
      "3  16-Mar-20  The Governor sent a memo to municipal official...   \n",
      "4  17-Mar-20  The Governor issued three emergency orders tha...   \n",
      "\n",
      "  Restrict/Close Opening (State)  Deferring to County Testing Education  \\\n",
      "0            NaN             NaN                  NaN     NaN       NaN   \n",
      "1              Y             NaN                  NaN     NaN         Y   \n",
      "2              Y             NaN                  NaN     NaN       NaN   \n",
      "3            NaN             NaN                  NaN     NaN       NaN   \n",
      "4            NaN             NaN                  NaN     NaN       NaN   \n",
      "\n",
      "  Health/Medical Emergency Level Transportation  Budget Social Distancing  \\\n",
      "0              Y             NaN            NaN     NaN               NaN   \n",
      "1            NaN             NaN            NaN     NaN               NaN   \n",
      "2            NaN             NaN            NaN     NaN               NaN   \n",
      "3            NaN             NaN            NaN     NaN               NaN   \n",
      "4            NaN             NaN            NaN     NaN               NaN   \n",
      "\n",
      "  Other Vaccine  \n",
      "0     Y     NaN  \n",
      "1   NaN     NaN  \n",
      "2   NaN     NaN  \n",
      "3     Y     NaN  \n",
      "4     Y     NaN  \n",
      "DataFrame for New Jersey_policy.csv:\n",
      "        date                                             policy  \\\n",
      "0   5-Mar-20  Governor Murphy placed restrictions on state-r...   \n",
      "1   9-Mar-20  Governor Murphy signed an executive order decl...   \n",
      "2  12-Mar-20  The Governor cancelled all public gatheringswi...   \n",
      "3  15-Mar-20  The Governor closed all motor vehicle agencies...   \n",
      "4  15-Mar-20  The Governor requested the federal government ...   \n",
      "\n",
      "  Restrict/Close Opening (State) Deferring to County Testing Education  \\\n",
      "0              Y             NaN                 NaN     NaN       NaN   \n",
      "1            NaN             NaN                 NaN     NaN       NaN   \n",
      "2              Y             NaN                 NaN     NaN       NaN   \n",
      "3              Y             NaN                 NaN     NaN       NaN   \n",
      "4            NaN             NaN                 NaN     NaN       NaN   \n",
      "\n",
      "  Health/Medical Emergency Level Transportation Budget Social Distancing  \\\n",
      "0            NaN             NaN            NaN    NaN               NaN   \n",
      "1            NaN               Y            NaN    NaN               NaN   \n",
      "2            NaN             NaN            NaN    NaN               NaN   \n",
      "3            NaN             NaN            NaN    NaN               NaN   \n",
      "4            NaN             NaN            NaN    NaN               NaN   \n",
      "\n",
      "  Other Vaccine  \n",
      "0   NaN     NaN  \n",
      "1   NaN     NaN  \n",
      "2   NaN     NaN  \n",
      "3   NaN     NaN  \n",
      "4     Y     NaN  \n",
      "DataFrame for New Mexico_policy.csv:\n",
      "        date                                             policy  \\\n",
      "0   4-Mar-20  Governor Lujan Grisham said state officials ar...   \n",
      "1   6-Mar-20  The Department of Insurance issued a bulletin ...   \n",
      "2  11-Mar-20  Governor Luhan Grisham signed an executive ord...   \n",
      "3  12-Mar-20  The Governor announced that all New Mexico pub...   \n",
      "4  13-Mar-20  Cabinet Secretary Alicia Keyes announced a COV...   \n",
      "\n",
      "  Restrict/Close Opening (State) Deferring to County Testing Education  \\\n",
      "0            NaN             NaN                 NaN     NaN       NaN   \n",
      "1            NaN             NaN                 NaN     NaN       NaN   \n",
      "2              Y             NaN                 NaN     NaN       NaN   \n",
      "3              Y             NaN                 NaN     NaN         Y   \n",
      "4            NaN             NaN                 NaN     NaN       NaN   \n",
      "\n",
      "  Health/Medical Emergency Level  Transportation  Budget Social Distancing  \\\n",
      "0            NaN             NaN             NaN     NaN               NaN   \n",
      "1              Y             NaN             NaN     NaN               NaN   \n",
      "2            NaN               Y             NaN     NaN               NaN   \n",
      "3            NaN             NaN             NaN     NaN               NaN   \n",
      "4            NaN             NaN             NaN     NaN               NaN   \n",
      "\n",
      "  Other Vaccine  \n",
      "0     Y     NaN  \n",
      "1     Y     NaN  \n",
      "2   NaN     NaN  \n",
      "3   NaN     NaN  \n",
      "4     Y     NaN  \n",
      "DataFrame for New York_policy.csv:\n",
      "       date                                             policy Restrict/Close  \\\n",
      "0  2-Mar-20  Governor Cuomo announced the state will instit...            NaN   \n",
      "1  2-Mar-20  The Governor will also propose legislation to ...            NaN   \n",
      "2  2-Mar-20  The public health laboratory housed within the...            NaN   \n",
      "3  2-Mar-20  DOH is convening local health departments and ...            NaN   \n",
      "4  2-Mar-20  Under a directive by the Governor, the State D...            NaN   \n",
      "\n",
      "  Opening (State) Deferring to County Testing Education Health/Medical  \\\n",
      "0             NaN                 NaN     NaN       NaN            NaN   \n",
      "1             NaN                 NaN     NaN       NaN            NaN   \n",
      "2             NaN                 NaN       Y       NaN              Y   \n",
      "3             NaN                 NaN     NaN       NaN            NaN   \n",
      "4             NaN                 NaN     NaN       NaN              Y   \n",
      "\n",
      "  Emergency Level Transportation Budget Social Distancing Other Vaccine  \n",
      "0             NaN            NaN    NaN               NaN     Y     NaN  \n",
      "1             NaN            NaN    NaN               NaN     Y     NaN  \n",
      "2             NaN            NaN    NaN               NaN   NaN     NaN  \n",
      "3             NaN            NaN    NaN               NaN     Y     NaN  \n",
      "4             NaN            NaN    NaN               NaN   NaN     NaN  \n",
      "DataFrame for North Carolina_policy.csv:\n",
      "        date                                             policy  \\\n",
      "0   3-Mar-20  The state is now allowing coronavirus testing ...   \n",
      "1  10-Mar-20  Governor Cooper declared a state of emergency,...   \n",
      "2  12-Mar-20  Governor Cooper provided guidance to cancel or...   \n",
      "3  14-Mar-20  The Governor issued an executive order to clos...   \n",
      "4  16-Mar-20  The Governor requested that The Small Business...   \n",
      "\n",
      "  Restrict/Close Opening (State) Deferring to County Testing Education  \\\n",
      "0            NaN             NaN                 NaN       Y       NaN   \n",
      "1            NaN             NaN                 NaN     NaN       NaN   \n",
      "2              Y             NaN                 NaN     NaN       NaN   \n",
      "3              Y             NaN                 NaN     NaN         Y   \n",
      "4            NaN             NaN                 NaN     NaN       NaN   \n",
      "\n",
      "  Health/Medical Emergency Level Transportation Budget Social Distancing  \\\n",
      "0            NaN             NaN            NaN    NaN               NaN   \n",
      "1            NaN               Y            NaN    NaN               NaN   \n",
      "2            NaN             NaN            NaN    NaN               NaN   \n",
      "3            NaN             NaN            NaN    NaN               NaN   \n",
      "4            NaN             NaN            NaN    NaN               NaN   \n",
      "\n",
      "  Other Vaccine  \n",
      "0   NaN     NaN  \n",
      "1   NaN     NaN  \n",
      "2   NaN     NaN  \n",
      "3   NaN     NaN  \n",
      "4     Y     NaN  \n",
      "DataFrame for North Dakota_policy.csv:\n",
      "        date                                             policy  \\\n",
      "0   3-Mar-20  The North Dakota Department of Health has deve...   \n",
      "1  12-Mar-20  Governor Burgum released recommendations aroun...   \n",
      "2  13-Mar-20      Governor Burgum declared a state of emergency   \n",
      "3  15-Mar-20  The Governor ordered all K-12 schools to close...   \n",
      "4  17-Mar-20   The Department of Commerce partnered with the...   \n",
      "\n",
      "  Restrict/Close Opening (State)  Deferring to County Testing Education  \\\n",
      "0            NaN             NaN                  NaN     NaN       NaN   \n",
      "1            NaN             NaN                  NaN     NaN       NaN   \n",
      "2            NaN             NaN                  NaN     NaN       NaN   \n",
      "3              Y             NaN                  NaN     NaN         Y   \n",
      "4            NaN             NaN                  NaN     NaN       NaN   \n",
      "\n",
      "  Health/Medical Emergency Level Transportation Budget Social Distancing  \\\n",
      "0            NaN             NaN            NaN    NaN               NaN   \n",
      "1            NaN             NaN            NaN    NaN               NaN   \n",
      "2            NaN               Y            NaN    NaN               NaN   \n",
      "3            NaN             NaN            NaN    NaN               NaN   \n",
      "4            NaN             NaN            NaN    NaN               NaN   \n",
      "\n",
      "  Other Vaccine  \n",
      "0     Y     NaN  \n",
      "1     Y     NaN  \n",
      "2   NaN     NaN  \n",
      "3   NaN     NaN  \n",
      "4     Y     NaN  \n",
      "DataFrame for Ohio_policy.csv:\n",
      "        date                                             policy  \\\n",
      "0  10-Mar-20  Governor DeWine issued a recommendationon limi...   \n",
      "1  12-Mar-20  Governor DeWine announced that all schools wil...   \n",
      "2  15-Mar-20   The Governor ordered all Ohio bars and restau...   \n",
      "3  16-Mar-20  The Governor issued an order regarding the clo...   \n",
      "4  17-Mar-20   The Ohio Department of Job and Family Service...   \n",
      "\n",
      "  Restrict/Close Opening (State) Deferring to County Testing Education  \\\n",
      "0              Y             NaN                 NaN     NaN       NaN   \n",
      "1              Y             NaN                 NaN     NaN         Y   \n",
      "2              Y             NaN                 NaN     NaN       NaN   \n",
      "3              Y             NaN                 NaN     NaN       NaN   \n",
      "4            NaN             NaN                 NaN     NaN       NaN   \n",
      "\n",
      "  Health/Medical Emergency Level  Transportation Budget Social Distancing  \\\n",
      "0            NaN             NaN             NaN    NaN               NaN   \n",
      "1            NaN             NaN             NaN    NaN               NaN   \n",
      "2            NaN             NaN             NaN    NaN               NaN   \n",
      "3            NaN             NaN             NaN    NaN               NaN   \n",
      "4            NaN             NaN             NaN    NaN               NaN   \n",
      "\n",
      "  Other Vaccine  \n",
      "0   NaN     NaN  \n",
      "1   NaN     NaN  \n",
      "2   NaN     NaN  \n",
      "3   NaN     NaN  \n",
      "4     Y     NaN  \n",
      "DataFrame for Oklahoma_policy.csv:\n",
      "        date                                             policy  \\\n",
      "0  15-Mar-20              Governor Stitt declared an emergency.   \n",
      "1  17-Mar-20   The Governor signed an amended executive orde...   \n",
      "2  18-Mar-20   The Governor amended Executive Order 2020-07 ...   \n",
      "3  18-Mar-20   The Governor issued Executive Order 2020-08 s...   \n",
      "4  21-Mar-20   The Governor issued an amendment to Executive...   \n",
      "\n",
      "  Restrict/Close Opening (State)  Deferring to County Testing Education  \\\n",
      "0            NaN             NaN                  NaN     NaN       NaN   \n",
      "1            NaN             NaN                  NaN     NaN       NaN   \n",
      "2            NaN             NaN                  NaN     NaN       NaN   \n",
      "3            NaN             NaN                  NaN     NaN       NaN   \n",
      "4            NaN             NaN                  NaN     NaN       NaN   \n",
      "\n",
      "  Health/Medical Emergency Level  Transportation  Budget  Social Distancing  \\\n",
      "0            NaN               Y             NaN     NaN                NaN   \n",
      "1            NaN               Y             NaN     NaN                NaN   \n",
      "2            NaN             NaN             NaN     NaN                NaN   \n",
      "3              Y             NaN             NaN     NaN                NaN   \n",
      "4            NaN             NaN             NaN     NaN                NaN   \n",
      "\n",
      "  Other Vaccine  \n",
      "0   NaN     NaN  \n",
      "1   NaN     NaN  \n",
      "2     Y     NaN  \n",
      "3   NaN     NaN  \n",
      "4     Y     NaN  \n",
      "DataFrame for Oregon_policy.csv:\n",
      "        date                                             policy  \\\n",
      "0   3-Mar-20  Governor Kate Brown wrote a letter to Vice Pre...   \n",
      "1   5-Mar-20  The State of Oregon reached an agreement with ...   \n",
      "2   8-Mar-20  Governor Brown issued a state of emergency on ...   \n",
      "3  10-Mar-20  Governor Brown issued a policy to limit transm...   \n",
      "4  12-Mar-20  Governor Brown announced statewide school clos...   \n",
      "\n",
      "  Restrict/Close Opening (State) Deferring to County Testing Education  \\\n",
      "0            NaN             NaN                 NaN     NaN       NaN   \n",
      "1            NaN             NaN                 NaN     NaN       NaN   \n",
      "2            NaN             NaN                 NaN     NaN       NaN   \n",
      "3            NaN             NaN                 NaN     NaN       NaN   \n",
      "4              Y             NaN                 NaN     NaN         Y   \n",
      "\n",
      "  Health/Medical Emergency Level  Transportation Budget Social Distancing  \\\n",
      "0              Y             NaN             NaN    NaN               NaN   \n",
      "1              Y             NaN             NaN    NaN               NaN   \n",
      "2            NaN               Y             NaN    NaN               NaN   \n",
      "3            NaN             NaN             NaN    NaN               NaN   \n",
      "4            NaN             NaN             NaN    NaN               NaN   \n",
      "\n",
      "  Other Vaccine  \n",
      "0     Y     NaN  \n",
      "1     Y     NaN  \n",
      "2   NaN     NaN  \n",
      "3     Y     NaN  \n",
      "4   NaN     NaN  \n",
      "DataFrame for Pennsylvania_policy.csv:\n",
      "        date                                             policy  \\\n",
      "0   5-Mar-20  State officials have updated their travel guid...   \n",
      "1   5-Mar-20  The state updated their interim guidance for h...   \n",
      "2   7-Mar-20  Governor Wolf iscoordinating with legislative ...   \n",
      "3  10-Mar-20  The Department of Insurance issued a notice re...   \n",
      "4  11-Mar-20  Governor Wolf issued guidance on restricting t...   \n",
      "\n",
      "  Restrict/Close Opening (State) Deferring to County Testing Education  \\\n",
      "0              Y             NaN                 NaN     NaN       NaN   \n",
      "1            NaN             NaN                 NaN     NaN       NaN   \n",
      "2            NaN             NaN                 NaN     NaN       NaN   \n",
      "3            NaN             NaN                 NaN     NaN       NaN   \n",
      "4              Y             NaN                 NaN     NaN       NaN   \n",
      "\n",
      "  Health/Medical Emergency Level Transportation Budget Social Distancing  \\\n",
      "0            NaN             NaN            NaN    NaN               NaN   \n",
      "1            NaN             NaN            NaN    NaN               NaN   \n",
      "2              Y             NaN            NaN    NaN               NaN   \n",
      "3            NaN             NaN            NaN    NaN               NaN   \n",
      "4            NaN             NaN            NaN    NaN               NaN   \n",
      "\n",
      "  Other Vaccine  \n",
      "0   NaN     NaN  \n",
      "1     Y     NaN  \n",
      "2     Y     NaN  \n",
      "3     Y     NaN  \n",
      "4   NaN     NaN  \n",
      "DataFrame for Puerto Rico_policy.csv:\n",
      "        date                                             policy  \\\n",
      "0  12-Mar-20  The Governor announced that Puerto Rico will b...   \n",
      "1  15-Mar-20  The Governor announced an island-wide curfew a...   \n",
      "2  16-Mar-20  The Governor issued an executive order easing ...   \n",
      "3  17-Mar-20  The Governor issued an executive order to addr...   \n",
      "4  23-Mar-20  The Governor issued Executive Order 2020-026, ...   \n",
      "\n",
      "  Restrict/Close Opening (State)  Deferring to County  Testing Education  \\\n",
      "0            NaN             NaN                  NaN      NaN       NaN   \n",
      "1              Y             NaN                  NaN      NaN       NaN   \n",
      "2            NaN             NaN                  NaN      NaN       NaN   \n",
      "3            NaN             NaN                  NaN      NaN       NaN   \n",
      "4            NaN             NaN                  NaN      NaN       NaN   \n",
      "\n",
      "  Health/Medical Emergency Level  Transportation Budget Social Distancing  \\\n",
      "0            NaN               Y             NaN    NaN               NaN   \n",
      "1            NaN             NaN             NaN    NaN               NaN   \n",
      "2            NaN             NaN             NaN    NaN               NaN   \n",
      "3            NaN             NaN             NaN    NaN               NaN   \n",
      "4              Y             NaN             NaN    NaN               NaN   \n",
      "\n",
      "  Other Vaccine  \n",
      "0   NaN     NaN  \n",
      "1   NaN     NaN  \n",
      "2     Y     NaN  \n",
      "3     Y     NaN  \n",
      "4     Y     NaN  \n",
      "DataFrame for Rhode Island_policy.csv:\n",
      "        date                                             policy  \\\n",
      "0   1-Mar-20  Rhode Island established an Incident Command S...   \n",
      "1   1-Mar-20  The Rhode Island Department of Health is coord...   \n",
      "2  11-Mar-20  Governor Raimondo issued guidance for large ev...   \n",
      "3  15-Mar-20  The Governor announced guidance directing all ...   \n",
      "4  16-Mar-20  The Governor issued an executive order regardi...   \n",
      "\n",
      "  Restrict/Close Opening (State) Deferring to County Testing Education  \\\n",
      "0            NaN             NaN                 NaN     NaN       NaN   \n",
      "1            NaN             NaN                 NaN     NaN       NaN   \n",
      "2            NaN             NaN                 NaN     NaN       NaN   \n",
      "3              Y             NaN                 NaN     NaN         Y   \n",
      "4              Y             NaN                 NaN     NaN       NaN   \n",
      "\n",
      "  Health/Medical Emergency Level  Transportation  Budget Social Distancing  \\\n",
      "0            NaN             NaN             NaN     NaN               NaN   \n",
      "1            NaN             NaN             NaN     NaN               NaN   \n",
      "2            NaN             NaN             NaN     NaN               NaN   \n",
      "3            NaN             NaN             NaN     NaN               NaN   \n",
      "4            NaN             NaN             NaN     NaN               NaN   \n",
      "\n",
      "  Other Vaccine  \n",
      "0     Y     NaN  \n",
      "1     Y     NaN  \n",
      "2     Y     NaN  \n",
      "3   NaN     NaN  \n",
      "4   NaN     NaN  \n",
      "DataFrame for South Carolina_policy.csv:\n",
      "        date                                             policy  \\\n",
      "0  13-Mar-20   Governor McMaster issued an executive order t...   \n",
      "1  14-Mar-20   The SC Board of Medical Examiners and the SC ...   \n",
      "2  17-Mar-20  The Governor signed an executive order on addi...   \n",
      "3  19-Mar-20   The Governor signed an executive order which,...   \n",
      "4  20-Mar-20   The Governor announced the U.S. Small Busines...   \n",
      "\n",
      "  Restrict/Close Opening (State) Deferring to County Testing Education  \\\n",
      "0              Y             NaN                 NaN     NaN         Y   \n",
      "1            NaN             NaN                 NaN     NaN       NaN   \n",
      "2              Y             NaN                 NaN     NaN       NaN   \n",
      "3              Y             NaN                 NaN     NaN       NaN   \n",
      "4            NaN             NaN                 NaN     NaN       NaN   \n",
      "\n",
      "  Health/Medical Emergency Level  Transportation  Budget Social Distancing  \\\n",
      "0            NaN             NaN             NaN     NaN               NaN   \n",
      "1              Y             NaN             NaN     NaN               NaN   \n",
      "2            NaN             NaN             NaN     NaN               NaN   \n",
      "3            NaN             NaN             NaN     NaN               NaN   \n",
      "4            NaN             NaN             NaN     NaN               NaN   \n",
      "\n",
      "  Other Vaccine  \n",
      "0   NaN     NaN  \n",
      "1   NaN     NaN  \n",
      "2   NaN     NaN  \n",
      "3   NaN     NaN  \n",
      "4     Y     NaN  \n",
      "DataFrame for South Dakota_policy.csv:\n",
      "        date                                             policy  \\\n",
      "0   5-Mar-20  Governor Noem and the South Dakota Department ...   \n",
      "1  10-Mar-20  The South Dakota State Department of Health is...   \n",
      "2  13-Mar-20  Governor Noem signed a state of emergency orde...   \n",
      "3  16-Mar-20   The Governor activated the Small Business Adm...   \n",
      "4  16-Mar-20   The Governor and her team are working closely...   \n",
      "\n",
      "  Restrict/Close Opening (State)  Deferring to County Testing Education  \\\n",
      "0            NaN             NaN                  NaN     NaN       NaN   \n",
      "1            NaN             NaN                  NaN     NaN         Y   \n",
      "2            NaN             NaN                  NaN     NaN       NaN   \n",
      "3            NaN             NaN                  NaN     NaN       NaN   \n",
      "4            NaN             NaN                  NaN     NaN       NaN   \n",
      "\n",
      "  Health/Medical Emergency Level  Transportation Budget Social Distancing  \\\n",
      "0            NaN             NaN             NaN    NaN               NaN   \n",
      "1            NaN             NaN             NaN    NaN               NaN   \n",
      "2            NaN               Y             NaN    NaN               NaN   \n",
      "3            NaN             NaN             NaN    NaN               NaN   \n",
      "4            NaN             NaN             NaN    NaN               NaN   \n",
      "\n",
      "  Other Vaccine  \n",
      "0     Y     NaN  \n",
      "1   NaN     NaN  \n",
      "2   NaN     NaN  \n",
      "3     Y     NaN  \n",
      "4     Y     NaN  \n",
      "DataFrame for Tennessee_policy.csv:\n",
      "        date                                             policy  \\\n",
      "0   5-Mar-20  Governor Lee announced the formation of a task...   \n",
      "1  12-Mar-20  Governor Lee issued a State of Emergency to fr...   \n",
      "2  13-Mar-20   The Governor issued further guidance regardin...   \n",
      "3  16-Mar-20   The Governor announced limiting all remaining...   \n",
      "4  17-Mar-20   The Governor urged all school districts in Te...   \n",
      "\n",
      "  Restrict/Close Opening (State) Deferring to County Testing Education  \\\n",
      "0            NaN             NaN                 NaN     NaN       NaN   \n",
      "1            NaN             NaN                 NaN     NaN       NaN   \n",
      "2              Y             NaN                 NaN     NaN       NaN   \n",
      "3              Y             NaN                 NaN     NaN       NaN   \n",
      "4              Y             NaN                 NaN     NaN         Y   \n",
      "\n",
      "  Health/Medical Emergency Level  Transportation Budget Social Distancing  \\\n",
      "0            NaN             NaN             NaN    NaN               NaN   \n",
      "1            NaN               Y             NaN    NaN               NaN   \n",
      "2            NaN             NaN             NaN    NaN               NaN   \n",
      "3            NaN             NaN             NaN    NaN               NaN   \n",
      "4            NaN             NaN             NaN    NaN               NaN   \n",
      "\n",
      "  Other Vaccine  \n",
      "0     Y     NaN  \n",
      "1   NaN     NaN  \n",
      "2   NaN     NaN  \n",
      "3   NaN     NaN  \n",
      "4   NaN     NaN  \n",
      "DataFrame for Texas_policy.csv:\n",
      "        date                                             policy  \\\n",
      "0   6-Mar-20  Governor Abbott issued a statement regarding p...   \n",
      "1  11-Mar-20  Governor Abbott and the Texas Department of In...   \n",
      "2  11-Mar-20  Governor Abbott and the Texas Department of St...   \n",
      "3  12-Mar-20  Governor Abbott hosted a call with Texas legis...   \n",
      "4  13-Mar-20  The Governor declared a state of disaster in T...   \n",
      "\n",
      "  Restrict/Close Opening (State) Deferring to County Testing Education  \\\n",
      "0            NaN             NaN                 NaN     NaN       NaN   \n",
      "1            NaN             NaN                 NaN     NaN       NaN   \n",
      "2            NaN             NaN                 NaN     NaN       NaN   \n",
      "3            NaN             NaN                 NaN     NaN       NaN   \n",
      "4            NaN             NaN                 NaN     NaN       NaN   \n",
      "\n",
      "  Health/Medical Emergency Level  Transportation Budget  Social Distancing  \\\n",
      "0            NaN             NaN             NaN    NaN                NaN   \n",
      "1              Y             NaN             NaN    NaN                NaN   \n",
      "2            NaN             NaN             NaN    NaN                NaN   \n",
      "3            NaN             NaN             NaN    NaN                NaN   \n",
      "4            NaN               Y             NaN    NaN                NaN   \n",
      "\n",
      "  Other Vaccine  \n",
      "0     Y     NaN  \n",
      "1     Y     NaN  \n",
      "2     Y     NaN  \n",
      "3     Y     NaN  \n",
      "4   NaN     NaN  \n",
      "DataFrame for Utah_policy.csv:\n",
      "        date                                             policy  \\\n",
      "0   6-Mar-20  Governor Herbert declared astate of emergency,...   \n",
      "1   2-Mar-20  Utah established the COVID-19 Community Task F...   \n",
      "2  12-Mar-20  Governor Herbert issued astatement praising th...   \n",
      "3  12-Mar-20  Governor Herbert, in partnership with the Utah...   \n",
      "4  12-Mar-20  Governor Herbert approved recommendations to t...   \n",
      "\n",
      "  Restrict/Close Opening (State) Deferring to County Testing Education  \\\n",
      "0            NaN             NaN                 NaN     NaN       NaN   \n",
      "1            NaN             NaN                 NaN       Y       NaN   \n",
      "2            NaN             NaN                 NaN     NaN       NaN   \n",
      "3              Y             NaN                 NaN     NaN       NaN   \n",
      "4            NaN             NaN                 NaN     NaN         Y   \n",
      "\n",
      "  Health/Medical Emergency Level Transportation Budget Social Distancing  \\\n",
      "0            NaN               Y            NaN    NaN               NaN   \n",
      "1            NaN             NaN            NaN    NaN               NaN   \n",
      "2            NaN             NaN            NaN    NaN               NaN   \n",
      "3            NaN             NaN            NaN    NaN               NaN   \n",
      "4            NaN             NaN            NaN    NaN               NaN   \n",
      "\n",
      "  Other Vaccine  \n",
      "0   NaN     NaN  \n",
      "1     Y     NaN  \n",
      "2     Y     NaN  \n",
      "3   NaN     NaN  \n",
      "4   NaN     NaN  \n",
      "DataFrame for Vermont_policy.csv:\n",
      "        date                                             policy  \\\n",
      "0   2-Mar-20  Governor Scott established a COVID-19 Task For...   \n",
      "1   6-Mar-20  The Vermont Department of Financial Regulation...   \n",
      "2  10-Mar-20  Governor Scott activated the State Emergency O...   \n",
      "3  10-Mar-20  The Vermont Department of Health issued guidan...   \n",
      "4  13-Mar-20       Governor Scott declared a state of emergency   \n",
      "\n",
      "  Restrict/Close Opening (State) Deferring to County Testing Education  \\\n",
      "0            NaN             NaN                 NaN     NaN       NaN   \n",
      "1            NaN             NaN                 NaN     NaN       NaN   \n",
      "2            NaN             NaN                 NaN     NaN       NaN   \n",
      "3            NaN             NaN                 NaN     NaN       NaN   \n",
      "4            NaN             NaN                 NaN     NaN       NaN   \n",
      "\n",
      "  Health/Medical Emergency Level Transportation Budget Social Distancing  \\\n",
      "0            NaN             NaN            NaN    NaN               NaN   \n",
      "1              Y             NaN            NaN    NaN               NaN   \n",
      "2            NaN             NaN            NaN    NaN               NaN   \n",
      "3              Y             NaN            NaN    NaN               NaN   \n",
      "4            NaN               Y            NaN    NaN               NaN   \n",
      "\n",
      "  Other Vaccine  \n",
      "0     Y     NaN  \n",
      "1     Y     NaN  \n",
      "2     Y     NaN  \n",
      "3     Y     NaN  \n",
      "4   NaN     NaN  \n",
      "DataFrame for Virgin Islands_policy.csv:\n",
      "        date                                             policy  \\\n",
      "0  13-Mar-20  The Governor declared a state of emergency for...   \n",
      "1  13-Mar-20   Department of Licensing and Consumer Affairs ...   \n",
      "2  16-Mar-20  The Governor announced the closure of all publ...   \n",
      "3  16-Mar-20  The Virgin Islands Department of Human Service...   \n",
      "4  17-Mar-20  The Bureau of Motor Vehicles announced new pro...   \n",
      "\n",
      "  Restrict/Close Opening (State)  Deferring to County Testing Education  \\\n",
      "0              Y             NaN                  NaN     NaN       NaN   \n",
      "1            NaN             NaN                  NaN     NaN       NaN   \n",
      "2              Y             NaN                  NaN     NaN         Y   \n",
      "3            NaN             NaN                  NaN     NaN       NaN   \n",
      "4            NaN             NaN                  NaN     NaN       NaN   \n",
      "\n",
      "  Health/Medical Emergency Level  Transportation  Budget Social Distancing  \\\n",
      "0            NaN               Y             NaN     NaN               NaN   \n",
      "1            NaN             NaN             NaN     NaN               NaN   \n",
      "2            NaN             NaN             NaN     NaN               NaN   \n",
      "3            NaN             NaN             NaN     NaN               NaN   \n",
      "4            NaN             NaN             NaN     NaN                 Y   \n",
      "\n",
      "  Other Vaccine  \n",
      "0   NaN     NaN  \n",
      "1     Y     NaN  \n",
      "2   NaN     NaN  \n",
      "3     Y     NaN  \n",
      "4     Y     NaN  \n",
      "DataFrame for Virginia_policy.csv:\n",
      "        date                                             policy  \\\n",
      "0   4-Mar-20   Virginia's public health and safety experts e...   \n",
      "1  11-Mar-20  Governor Northam issued a statement addressing...   \n",
      "2  12-Mar-20  Governor Northam declared a State of Emergency...   \n",
      "3  13-Mar-20  The Governor ordered all K-12 schools in Virgi...   \n",
      "4  15-Mar-20  The Governor announced a temporary ban on all ...   \n",
      "\n",
      "  Restrict/Close Opening (State) Deferring to County Testing Education  \\\n",
      "0            NaN             NaN                 NaN     NaN       NaN   \n",
      "1            NaN             NaN                 NaN     NaN       NaN   \n",
      "2              Y             NaN                 NaN     NaN       NaN   \n",
      "3              Y             NaN                 NaN     NaN         Y   \n",
      "4              Y             NaN                 NaN     NaN       NaN   \n",
      "\n",
      "  Health/Medical Emergency Level  Transportation Budget Social Distancing  \\\n",
      "0            NaN             NaN             NaN    NaN               NaN   \n",
      "1            NaN             NaN             NaN    NaN               NaN   \n",
      "2            NaN               Y             NaN    NaN               NaN   \n",
      "3            NaN             NaN             NaN    NaN               NaN   \n",
      "4            NaN             NaN             NaN    NaN               NaN   \n",
      "\n",
      "  Other Vaccine  \n",
      "0     Y     NaN  \n",
      "1     Y     NaN  \n",
      "2   NaN     NaN  \n",
      "3   NaN     NaN  \n",
      "4   NaN     NaN  \n",
      "DataFrame for Washington_policy.csv:\n",
      "        date                                             policy  \\\n",
      "0   4-Mar-20  The state senate unanimously approved $100 mil...   \n",
      "1   4-Mar-20  According to news sources, King County purchas...   \n",
      "2   5-Mar-20  Insurance Commissioner Mike Kreidler issued an...   \n",
      "3   5-Mar-20  The Department of Labor and Industries has cha...   \n",
      "4  10-Mar-20  Governor Inslee issued rules guiding visitor r...   \n",
      "\n",
      "  Restrict/Close Opening (State) Deferring to County Testing Education  \\\n",
      "0            NaN             NaN                 NaN     NaN       NaN   \n",
      "1            NaN             NaN                 NaN     NaN       NaN   \n",
      "2            NaN             NaN                 NaN     NaN       NaN   \n",
      "3            NaN             NaN                 NaN     NaN       NaN   \n",
      "4              Y             NaN                 NaN     NaN       NaN   \n",
      "\n",
      "  Health/Medical Emergency Level Transportation Budget Social Distancing  \\\n",
      "0            NaN             NaN            NaN    NaN               NaN   \n",
      "1            NaN             NaN            NaN    NaN               NaN   \n",
      "2              Y             NaN            NaN    NaN               NaN   \n",
      "3            NaN             NaN            NaN    NaN               NaN   \n",
      "4            NaN             NaN            NaN    NaN               NaN   \n",
      "\n",
      "  Other Vaccine  \n",
      "0     Y     NaN  \n",
      "1     Y     NaN  \n",
      "2     Y     NaN  \n",
      "3     Y     NaN  \n",
      "4   NaN     NaN  \n",
      "DataFrame for West Virginia_policy.csv:\n",
      "        date                                             policy  \\\n",
      "0   4-Mar-20  Governor Justice held a meeting to discuss coo...   \n",
      "1   4-Mar-20  Governor Justiceissued a State of Preparedness...   \n",
      "2   9-Mar-20  The West Virginia Department of Health and Hum...   \n",
      "3  12-Mar-20  Governor Justice announced a state employee tr...   \n",
      "4  12-Mar-20  Governor Justice issued guidance to State gove...   \n",
      "\n",
      "  Restrict/Close Opening (State)  Deferring to County Testing Education  \\\n",
      "0            NaN             NaN                  NaN     NaN       NaN   \n",
      "1            NaN             NaN                  NaN     NaN       NaN   \n",
      "2            NaN             NaN                  NaN     NaN       NaN   \n",
      "3              Y             NaN                  NaN     NaN       NaN   \n",
      "4              Y             NaN                  NaN     NaN       NaN   \n",
      "\n",
      "  Health/Medical Emergency Level  Transportation Budget Social Distancing  \\\n",
      "0            NaN             NaN             NaN    NaN               NaN   \n",
      "1            NaN             NaN             NaN    NaN               NaN   \n",
      "2              Y             NaN             NaN    NaN               NaN   \n",
      "3            NaN             NaN             NaN    NaN               NaN   \n",
      "4            NaN             NaN             NaN    NaN               NaN   \n",
      "\n",
      "  Other Vaccine  \n",
      "0     Y     NaN  \n",
      "1     Y     NaN  \n",
      "2     Y     NaN  \n",
      "3   NaN     NaN  \n",
      "4   NaN     NaN  \n",
      "DataFrame for Wisconsin_policy.csv:\n",
      "        date                                             policy  \\\n",
      "0   6-Mar-20  The Office of the Commissioner of Insurance re...   \n",
      "1  12-Mar-20  Governor Evers declared a public health emergency   \n",
      "2  12-Mar-20  Governor Evers declared a public health emerge...   \n",
      "3  14-Mar-20  The Governor ordered K-12 school (public and p...   \n",
      "4  16-Mar-20  The Governor directed the Department of Health...   \n",
      "\n",
      "  Restrict/Close Opening (State)  Deferring to County Testing Education  \\\n",
      "0            NaN             NaN                  NaN     NaN       NaN   \n",
      "1            NaN             NaN                  NaN     NaN       NaN   \n",
      "2              Y             NaN                  NaN     NaN       NaN   \n",
      "3              Y             NaN                  NaN     NaN         Y   \n",
      "4              Y             NaN                  NaN     NaN       NaN   \n",
      "\n",
      "  Health/Medical Emergency Level  Transportation Budget  Social Distancing  \\\n",
      "0            NaN             NaN             NaN    NaN                NaN   \n",
      "1            NaN               Y             NaN    NaN                NaN   \n",
      "2            NaN               Y             NaN    NaN                NaN   \n",
      "3            NaN             NaN             NaN    NaN                NaN   \n",
      "4            NaN             NaN             NaN    NaN                NaN   \n",
      "\n",
      "  Other Vaccine  \n",
      "0     Y     NaN  \n",
      "1   NaN     NaN  \n",
      "2   NaN     NaN  \n",
      "3   NaN     NaN  \n",
      "4   NaN     NaN  \n",
      "DataFrame for Wyoming_policy.csv:\n",
      "        date                                             policy  \\\n",
      "0   9-Mar-20  Governor Gordon addressed the Wyoming legislat...   \n",
      "1  13-Mar-20  Governor Gordon declared a state of emergency ...   \n",
      "2  15-Mar-20  The Governor recommended that all schools rema...   \n",
      "3  16-Mar-20  The Governor created five task forces each to ...   \n",
      "4  16-Mar-20  The Wyoming Department of Health released prio...   \n",
      "\n",
      "  Restrict/Close Opening (State) Deferring to County Testing Education  \\\n",
      "0            NaN             NaN                 NaN     NaN       NaN   \n",
      "1            NaN             NaN                 NaN     NaN       NaN   \n",
      "2            NaN             NaN                   Y     NaN       NaN   \n",
      "3            NaN             NaN                 NaN     NaN       NaN   \n",
      "4            NaN             NaN                 NaN     NaN       NaN   \n",
      "\n",
      "  Health/Medical Emergency Level  Transportation Budget Social Distancing  \\\n",
      "0            NaN             NaN             NaN    NaN               NaN   \n",
      "1            NaN               Y             NaN    NaN               NaN   \n",
      "2            NaN             NaN             NaN    NaN               NaN   \n",
      "3            NaN             NaN             NaN    NaN               NaN   \n",
      "4            NaN             NaN             NaN    NaN               NaN   \n",
      "\n",
      "  Other Vaccine  \n",
      "0     Y     NaN  \n",
      "1   NaN     NaN  \n",
      "2   NaN     NaN  \n",
      "3     Y     NaN  \n",
      "4     Y     NaN  \n"
     ]
    }
   ],
   "source": [
    "\n",
    "\n",
    "import os\n",
    "import pandas as pd\n",
    "\n",
    "# Directory containing the CSV files\n",
    "directory = 'C:/Users/Public/Documents/UNCC/2024 SPRING/ITCS 6124 - Illustrative Visualization/Assignments/Project_Communication/IV-Communication-Project/policy'\n",
    "\n",
    "# List all files in the directory\n",
    "files = os.listdir(directory)\n",
    "\n",
    "# Filter out only the files ending with '_policy'\n",
    "policy_files = [file for file in files if file.endswith('_policy.csv')]\n",
    "\n",
    "# Iterate through each policy file\n",
    "for file in policy_files:\n",
    "    # Construct the full path to the file\n",
    "    file_path = os.path.join(directory, file)\n",
    "    \n",
    "    # Read the CSV file into a DataFrame\n",
    "    df = pd.read_csv(file_path)\n",
    "    \n",
    "    # Do whatever you want with the DataFrame, for example:\n",
    "    print(f\"DataFrame for {file}:\")\n",
    "    print(df.head())  # Display the first few rows of the DataFrame\n"
   ]
  },
  {
   "cell_type": "code",
   "execution_count": 2,
   "metadata": {},
   "outputs": [
    {
     "name": "stdout",
     "output_type": "stream",
     "text": [
      "DataFrame for Alabama_policy.csv:\n",
      "        date                                             policy  \\\n",
      "0       date                                             policy   \n",
      "1   6-Mar-20  Governor Ivey announced the formation of a Cor...   \n",
      "2  10-Mar-20  Governor Ivey sent a memo to state agency head...   \n",
      "3  13-Mar-20  Governor Ivey issued a state of emergency for ...   \n",
      "4  14-Mar-20  Governor Ivey closed all Alabama public school...   \n",
      "\n",
      "   Restrict/Close  Opening (State)  Deferring to County  Testing  Education  \\\n",
      "0  Restrict/Close  Opening (State)  Deferring to County  Testing  Education   \n",
      "1             NaN              NaN                  NaN      NaN        NaN   \n",
      "2             NaN              NaN                  NaN      NaN        NaN   \n",
      "3             NaN              NaN                  NaN      NaN        NaN   \n",
      "4               Y              NaN                  NaN      NaN          Y   \n",
      "\n",
      "   Health/Medical  Emergency Level  Transportation  Budget  Social Distancing  \\\n",
      "0  Health/Medical  Emergency Level  Transportation  Budget  Social Distancing   \n",
      "1             NaN              NaN             NaN     NaN                NaN   \n",
      "2             NaN              NaN             NaN     NaN                NaN   \n",
      "3             NaN                Y             NaN     NaN                NaN   \n",
      "4             NaN              NaN             NaN     NaN                NaN   \n",
      "\n",
      "   Other  Vaccine  \n",
      "0  Other  Vaccine  \n",
      "1      Y      NaN  \n",
      "2      Y      NaN  \n",
      "3      Y      NaN  \n",
      "4    NaN      NaN  \n",
      "DataFrame for Alaska_policy.csv:\n",
      "        date                                             policy  \\\n",
      "0       date                                             policy   \n",
      "1   3-Mar-20  The Division of Insurance sent a bulletin allo...   \n",
      "2   6-Mar-20  The Division of Insurance issued anotherbullet...   \n",
      "3  11-Mar-20  Governor Dunleavy issued a declaration of publ...   \n",
      "4  13-Mar-20  Governor Dunleavy and the Alaska Department of...   \n",
      "\n",
      "   Restrict/Close  Opening (State)  Deferring to County  Testing  Education  \\\n",
      "0  Restrict/Close  Opening (State)  Deferring to County  Testing  Education   \n",
      "1             NaN              NaN                  NaN      NaN        NaN   \n",
      "2             NaN              NaN                  NaN      NaN        NaN   \n",
      "3             NaN              NaN                  NaN      NaN        NaN   \n",
      "4               Y              NaN                  NaN      NaN          Y   \n",
      "\n",
      "   Health/Medical  Emergency Level  Transportation  Budget  Social Distancing  \\\n",
      "0  Health/Medical  Emergency Level  Transportation  Budget  Social Distancing   \n",
      "1             NaN              NaN             NaN     NaN                NaN   \n",
      "2             NaN              NaN             NaN     NaN                NaN   \n",
      "3             NaN                Y             NaN     NaN                NaN   \n",
      "4             NaN              NaN             NaN     NaN                NaN   \n",
      "\n",
      "   Other  Vaccine  \n",
      "0  Other  Vaccine  \n",
      "1      Y      NaN  \n",
      "2      Y      NaN  \n",
      "3      Y      NaN  \n",
      "4    NaN      NaN  \n",
      "DataFrame for American Samoa_policy.csv:\n",
      "        date                                             policy  \\\n",
      "0       date                                             policy   \n",
      "1   2-Mar-20  Governor Moliga appointed a government task fo...   \n",
      "2  21-Mar-20  The National Emergency Operations Centre (NEOC...   \n",
      "3  20-Mar-20  The Governor amended their declaration of cont...   \n",
      "4  20-Mar-20  The Governor announced the closing of all publ...   \n",
      "\n",
      "   Restrict/Close  Opening (State)  Deferring to County  Testing  Education  \\\n",
      "0  Restrict/Close  Opening (State)  Deferring to County  Testing  Education   \n",
      "1             NaN              NaN                  NaN      NaN        NaN   \n",
      "2             NaN              NaN                  NaN      NaN        NaN   \n",
      "3               Y              NaN                  NaN      NaN        NaN   \n",
      "4               Y              NaN                  NaN      NaN        NaN   \n",
      "\n",
      "   Health/Medical  Emergency Level  Transportation  Budget  Social Distancing  \\\n",
      "0  Health/Medical  Emergency Level  Transportation  Budget  Social Distancing   \n",
      "1             NaN              NaN             NaN     NaN                NaN   \n",
      "2             NaN              NaN             NaN     NaN                NaN   \n",
      "3             NaN              NaN             NaN     NaN                NaN   \n",
      "4             NaN              NaN             NaN     NaN                NaN   \n",
      "\n",
      "   Other  Vaccine  \n",
      "0  Other  Vaccine  \n",
      "1      Y      NaN  \n",
      "2      Y      NaN  \n",
      "3    NaN      NaN  \n",
      "4    NaN      NaN  \n",
      "DataFrame for Arizona_policy.csv:\n",
      "        date                                             policy  \\\n",
      "0       date                                             policy   \n",
      "1  26-Jan-20  Arizona's Health Emergency Operations Center a...   \n",
      "2  11-Mar-20  Governor Ducey issued a Declaration of Emergen...   \n",
      "3  12-Mar-20  Arizona signed S.B. 1051, legislation introduc...   \n",
      "4  15-Mar-20  The Governor and Boys & Girls Clubs Arizona Al...   \n",
      "\n",
      "   Restrict/Close  Opening (State)  Deferring to County  Testing  Education  \\\n",
      "0  Restrict/Close  Opening (State)  Deferring to County  Testing  Education   \n",
      "1             NaN              NaN                  NaN      NaN        NaN   \n",
      "2             NaN              NaN                  NaN      NaN        NaN   \n",
      "3             NaN              NaN                  NaN      NaN        NaN   \n",
      "4               Y              NaN                  NaN      NaN          Y   \n",
      "\n",
      "   Health/Medical  Emergency Level  Transportation  Budget  Social Distancing  \\\n",
      "0  Health/Medical  Emergency Level  Transportation  Budget  Social Distancing   \n",
      "1             NaN              NaN             NaN     NaN                NaN   \n",
      "2             NaN              NaN             NaN     NaN                NaN   \n",
      "3             NaN              NaN             NaN       Y                NaN   \n",
      "4             NaN              NaN             NaN     NaN                NaN   \n",
      "\n",
      "   Other  Vaccine  \n",
      "0  Other  Vaccine  \n",
      "1      Y      NaN  \n",
      "2      Y      NaN  \n",
      "3    NaN      NaN  \n",
      "4    NaN      NaN  \n",
      "DataFrame for Arkansas_policy.csv:\n",
      "        date                                             policy  \\\n",
      "0       date                                             policy   \n",
      "1  11-Mar-20  Governor Hutchinson signed an executive order ...   \n",
      "2  11-Mar-20  The Governor announced that members of his cab...   \n",
      "3  12-Mar-20  The Secretary of State ordered the closure of ...   \n",
      "4  12-Mar-20  The Governor amended executive order 20-03 to ...   \n",
      "\n",
      "   Restrict/Close  Opening (State)  Deferring to County  Testing  Education  \\\n",
      "0  Restrict/Close  Opening (State)  Deferring to County  Testing  Education   \n",
      "1             NaN              NaN                  NaN      NaN        NaN   \n",
      "2             NaN              NaN                  NaN      NaN        NaN   \n",
      "3               Y              NaN                  NaN      NaN        NaN   \n",
      "4             NaN              NaN                  NaN      NaN        NaN   \n",
      "\n",
      "   Health/Medical  Emergency Level  Transportation  Budget  Social Distancing  \\\n",
      "0  Health/Medical  Emergency Level  Transportation  Budget  Social Distancing   \n",
      "1             NaN                Y             NaN     NaN                NaN   \n",
      "2             NaN              NaN             NaN     NaN                NaN   \n",
      "3             NaN              NaN             NaN     NaN                NaN   \n",
      "4             NaN              NaN             NaN       Y                NaN   \n",
      "\n",
      "   Other  Vaccine  \n",
      "0  Other  Vaccine  \n",
      "1    NaN      NaN  \n",
      "2      Y      NaN  \n",
      "3    NaN      NaN  \n",
      "4    NaN      NaN  \n",
      "DataFrame for California_policy.csv:\n",
      "       date                                             policy  \\\n",
      "0      date                                             policy   \n",
      "1  2-Mar-20  Governor Newsom is requesting emergency action...   \n",
      "2  3-Mar-20  California's Public Health Department announce...   \n",
      "3  5-Mar-20  California Employee Development Department ann...   \n",
      "4  5-Mar-20  The California Department of Insurance issued ...   \n",
      "\n",
      "   Restrict/Close  Opening (State)  Deferring to County  Testing  Education  \\\n",
      "0  Restrict/Close  Opening (State)  Deferring to County  Testing  Education   \n",
      "1             NaN              NaN                  NaN      NaN        NaN   \n",
      "2             NaN              NaN                  NaN      NaN        NaN   \n",
      "3             NaN              NaN                  NaN      NaN        NaN   \n",
      "4             NaN              NaN                  NaN      NaN        NaN   \n",
      "\n",
      "   Health/Medical  Emergency Level  Transportation  Budget  Social Distancing  \\\n",
      "0  Health/Medical  Emergency Level  Transportation  Budget  Social Distancing   \n",
      "1             NaN              NaN               Y     NaN                NaN   \n",
      "2             NaN              NaN             NaN       Y                NaN   \n",
      "3             NaN              NaN             NaN     NaN                NaN   \n",
      "4             NaN                Y             NaN     NaN                NaN   \n",
      "\n",
      "   Other  Vaccine  \n",
      "0  Other  Vaccine  \n",
      "1      Y      NaN  \n",
      "2      Y      NaN  \n",
      "3      Y      NaN  \n",
      "4      Y      NaN  \n",
      "DataFrame for Colorado_policy.csv:\n",
      "        date                                             policy  \\\n",
      "0       date                                             policy   \n",
      "1   2-Mar-20  In response to new coronavirus cases, Governor...   \n",
      "2  10-Mar-20  Governor Polis signed an executive order decla...   \n",
      "3  11-Mar-20  Governor Polis issued guidance to all K-12 sch...   \n",
      "4  11-Mar-20  Governor Polis also instructedthe Colorado Dep...   \n",
      "\n",
      "   Restrict/Close  Opening (State)  Deferring to County  Testing  Education  \\\n",
      "0  Restrict/Close  Opening (State)  Deferring to County  Testing  Education   \n",
      "1             NaN              NaN                  NaN      NaN        NaN   \n",
      "2             NaN              NaN                  NaN        Y        NaN   \n",
      "3             NaN              NaN                  NaN      NaN        NaN   \n",
      "4             NaN              NaN                  NaN      NaN        NaN   \n",
      "\n",
      "   Health/Medical  Emergency Level  Transportation  Budget  Social Distancing  \\\n",
      "0  Health/Medical  Emergency Level  Transportation  Budget  Social Distancing   \n",
      "1             NaN                Y             NaN     NaN                NaN   \n",
      "2             NaN                Y             NaN     NaN                NaN   \n",
      "3             NaN              NaN             NaN     NaN                NaN   \n",
      "4             NaN              NaN             NaN     NaN                NaN   \n",
      "\n",
      "   Other  Vaccine  \n",
      "0  Other  Vaccine  \n",
      "1      Y      NaN  \n",
      "2      Y      NaN  \n",
      "3      Y      NaN  \n",
      "4      Y      NaN  \n",
      "DataFrame for Connecticut_policy.csv:\n",
      "        date                                             policy  \\\n",
      "0       date                                             policy   \n",
      "1   7-Mar-20  Governor Lamont announced that Connecticut is ...   \n",
      "2   9-Mar-20  The Governor also issued an immediate freeze o...   \n",
      "3   9-Mar-20  The Department of Insurance has a bulletin whi...   \n",
      "4  10-Mar-20  Governor Lamont declared civil preparedness an...   \n",
      "\n",
      "   Restrict/Close  Opening (State)  Deferring to County  Testing  Education  \\\n",
      "0  Restrict/Close  Opening (State)  Deferring to County  Testing  Education   \n",
      "1             NaN              NaN                  NaN      NaN        NaN   \n",
      "2               Y              NaN                  NaN      NaN        NaN   \n",
      "3             NaN              NaN                  NaN      NaN        NaN   \n",
      "4             NaN              NaN                  NaN      NaN        NaN   \n",
      "\n",
      "   Health/Medical  Emergency Level  Transportation  Budget  Social Distancing  \\\n",
      "0  Health/Medical  Emergency Level  Transportation  Budget  Social Distancing   \n",
      "1             NaN              NaN             NaN     NaN                NaN   \n",
      "2             NaN              NaN               Y     NaN                NaN   \n",
      "3             NaN              NaN             NaN     NaN                NaN   \n",
      "4             NaN                Y             NaN     NaN                NaN   \n",
      "\n",
      "   Other  Vaccine  \n",
      "0  Other  Vaccine  \n",
      "1      Y      NaN  \n",
      "2    NaN      NaN  \n",
      "3      Y      NaN  \n",
      "4    NaN      NaN  \n",
      "DataFrame for Delaware_policy.csv:\n",
      "        date                                             policy  \\\n",
      "0       date                                             policy   \n",
      "1  12-Mar-20  Governor Carney issued a State of Emergency de...   \n",
      "2  13-Mar-20  The Governor directed a two-week closure of De...   \n",
      "3  16-Mar-20  The Delaware Department of Education received ...   \n",
      "4  14-Mar-20  The Governor authorized all executive branch a...   \n",
      "\n",
      "   Restrict/Close  Opening (State)  Deferring to County  Testing  Education  \\\n",
      "0  Restrict/Close  Opening (State)  Deferring to County  Testing  Education   \n",
      "1               Y              NaN                  NaN      NaN        NaN   \n",
      "2               Y              NaN                  NaN      NaN          Y   \n",
      "3               Y              NaN                  NaN      NaN        NaN   \n",
      "4               Y              NaN                  NaN      NaN        NaN   \n",
      "\n",
      "   Health/Medical  Emergency Level  Transportation  Budget  Social Distancing  \\\n",
      "0  Health/Medical  Emergency Level  Transportation  Budget  Social Distancing   \n",
      "1             NaN              NaN             NaN     NaN                NaN   \n",
      "2             NaN              NaN             NaN     NaN                NaN   \n",
      "3             NaN              NaN             NaN     NaN                NaN   \n",
      "4             NaN              NaN             NaN     NaN                NaN   \n",
      "\n",
      "   Other  Vaccine  \n",
      "0  Other  Vaccine  \n",
      "1    NaN      NaN  \n",
      "2    NaN      NaN  \n",
      "3    NaN      NaN  \n",
      "4    NaN      NaN  \n",
      "DataFrame for DistrictofColumbia_policy.csv:\n",
      "        date                                             policy  \\\n",
      "0       date                                             policy   \n",
      "1   7-Mar-20  The District of Columbia announces its first C...   \n",
      "2  13-Mar-20  The District of Columbia bans gathering of 50+...   \n",
      "3  16-Mar-20  D.C. begins offering free student meals at sch...   \n",
      "4  16-Mar-20  District government begins modified operations...   \n",
      "\n",
      "   Restrict/Close  Opening (State)  Deferring to County  Testing  Education  \\\n",
      "0  Restrict/Close  Opening (State)  Deferring to County  Testing  Education   \n",
      "1             NaN              NaN                  NaN      NaN        NaN   \n",
      "2               Y              NaN                  NaN      NaN        NaN   \n",
      "3             NaN              NaN                  NaN      NaN        NaN   \n",
      "4               Y              NaN                  NaN      NaN        NaN   \n",
      "\n",
      "   Health/Medical  Emergency Level  Transportation  Budget  Social Distancing  \\\n",
      "0  Health/Medical  Emergency Level  Transportation  Budget  Social Distancing   \n",
      "1             NaN              NaN             NaN     NaN                NaN   \n",
      "2             NaN              NaN             NaN     NaN                NaN   \n",
      "3             NaN              NaN             NaN     NaN                NaN   \n",
      "4             NaN              NaN             NaN     NaN                NaN   \n",
      "\n",
      "   Other  Vaccine  \n",
      "0  Other  Vaccine  \n",
      "1      Y      NaN  \n",
      "2    NaN      NaN  \n",
      "3      Y      NaN  \n",
      "4    NaN      NaN  \n",
      "DataFrame for Florida_policy.csv:\n",
      "        date                                             policy  \\\n",
      "0       date                                             policy   \n",
      "1   1-Mar-20  Governor DeSantis signed anexecutive orderdire...   \n",
      "2   9-Mar-20  Governor DeSantis declared a state of emergenc...   \n",
      "3  12-Mar-20  Florida activated the Business Damage Assessme...   \n",
      "4  16-Mar-20  The Governor activated the Florida Small Busin...   \n",
      "\n",
      "   Restrict/Close  Opening (State)  Deferring to County  Testing  Education  \\\n",
      "0  Restrict/Close  Opening (State)  Deferring to County  Testing  Education   \n",
      "1             NaN              NaN                  NaN      NaN        NaN   \n",
      "2             NaN              NaN                  NaN      NaN        NaN   \n",
      "3             NaN              NaN                  NaN      NaN        NaN   \n",
      "4             NaN              NaN                  NaN      NaN        NaN   \n",
      "\n",
      "   Health/Medical  Emergency Level  Transportation  Budget  Social Distancing  \\\n",
      "0  Health/Medical  Emergency Level  Transportation  Budget  Social Distancing   \n",
      "1             NaN              NaN             NaN     NaN                NaN   \n",
      "2               Y                Y             NaN     NaN                NaN   \n",
      "3             NaN              NaN             NaN     NaN                NaN   \n",
      "4             NaN              NaN             NaN     NaN                NaN   \n",
      "\n",
      "   Other  Vaccine  \n",
      "0  Other  Vaccine  \n",
      "1      Y      NaN  \n",
      "2      Y      NaN  \n",
      "3      Y      NaN  \n",
      "4      Y      NaN  \n",
      "DataFrame for Georgia_policy.csv:\n",
      "        date                                             policy  \\\n",
      "0       date                                             policy   \n",
      "1   2-Mar-20  Governor Kemp announced a coronavirus task for...   \n",
      "2  12-Mar-20  Governor Kemp ordered most state employees to ...   \n",
      "3  12-Mar-20  Governor Kemp requested 100 million in state f...   \n",
      "4  13-Mar-20  Governor Kemp issued a public health emergency...   \n",
      "\n",
      "   Restrict/Close  Opening (State)  Deferring to County  Testing  Education  \\\n",
      "0  Restrict/Close  Opening (State)  Deferring to County  Testing  Education   \n",
      "1             NaN              NaN                  NaN      NaN        NaN   \n",
      "2               Y              NaN                  NaN      NaN        NaN   \n",
      "3             NaN              NaN                  NaN      NaN        NaN   \n",
      "4             NaN              NaN                  NaN      NaN        NaN   \n",
      "\n",
      "   Health/Medical  Emergency Level  Transportation  Budget  Social Distancing  \\\n",
      "0  Health/Medical  Emergency Level  Transportation  Budget  Social Distancing   \n",
      "1             NaN              NaN             NaN     NaN                NaN   \n",
      "2             NaN              NaN             NaN     NaN                NaN   \n",
      "3             NaN              NaN             NaN     NaN                NaN   \n",
      "4             NaN              NaN             NaN     NaN                NaN   \n",
      "\n",
      "   Other  Vaccine  \n",
      "0  Other  Vaccine  \n",
      "1      Y      NaN  \n",
      "2    NaN      NaN  \n",
      "3      Y      NaN  \n",
      "4      Y      NaN  \n",
      "DataFrame for Guam_policy.csv:\n",
      "        date                                             policy  \\\n",
      "0       date                                             policy   \n",
      "1   9-Mar-20  Governor Guerrero implemented a Temporary Econ...   \n",
      "2  15-Mar-20   The Governor declared a public health emergency.   \n",
      "3  15-Mar-20  The Governor and the Guam Department of Public...   \n",
      "4  16-Mar-20  The Governor signed a bill that prevents price...   \n",
      "\n",
      "   Restrict/Close  Opening (State)  Deferring to County  Testing  Education  \\\n",
      "0  Restrict/Close  Opening (State)  Deferring to County  Testing  Education   \n",
      "1             NaN              NaN                  NaN      NaN        NaN   \n",
      "2             NaN              NaN                  NaN      NaN        NaN   \n",
      "3               Y              NaN                  NaN      NaN        NaN   \n",
      "4             NaN              NaN                  NaN      NaN        NaN   \n",
      "\n",
      "   Health/Medical  Emergency Level  Transportation  Budget  Social Distancing  \\\n",
      "0  Health/Medical  Emergency Level  Transportation  Budget  Social Distancing   \n",
      "1             NaN              NaN             NaN     NaN                NaN   \n",
      "2             NaN              NaN             NaN     NaN                NaN   \n",
      "3             NaN              NaN             NaN     NaN                NaN   \n",
      "4             NaN              NaN             NaN     NaN                NaN   \n",
      "\n",
      "   Other  Vaccine  \n",
      "0  Other  Vaccine  \n",
      "1      Y      NaN  \n",
      "2      Y      NaN  \n",
      "3    NaN      NaN  \n",
      "4      Y      NaN  \n",
      "DataFrame for Hawaii_policy.csv:\n",
      "        date                                             policy  \\\n",
      "0       date                                             policy   \n",
      "1   4-Mar-20  Governor Ige declared a state of emergency for...   \n",
      "2  12-Mar-20  The Hawaii Department of Transportation instal...   \n",
      "3  15-Mar-20  The Governor issued a supplemental emergency p...   \n",
      "4  17-Mar-20  The Governor at a press conference issued the ...   \n",
      "\n",
      "   Restrict/Close  Opening (State)  Deferring to County  Testing  Education  \\\n",
      "0  Restrict/Close  Opening (State)  Deferring to County  Testing  Education   \n",
      "1             NaN              NaN                  NaN      NaN        NaN   \n",
      "2             NaN              NaN                  NaN      NaN        NaN   \n",
      "3             NaN              NaN                  NaN      NaN        NaN   \n",
      "4               Y              NaN                  NaN      NaN        NaN   \n",
      "\n",
      "   Health/Medical  Emergency Level  Transportation  Budget  Social Distancing  \\\n",
      "0  Health/Medical  Emergency Level  Transportation  Budget  Social Distancing   \n",
      "1             NaN              NaN             NaN     NaN                NaN   \n",
      "2             NaN              NaN             NaN     NaN                NaN   \n",
      "3             NaN              NaN             NaN     NaN                NaN   \n",
      "4             NaN              NaN             NaN     NaN                NaN   \n",
      "\n",
      "   Other  Vaccine  \n",
      "0  Other  Vaccine  \n",
      "1      Y      NaN  \n",
      "2      Y      NaN  \n",
      "3      Y      NaN  \n",
      "4    NaN      NaN  \n",
      "DataFrame for Idaho_policy.csv:\n",
      "        date                                             policy  \\\n",
      "0       date                                             policy   \n",
      "1   4-Mar-20  Governor Brad Little announced the creation of...   \n",
      "2   6-Mar-20  The Idaho Legislature approved Governor Little...   \n",
      "3  13-Mar-20     Governor Little declared a state of emergency.   \n",
      "4  16-Mar-20  The legislature approved The Governors request...   \n",
      "\n",
      "   Restrict/Close  Opening (State)  Deferring to County  Testing  Education  \\\n",
      "0  Restrict/Close  Opening (State)  Deferring to County  Testing  Education   \n",
      "1             NaN              NaN                  NaN      NaN        NaN   \n",
      "2             NaN              NaN                  NaN      NaN        NaN   \n",
      "3             NaN              NaN                  NaN      NaN        NaN   \n",
      "4             NaN              NaN                  NaN      NaN        NaN   \n",
      "\n",
      "   Health/Medical  Emergency Level  Transportation  Budget  Social Distancing  \\\n",
      "0  Health/Medical  Emergency Level  Transportation  Budget  Social Distancing   \n",
      "1             NaN              NaN             NaN     NaN                NaN   \n",
      "2             NaN              NaN             NaN     NaN                NaN   \n",
      "3             NaN                Y             NaN     NaN                NaN   \n",
      "4             NaN              NaN             NaN     NaN                NaN   \n",
      "\n",
      "   Other  Vaccine  \n",
      "0  Other  Vaccine  \n",
      "1      Y      NaN  \n",
      "2      Y      NaN  \n",
      "3      Y      NaN  \n",
      "4      Y      NaN  \n",
      "DataFrame for Illinois_policy.csv:\n",
      "        date                                             policy  \\\n",
      "0       date                                             policy   \n",
      "1   2-Mar-20  The Illinois Department of Insurance issued a ...   \n",
      "2   8-Mar-20  The Illinois Department of Insurance has relea...   \n",
      "3  10-Mar-20  In a press conference, Governor Pritzker annou...   \n",
      "4  12-Mar-20  Governor Pritzker ordered the closure of publi...   \n",
      "\n",
      "   Restrict/Close  Opening (State)  Deferring to County  Testing  Education  \\\n",
      "0  Restrict/Close  Opening (State)  Deferring to County  Testing  Education   \n",
      "1             NaN              NaN                  NaN      NaN        NaN   \n",
      "2             NaN              NaN                  NaN      NaN        NaN   \n",
      "3             NaN              NaN                  NaN      NaN        NaN   \n",
      "4               Y              NaN                  NaN      NaN        NaN   \n",
      "\n",
      "   Health/Medical  Emergency Level  Transportation  Budget  Social Distancing  \\\n",
      "0  Health/Medical  Emergency Level  Transportation  Budget  Social Distancing   \n",
      "1             NaN              NaN             NaN     NaN                NaN   \n",
      "2             NaN              NaN             NaN     NaN                NaN   \n",
      "3             NaN              NaN             NaN     NaN                NaN   \n",
      "4             NaN              NaN             NaN     NaN                NaN   \n",
      "\n",
      "   Other  Vaccine  \n",
      "0  Other  Vaccine  \n",
      "1      Y      NaN  \n",
      "2      Y      NaN  \n",
      "3      Y      NaN  \n",
      "4    NaN      NaN  \n",
      "DataFrame for Indiana_policy.csv:\n",
      "        date                                             policy  \\\n",
      "0       date                                             policy   \n",
      "1   6-Mar-20  Governor Holcomb signed an executive order dec...   \n",
      "2  12-Mar-20  Governor Holcomb initiatedseveral actionson Ma...   \n",
      "3  13-Mar-20  The Governor announced additional steps the st...   \n",
      "4  16-Mar-20  The Governor announcedthe following updates re...   \n",
      "\n",
      "   Restrict/Close  Opening (State)  Deferring to County  Testing  Education  \\\n",
      "0  Restrict/Close  Opening (State)  Deferring to County  Testing  Education   \n",
      "1             NaN              NaN                  NaN      NaN        NaN   \n",
      "2               Y              NaN                  NaN      NaN        NaN   \n",
      "3             NaN              NaN                  NaN      NaN        NaN   \n",
      "4               Y              NaN                  NaN      NaN        NaN   \n",
      "\n",
      "   Health/Medical  Emergency Level  Transportation  Budget  Social Distancing  \\\n",
      "0  Health/Medical  Emergency Level  Transportation  Budget  Social Distancing   \n",
      "1             NaN                Y             NaN     NaN                NaN   \n",
      "2             NaN              NaN             NaN     NaN                NaN   \n",
      "3             NaN              NaN             NaN     NaN                NaN   \n",
      "4             NaN              NaN             NaN     NaN                NaN   \n",
      "\n",
      "   Other  Vaccine  \n",
      "0  Other  Vaccine  \n",
      "1    NaN      NaN  \n",
      "2    NaN      NaN  \n",
      "3      Y      NaN  \n",
      "4    NaN      NaN  \n",
      "DataFrame for Iowa_policy.csv:\n",
      "        date                                             policy  \\\n",
      "0       date                                             policy   \n",
      "1  10-Mar-20  Governor Reynolds announced in a news conferen...   \n",
      "2  15-Mar-20  The Governor recommended Iowa schools close fo...   \n",
      "3  16-Mar-20  The Governor announced various forms of assist...   \n",
      "4  17-Mar-20  The Governor signed legislation that creates e...   \n",
      "\n",
      "   Restrict/Close  Opening (State)  Deferring to County  Testing  Education  \\\n",
      "0  Restrict/Close  Opening (State)  Deferring to County  Testing  Education   \n",
      "1             NaN              NaN                  NaN      NaN        NaN   \n",
      "2               Y              NaN                  NaN      NaN          Y   \n",
      "3             NaN              NaN                  NaN      NaN        NaN   \n",
      "4             NaN              NaN                  NaN      NaN        NaN   \n",
      "\n",
      "   Health/Medical  Emergency Level  Transportation  Budget  Social Distancing  \\\n",
      "0  Health/Medical  Emergency Level  Transportation  Budget  Social Distancing   \n",
      "1             NaN              NaN             NaN     NaN                NaN   \n",
      "2             NaN              NaN             NaN     NaN                NaN   \n",
      "3             NaN              NaN             NaN     NaN                NaN   \n",
      "4             NaN                Y             NaN     NaN                NaN   \n",
      "\n",
      "   Other  Vaccine  \n",
      "0  Other  Vaccine  \n",
      "1      Y      NaN  \n",
      "2    NaN      NaN  \n",
      "3      Y      NaN  \n",
      "4      Y      NaN  \n",
      "DataFrame for Kansas_policy.csv:\n",
      "        date                                             policy  \\\n",
      "0       date                                             policy   \n",
      "1  12-Mar-20        The Governor declared a state of emergency.   \n",
      "2  15-Mar-20  The Governor recommended K-12 school in Kansas...   \n",
      "3  16-Mar-20  The Governor banned all gatherings larger than...   \n",
      "4  17-Mar-20  The Governor ordered, effective Monday, March ...   \n",
      "\n",
      "   Restrict/Close  Opening (State)  Deferring to County  Testing  Education  \\\n",
      "0  Restrict/Close  Opening (State)  Deferring to County  Testing  Education   \n",
      "1             NaN              NaN                  NaN      NaN        NaN   \n",
      "2               Y              NaN                  NaN      NaN          Y   \n",
      "3               Y              NaN                  NaN      NaN        NaN   \n",
      "4               Y              NaN                  NaN      NaN        NaN   \n",
      "\n",
      "   Health/Medical  Emergency Level  Transportation  Budget  Social Distancing  \\\n",
      "0  Health/Medical  Emergency Level  Transportation  Budget  Social Distancing   \n",
      "1             NaN                Y             NaN     NaN                NaN   \n",
      "2             NaN              NaN             NaN     NaN                NaN   \n",
      "3             NaN              NaN             NaN     NaN                NaN   \n",
      "4             NaN              NaN             NaN     NaN                NaN   \n",
      "\n",
      "   Other  Vaccine  \n",
      "0  Other  Vaccine  \n",
      "1    NaN      NaN  \n",
      "2    NaN      NaN  \n",
      "3    NaN      NaN  \n",
      "4    NaN      NaN  \n",
      "DataFrame for Kentucky_policy.csv:\n",
      "        date                                             policy  \\\n",
      "0       date                                             policy   \n",
      "1   6-Mar-20  Governor Beshear declared astate of emergency ...   \n",
      "2   7-Mar-20  The Governor issued guidance for high risk pop...   \n",
      "3  10-Mar-20  Governor Beshear announced in a press conferen...   \n",
      "4  11-Mar-20  Governor Beshear instructed school districts t...   \n",
      "\n",
      "   Restrict/Close      Opening (State) Deferring to County  Testing  \\\n",
      "0  Restrict/Close  Deferring to County    Opening (County)  Testing   \n",
      "1             NaN                  NaN                 NaN      NaN   \n",
      "2             NaN                  NaN                 NaN      NaN   \n",
      "3             NaN                  NaN                 NaN      NaN   \n",
      "4               Y                  NaN                 NaN      NaN   \n",
      "\n",
      "   Education  Health/Medical  Emergency Level  Transportation  Budget  \\\n",
      "0  Education  Health/Medical  Emergency Level  Transportation  Budget   \n",
      "1        NaN             NaN                Y             NaN     NaN   \n",
      "2        NaN             NaN              NaN             NaN     NaN   \n",
      "3        NaN             NaN              NaN             NaN     NaN   \n",
      "4        NaN             NaN              NaN             NaN     NaN   \n",
      "\n",
      "   Social Distancing  Other  Vaccine  \n",
      "0  Social Distancing  Other  Vaccine  \n",
      "1                NaN      Y      NaN  \n",
      "2                NaN      Y      NaN  \n",
      "3                NaN      Y      NaN  \n",
      "4                NaN    NaN      NaN  \n",
      "DataFrame for Louisiana_policy.csv:\n",
      "        date                                             policy  \\\n",
      "0       date                                             policy   \n",
      "1   2-Mar-20  Gov. John Bel Edwards announced the creation o...   \n",
      "2  11-Mar-20  Governor Edwards declared a public health emer...   \n",
      "3  13-Mar-20  The Governor signed an executive order postpon...   \n",
      "4  13-Mar-20  The Governor signed a proclamation that immedi...   \n",
      "\n",
      "   Restrict/Close  Opening (State)  Deferring to County  Testing  Education  \\\n",
      "0  Restrict/Close  Opening (State)  Deferring to County  Testing  Education   \n",
      "1             NaN              NaN                  NaN      NaN        NaN   \n",
      "2             NaN              NaN                  NaN      NaN        NaN   \n",
      "3             NaN              NaN                  NaN      NaN        NaN   \n",
      "4               Y              NaN                  NaN      NaN        NaN   \n",
      "\n",
      "   Health/Medical  Emergency Level  Transportation  Budget  Social Distancing  \\\n",
      "0  Health/Medical  Emergency Level  Transportation  Budget  Social Distancing   \n",
      "1             NaN              NaN             NaN     NaN                NaN   \n",
      "2             NaN              NaN             NaN     NaN                NaN   \n",
      "3             NaN              NaN             NaN     NaN                NaN   \n",
      "4             NaN              NaN             NaN     NaN                NaN   \n",
      "\n",
      "   Other  Vaccine  \n",
      "0  Other  Vaccine  \n",
      "1      Y      NaN  \n",
      "2      Y      NaN  \n",
      "3      Y      NaN  \n",
      "4    NaN      NaN  \n",
      "DataFrame for Maine_policy.csv:\n",
      "        date                                             policy  \\\n",
      "0       date                                             policy   \n",
      "1   2-Mar-20  Governor Janet Mills convened an Coronavirus R...   \n",
      "2  12-Mar-20  Governor Janet Mills recommended in a press co...   \n",
      "3  15-Mar-20  Governor Janet Mills signed a proclamation of ...   \n",
      "4  17-Mar-20  The Governors emergency legislation were appro...   \n",
      "\n",
      "   Restrict/Close  Opening (State)  Deferring to County  Testing  Education  \\\n",
      "0  Restrict/Close  Opening (State)  Deferring to County  Testing  Education   \n",
      "1             NaN              NaN                  NaN      NaN        NaN   \n",
      "2               Y              NaN                  NaN      NaN        NaN   \n",
      "3             NaN              NaN                  NaN      NaN        NaN   \n",
      "4             NaN              NaN                  NaN      NaN        NaN   \n",
      "\n",
      "   Health/Medical  Emergency Level  Transportation  Budget  Social Distancing  \\\n",
      "0  Health/Medical  Emergency Level  Transportation  Budget  Social Distancing   \n",
      "1             NaN              NaN             NaN     NaN                NaN   \n",
      "2             NaN              NaN             NaN     NaN                NaN   \n",
      "3             NaN                Y             NaN     NaN                NaN   \n",
      "4             NaN              NaN             NaN     NaN                NaN   \n",
      "\n",
      "   Other  Vaccine  \n",
      "0  Other  Vaccine  \n",
      "1      Y      NaN  \n",
      "2    NaN      NaN  \n",
      "3      Y      NaN  \n",
      "4      Y      NaN  \n",
      "DataFrame for Maryland_policy.csv:\n",
      "                                                       date          policy  \\\n",
      "date                                                 policy  Restrict/Close   \n",
      "2-Mar-20  MDH has released public service announcements ...             NaN   \n",
      "3-Mar-20  Governor Hogan is submitting a $10 million eme...             NaN   \n",
      "3-Mar-20  The Maryland Higher Education Commission is co...             NaN   \n",
      "3-Mar-20  MDH is coordinating with nursing homes and ass...             NaN   \n",
      "\n",
      "           Restrict/Close      Opening (State) Deferring to County    Testing  \\\n",
      "date      Opening (State)  Deferring to County             Testing  Education   \n",
      "2-Mar-20              NaN                  NaN                 NaN        NaN   \n",
      "3-Mar-20              NaN                  NaN                 NaN        NaN   \n",
      "3-Mar-20              NaN                  NaN                 NaN          Y   \n",
      "3-Mar-20              NaN                  NaN                 NaN        NaN   \n",
      "\n",
      "               Education   Health/Medical Emergency Level Transportation  \\\n",
      "date      Health/Medical  Emergency Level  Transportation         Budget   \n",
      "2-Mar-20             NaN              NaN             NaN            NaN   \n",
      "3-Mar-20             NaN              NaN             NaN            NaN   \n",
      "3-Mar-20             NaN              NaN             NaN            NaN   \n",
      "3-Mar-20             NaN              NaN             NaN            NaN   \n",
      "\n",
      "                     Budget Social Distancing    Other  Vaccine  \n",
      "date      Social Distancing             Other  Vaccine      NaN  \n",
      "2-Mar-20                  Y               NaN      NaN      NaN  \n",
      "3-Mar-20                  y               NaN      NaN      NaN  \n",
      "3-Mar-20                  Y               NaN      NaN      NaN  \n",
      "3-Mar-20                  Y               NaN      NaN      NaN  \n",
      "DataFrame for Massachusetts_policy.csv:\n",
      "        date                                             policy  \\\n",
      "0       date                                             policy   \n",
      "1   4-Mar-20  Governor Baker announced that due to the emerg...   \n",
      "2  10-Mar-20      Governor Baker declared a state of emergency.   \n",
      "3  10-Mar-20  Broad restrictions are imposed on travel for m...   \n",
      "4  12-Mar-20  Governor Baker signed off on a $15 million dol...   \n",
      "\n",
      "   Restrict/Close  Opening (State)  Deferring to County  Testing  Education  \\\n",
      "0  Restrict/Close  Opening (State)  Deferring to County  Testing  Education   \n",
      "1               Y              NaN                  NaN      NaN        NaN   \n",
      "2             NaN              NaN                  NaN      NaN        NaN   \n",
      "3               Y              NaN                  NaN      NaN        NaN   \n",
      "4             NaN              NaN                  NaN      NaN        NaN   \n",
      "\n",
      "   Health/Medical  Emergency Level  Transportation  Budget  Social Distancing  \\\n",
      "0  Health/Medical  Emergency Level  Transportation  Budget  Social Distancing   \n",
      "1             NaN              NaN             NaN     NaN                NaN   \n",
      "2             NaN                Y             NaN     NaN                NaN   \n",
      "3             NaN              NaN             NaN     NaN                NaN   \n",
      "4             NaN              NaN             NaN       Y                NaN   \n",
      "\n",
      "   Other  Vaccine  \n",
      "0  Other  Vaccine  \n",
      "1    NaN      NaN  \n",
      "2      Y      NaN  \n",
      "3    NaN      NaN  \n",
      "4      Y      NaN  \n",
      "DataFrame for Michigan_policy.csv:\n",
      "        date                                             policy  \\\n",
      "0       date                                             policy   \n",
      "1   3-Mar-20  Governor Whitmer announced the creation of fou...   \n",
      "2  10-Mar-20    Governor Whitmer declared a state of emergency.   \n",
      "3  12-Mar-20  Governor Whitmer ordered closure of all K-12 s...   \n",
      "4  15-Mar-20  The Governor signed Executive Order 2020-8, ef...   \n",
      "\n",
      "   Restrict/Close  Opening (State)  Deferring to County  Testing  Education  \\\n",
      "0  Restrict/Close  Opening (State)  Deferring to County  Testing  Education   \n",
      "1             NaN              NaN                  NaN      NaN        NaN   \n",
      "2             NaN              NaN                  NaN      NaN        NaN   \n",
      "3               Y              NaN                  NaN      NaN          Y   \n",
      "4             NaN              NaN                  NaN      NaN        NaN   \n",
      "\n",
      "   Health/Medical  Emergency Level  Transportation  Budget  Social Distancing  \\\n",
      "0  Health/Medical  Emergency Level  Transportation  Budget  Social Distancing   \n",
      "1             NaN              NaN             NaN     NaN                NaN   \n",
      "2             NaN                Y             NaN     NaN                NaN   \n",
      "3             NaN              NaN             NaN     NaN                NaN   \n",
      "4             NaN              NaN             NaN     NaN                NaN   \n",
      "\n",
      "   Other  Vaccine  \n",
      "0  Other  Vaccine  \n",
      "1      Y      NaN  \n",
      "2    NaN      NaN  \n",
      "3    NaN      NaN  \n",
      "4      Y      NaN  \n",
      "DataFrame for Minnesota_policy.csv:\n",
      "        date                                             policy  \\\n",
      "0       date                                             policy   \n",
      "1  10-Mar-20  Governor Walz signed legislation authorizing t...   \n",
      "2  11-Mar-20  Proposed legislation would grant the Governor ...   \n",
      "3  12-Mar-20  Governor Walz restricted all state business tr...   \n",
      "4  15-Mar-20  The Governor signed Executive Order 20-02 auth...   \n",
      "\n",
      "   Restrict/Close  Opening (State)  Deferring to County  Testing  Education  \\\n",
      "0  Restrict/Close  Opening (State)  Deferring to County  Testing  Education   \n",
      "1             NaN              NaN                  NaN      NaN        NaN   \n",
      "2             NaN              NaN                  NaN      NaN        NaN   \n",
      "3               Y              NaN                  NaN      NaN        NaN   \n",
      "4               Y              NaN                  NaN      NaN          Y   \n",
      "\n",
      "   Health/Medical  Emergency Level  Transportation  Budget  Social Distancing  \\\n",
      "0  Health/Medical  Emergency Level  Transportation  Budget  Social Distancing   \n",
      "1             NaN              NaN             NaN     NaN                NaN   \n",
      "2             NaN                Y             NaN     NaN                NaN   \n",
      "3             NaN              NaN             NaN     NaN                NaN   \n",
      "4             NaN              NaN             NaN     NaN                NaN   \n",
      "\n",
      "   Other  Vaccine  \n",
      "0  Other  Vaccine  \n",
      "1      Y      NaN  \n",
      "2    NaN      NaN  \n",
      "3    NaN      NaN  \n",
      "4      Y      NaN  \n",
      "DataFrame for Mississippi_policy.csv:\n",
      "        date                                             policy  \\\n",
      "0       date                                             policy   \n",
      "1   4-Mar-20  Governor Reeves established the Mississippi Co...   \n",
      "2  14-Mar-20     Governor Reeves declared a state of emergency.   \n",
      "3  16-Mar-20  The Governor signed two executive orders which...   \n",
      "4  19-Mar-20  The Governor announced the closing of all publ...   \n",
      "\n",
      "   Restrict/Close  Opening (State)  Deferring to County  Testing  Education  \\\n",
      "0  Restrict/Close  Opening (State)  Deferring to County  Testing  Education   \n",
      "1             NaN              NaN                  NaN      NaN        NaN   \n",
      "2             NaN              NaN                  NaN      NaN        NaN   \n",
      "3               Y              NaN                  NaN        Y          Y   \n",
      "4               Y              NaN                  NaN      NaN          Y   \n",
      "\n",
      "   Health/Medical  Emergency Level  Transportation  Budget  Social Distancing  \\\n",
      "0  Health/Medical  Emergency Level  Transportation  Budget  Social Distancing   \n",
      "1             NaN              NaN             NaN     NaN                NaN   \n",
      "2             NaN                Y             NaN     NaN                NaN   \n",
      "3             NaN              NaN             NaN     NaN                NaN   \n",
      "4             NaN              NaN             NaN     NaN                NaN   \n",
      "\n",
      "   Other  Vaccine  \n",
      "0  Other  Vaccine  \n",
      "1      Y      NaN  \n",
      "2    NaN      NaN  \n",
      "3      Y      NaN  \n",
      "4    NaN      NaN  \n",
      "DataFrame for Missouri_policy.csv:\n",
      "        date                                             policy  \\\n",
      "0       date                                             policy   \n",
      "1  13-Mar-20  Governor Parsons signs a state of emergency de...   \n",
      "2  15-Mar-20  The Governor issued guidance limiting mass gat...   \n",
      "3  17-Mar-20  The Governor announced that casinos will be cl...   \n",
      "4  18-Mar-20  The Governor signed Executive Order 20-04 whic...   \n",
      "\n",
      "   Restrict/Close  Opening (State)  Deferring to County  Testing  Education  \\\n",
      "0  Restrict/Close  Opening (State)  Deferring to County  Testing  Education   \n",
      "1             NaN              NaN                  NaN      NaN        NaN   \n",
      "2               Y              NaN                  NaN      NaN        NaN   \n",
      "3               Y              NaN                  NaN      NaN          Y   \n",
      "4             NaN              NaN                  NaN      NaN          Y   \n",
      "\n",
      "   Health/Medical  Emergency Level  Transportation  Budget  Social Distancing  \\\n",
      "0  Health/Medical  Emergency Level  Transportation  Budget  Social Distancing   \n",
      "1             NaN                Y             NaN     NaN                NaN   \n",
      "2             NaN              NaN             NaN     NaN                NaN   \n",
      "3             NaN              NaN             NaN     NaN                NaN   \n",
      "4               Y              NaN             NaN     NaN                NaN   \n",
      "\n",
      "   Other  Vaccine  \n",
      "0  Other  Vaccine  \n",
      "1    NaN      NaN  \n",
      "2    NaN      NaN  \n",
      "3    NaN      NaN  \n",
      "4      Y      NaN  \n",
      "DataFrame for Montana_policy.csv:\n",
      "        date                                             policy  \\\n",
      "0       date                                             policy   \n",
      "1   3-Mar-20  Governor Bullock activated the Governors Coron...   \n",
      "2  12-Mar-20  Governor Bullock declared a state of emergency...   \n",
      "3  15-Mar-20  The Governor issued guidance closing all publi...   \n",
      "4  16-Mar-20  The Governor activated eight Montana Army Nati...   \n",
      "\n",
      "   Restrict/Close  Opening (State)  Deferring to County  Testing  Education  \\\n",
      "0  Restrict/Close  Opening (State)  Deferring to County  Testing  Education   \n",
      "1             NaN              NaN                  NaN      NaN        NaN   \n",
      "2             NaN              NaN                  NaN      NaN        NaN   \n",
      "3               Y              NaN                  NaN      NaN          Y   \n",
      "4             NaN              NaN                  NaN      NaN        NaN   \n",
      "\n",
      "   Health/Medical  Emergency Level  Transportation  Budget  Social Distancing  \\\n",
      "0  Health/Medical  Emergency Level  Transportation  Budget  Social Distancing   \n",
      "1             NaN              NaN             NaN     NaN                NaN   \n",
      "2             NaN                Y             NaN     NaN                NaN   \n",
      "3             NaN              NaN             NaN     NaN                NaN   \n",
      "4             NaN              NaN             NaN     NaN                NaN   \n",
      "\n",
      "   Other  Vaccine  \n",
      "0  Other  Vaccine  \n",
      "1      Y      NaN  \n",
      "2    NaN      NaN  \n",
      "3      Y      NaN  \n",
      "4      Y      NaN  \n",
      "DataFrame for Nebraska_policy.csv:\n",
      "        date                                             policy  \\\n",
      "0       date                                             policy   \n",
      "1  13-Mar-20  Gov. Ricketts issued an emergency declaration ...   \n",
      "2  13-Mar-20  The Nebraska Department of Economic Developmen...   \n",
      "3  13-Mar-20  The Department of Economic Development (DED) a...   \n",
      "4  16-Mar-20  The Governor announced new guidance which limi...   \n",
      "\n",
      "   Restrict/Close  Opening (State)  Deferring to County  Testing  Education  \\\n",
      "0  Restrict/Close  Opening (State)  Deferring to County  Testing  Education   \n",
      "1             NaN              NaN                  NaN      NaN        NaN   \n",
      "2             NaN              NaN                  NaN      NaN        NaN   \n",
      "3             NaN              NaN                  NaN      NaN        NaN   \n",
      "4               Y              NaN                  NaN      NaN        NaN   \n",
      "\n",
      "   Health/Medical  Emergency Level  Transportation  Budget  Social Distancing  \\\n",
      "0  Health/Medical  Emergency Level  Transportation  Budget  Social Distancing   \n",
      "1             NaN                Y             NaN     NaN                NaN   \n",
      "2             NaN              NaN             NaN     NaN                NaN   \n",
      "3             NaN              NaN             NaN     NaN                NaN   \n",
      "4             NaN              NaN             NaN     NaN                NaN   \n",
      "\n",
      "   Other  Vaccine  \n",
      "0  Other  Vaccine  \n",
      "1    NaN      NaN  \n",
      "2      Y      NaN  \n",
      "3      Y      NaN  \n",
      "4    NaN      NaN  \n",
      "DataFrame for Nevada_policy.csv:\n",
      "        date                                             policy  \\\n",
      "0       date                                             policy   \n",
      "1   5-Mar-20  In coordination with the Nevada Department of ...   \n",
      "2  12-Mar-20    Governor Sisolak declared a state of emergency.   \n",
      "3  15-Mar-20  The Governor closed all public elementary and ...   \n",
      "4  17-Mar-20  The Governor announced risk mitigation measure...   \n",
      "\n",
      "   Restrict/Close  Opening (State)  Deferring to County  Testing  Education  \\\n",
      "0  Restrict/Close  Opening (State)  Deferring to County  Testing  Education   \n",
      "1             NaN              NaN                  NaN      NaN        NaN   \n",
      "2             NaN              NaN                  NaN      NaN        NaN   \n",
      "3               Y              NaN                  NaN      NaN          Y   \n",
      "4               Y              NaN                  NaN      NaN        NaN   \n",
      "\n",
      "   Health/Medical  Emergency Level  Transportation  Budget  Social Distancing  \\\n",
      "0  Health/Medical  Emergency Level  Transportation  Budget  Social Distancing   \n",
      "1               Y              NaN             NaN     NaN                NaN   \n",
      "2             NaN                Y             NaN     NaN                NaN   \n",
      "3             NaN              NaN             NaN     NaN                NaN   \n",
      "4             NaN              NaN             NaN     NaN                NaN   \n",
      "\n",
      "   Other  Vaccine  \n",
      "0  Other  Vaccine  \n",
      "1    NaN      NaN  \n",
      "2    NaN      NaN  \n",
      "3    NaN      NaN  \n",
      "4      Y      NaN  \n",
      "DataFrame for New Hampshire_policy.csv:\n",
      "        date                                             policy  \\\n",
      "0       date                                             policy   \n",
      "1  12-Mar-20  Governor Sununu announced a new order, issued ...   \n",
      "2  15-Mar-20  The Governor issued an emergency order closing...   \n",
      "3  16-Mar-20  The Governor limited scheduled public gatherin...   \n",
      "4  16-Mar-20  The Governor sent a memo to municipal official...   \n",
      "\n",
      "   Restrict/Close  Opening (State)  Deferring to County  Testing  Education  \\\n",
      "0  Restrict/Close  Opening (State)  Deferring to County  Testing  Education   \n",
      "1             NaN              NaN                  NaN      NaN        NaN   \n",
      "2               Y              NaN                  NaN      NaN          Y   \n",
      "3               Y              NaN                  NaN      NaN        NaN   \n",
      "4             NaN              NaN                  NaN      NaN        NaN   \n",
      "\n",
      "   Health/Medical  Emergency Level  Transportation  Budget  Social Distancing  \\\n",
      "0  Health/Medical  Emergency Level  Transportation  Budget  Social Distancing   \n",
      "1               Y              NaN             NaN     NaN                NaN   \n",
      "2             NaN              NaN             NaN     NaN                NaN   \n",
      "3             NaN              NaN             NaN     NaN                NaN   \n",
      "4             NaN              NaN             NaN     NaN                NaN   \n",
      "\n",
      "   Other  Vaccine  \n",
      "0  Other  Vaccine  \n",
      "1      Y      NaN  \n",
      "2    NaN      NaN  \n",
      "3    NaN      NaN  \n",
      "4      Y      NaN  \n",
      "DataFrame for New Jersey_policy.csv:\n",
      "        date                                             policy  \\\n",
      "0       date                                             policy   \n",
      "1   5-Mar-20  Governor Murphy placed restrictions on state-r...   \n",
      "2   9-Mar-20  Governor Murphy signed an executive order decl...   \n",
      "3  12-Mar-20  The Governor cancelled all public gatheringswi...   \n",
      "4  15-Mar-20  The Governor closed all motor vehicle agencies...   \n",
      "\n",
      "   Restrict/Close  Opening (State)  Deferring to County  Testing  Education  \\\n",
      "0  Restrict/Close  Opening (State)  Deferring to County  Testing  Education   \n",
      "1               Y              NaN                  NaN      NaN        NaN   \n",
      "2             NaN              NaN                  NaN      NaN        NaN   \n",
      "3               Y              NaN                  NaN      NaN        NaN   \n",
      "4               Y              NaN                  NaN      NaN        NaN   \n",
      "\n",
      "   Health/Medical  Emergency Level  Transportation  Budget  Social Distancing  \\\n",
      "0  Health/Medical  Emergency Level  Transportation  Budget  Social Distancing   \n",
      "1             NaN              NaN             NaN     NaN                NaN   \n",
      "2             NaN                Y             NaN     NaN                NaN   \n",
      "3             NaN              NaN             NaN     NaN                NaN   \n",
      "4             NaN              NaN             NaN     NaN                NaN   \n",
      "\n",
      "   Other  Vaccine  \n",
      "0  Other  Vaccine  \n",
      "1    NaN      NaN  \n",
      "2    NaN      NaN  \n",
      "3    NaN      NaN  \n",
      "4    NaN      NaN  \n",
      "DataFrame for New Mexico_policy.csv:\n",
      "        date                                             policy  \\\n",
      "0       date                                             policy   \n",
      "1   4-Mar-20  Governor Lujan Grisham said state officials ar...   \n",
      "2   6-Mar-20  The Department of Insurance issued a bulletin ...   \n",
      "3  11-Mar-20  Governor Luhan Grisham signed an executive ord...   \n",
      "4  12-Mar-20  The Governor announced that all New Mexico pub...   \n",
      "\n",
      "   Restrict/Close  Opening (State)  Deferring to County  Testing  Education  \\\n",
      "0  Restrict/Close  Opening (State)  Deferring to County  Testing  Education   \n",
      "1             NaN              NaN                  NaN      NaN        NaN   \n",
      "2             NaN              NaN                  NaN      NaN        NaN   \n",
      "3               Y              NaN                  NaN      NaN        NaN   \n",
      "4               Y              NaN                  NaN      NaN          Y   \n",
      "\n",
      "   Health/Medical  Emergency Level  Transportation  Budget  Social Distancing  \\\n",
      "0  Health/Medical  Emergency Level  Transportation  Budget  Social Distancing   \n",
      "1             NaN              NaN             NaN     NaN                NaN   \n",
      "2               Y              NaN             NaN     NaN                NaN   \n",
      "3             NaN                Y             NaN     NaN                NaN   \n",
      "4             NaN              NaN             NaN     NaN                NaN   \n",
      "\n",
      "   Other  Vaccine  \n",
      "0  Other  Vaccine  \n",
      "1      Y      NaN  \n",
      "2      Y      NaN  \n",
      "3    NaN      NaN  \n",
      "4    NaN      NaN  \n",
      "DataFrame for New York_policy.csv:\n",
      "       date                                             policy  \\\n",
      "0      date                                             policy   \n",
      "1  2-Mar-20  Governor Cuomo announced the state will instit...   \n",
      "2  2-Mar-20  The Governor will also propose legislation to ...   \n",
      "3  2-Mar-20  The public health laboratory housed within the...   \n",
      "4  2-Mar-20  DOH is convening local health departments and ...   \n",
      "\n",
      "   Restrict/Close  Opening (State)  Deferring to County  Testing  Education  \\\n",
      "0  Restrict/Close  Opening (State)  Deferring to County  Testing  Education   \n",
      "1             NaN              NaN                  NaN      NaN        NaN   \n",
      "2             NaN              NaN                  NaN      NaN        NaN   \n",
      "3             NaN              NaN                  NaN        Y        NaN   \n",
      "4             NaN              NaN                  NaN      NaN        NaN   \n",
      "\n",
      "   Health/Medical  Emergency Level  Transportation  Budget  Social Distancing  \\\n",
      "0  Health/Medical  Emergency Level  Transportation  Budget  Social Distancing   \n",
      "1             NaN              NaN             NaN     NaN                NaN   \n",
      "2             NaN              NaN             NaN     NaN                NaN   \n",
      "3               Y              NaN             NaN     NaN                NaN   \n",
      "4             NaN              NaN             NaN     NaN                NaN   \n",
      "\n",
      "   Other  Vaccine  \n",
      "0  Other  Vaccine  \n",
      "1      Y      NaN  \n",
      "2      Y      NaN  \n",
      "3    NaN      NaN  \n",
      "4      Y      NaN  \n",
      "DataFrame for North Carolina_policy.csv:\n",
      "        date                                             policy  \\\n",
      "0       date                                             policy   \n",
      "1   3-Mar-20  The state is now allowing coronavirus testing ...   \n",
      "2  10-Mar-20  Governor Cooper declared a state of emergency,...   \n",
      "3  12-Mar-20  Governor Cooper provided guidance to cancel or...   \n",
      "4  14-Mar-20  The Governor issued an executive order to clos...   \n",
      "\n",
      "   Restrict/Close  Opening (State)  Deferring to County  Testing  Education  \\\n",
      "0  Restrict/Close  Opening (State)  Deferring to County  Testing  Education   \n",
      "1             NaN              NaN                  NaN        Y        NaN   \n",
      "2             NaN              NaN                  NaN      NaN        NaN   \n",
      "3               Y              NaN                  NaN      NaN        NaN   \n",
      "4               Y              NaN                  NaN      NaN          Y   \n",
      "\n",
      "   Health/Medical  Emergency Level  Transportation  Budget  Social Distancing  \\\n",
      "0  Health/Medical  Emergency Level  Transportation  Budget  Social Distancing   \n",
      "1             NaN              NaN             NaN     NaN                NaN   \n",
      "2             NaN                Y             NaN     NaN                NaN   \n",
      "3             NaN              NaN             NaN     NaN                NaN   \n",
      "4             NaN              NaN             NaN     NaN                NaN   \n",
      "\n",
      "   Other  Vaccine  \n",
      "0  Other  Vaccine  \n",
      "1    NaN      NaN  \n",
      "2    NaN      NaN  \n",
      "3    NaN      NaN  \n",
      "4    NaN      NaN  \n",
      "DataFrame for North Dakota_policy.csv:\n",
      "        date                                             policy  \\\n",
      "0       date                                             policy   \n",
      "1   3-Mar-20  The North Dakota Department of Health has deve...   \n",
      "2  12-Mar-20  Governor Burgum released recommendations aroun...   \n",
      "3  13-Mar-20      Governor Burgum declared a state of emergency   \n",
      "4  15-Mar-20  The Governor ordered all K-12 schools to close...   \n",
      "\n",
      "   Restrict/Close  Opening (State)  Deferring to County  Testing  Education  \\\n",
      "0  Restrict/Close  Opening (State)  Deferring to County  Testing  Education   \n",
      "1             NaN              NaN                  NaN      NaN        NaN   \n",
      "2             NaN              NaN                  NaN      NaN        NaN   \n",
      "3             NaN              NaN                  NaN      NaN        NaN   \n",
      "4               Y              NaN                  NaN      NaN          Y   \n",
      "\n",
      "   Health/Medical  Emergency Level  Transportation  Budget  Social Distancing  \\\n",
      "0  Health/Medical  Emergency Level  Transportation  Budget  Social Distancing   \n",
      "1             NaN              NaN             NaN     NaN                NaN   \n",
      "2             NaN              NaN             NaN     NaN                NaN   \n",
      "3             NaN                Y             NaN     NaN                NaN   \n",
      "4             NaN              NaN             NaN     NaN                NaN   \n",
      "\n",
      "   Other  Vaccine  \n",
      "0  Other  Vaccine  \n",
      "1      Y      NaN  \n",
      "2      Y      NaN  \n",
      "3    NaN      NaN  \n",
      "4    NaN      NaN  \n",
      "DataFrame for Ohio_policy.csv:\n",
      "        date                                             policy  \\\n",
      "0       date                                             policy   \n",
      "1  10-Mar-20  Governor DeWine issued a recommendationon limi...   \n",
      "2  12-Mar-20  Governor DeWine announced that all schools wil...   \n",
      "3  15-Mar-20   The Governor ordered all Ohio bars and restau...   \n",
      "4  16-Mar-20  The Governor issued an order regarding the clo...   \n",
      "\n",
      "   Restrict/Close  Opening (State)  Deferring to County  Testing  Education  \\\n",
      "0  Restrict/Close  Opening (State)  Deferring to County  Testing  Education   \n",
      "1               Y              NaN                  NaN      NaN        NaN   \n",
      "2               Y              NaN                  NaN      NaN          Y   \n",
      "3               Y              NaN                  NaN      NaN        NaN   \n",
      "4               Y              NaN                  NaN      NaN        NaN   \n",
      "\n",
      "   Health/Medical  Emergency Level  Transportation  Budget  Social Distancing  \\\n",
      "0  Health/Medical  Emergency Level  Transportation  Budget  Social Distancing   \n",
      "1             NaN              NaN             NaN     NaN                NaN   \n",
      "2             NaN              NaN             NaN     NaN                NaN   \n",
      "3             NaN              NaN             NaN     NaN                NaN   \n",
      "4             NaN              NaN             NaN     NaN                NaN   \n",
      "\n",
      "   Other  Vaccine  \n",
      "0  Other  Vaccine  \n",
      "1    NaN      NaN  \n",
      "2    NaN      NaN  \n",
      "3    NaN      NaN  \n",
      "4    NaN      NaN  \n",
      "DataFrame for Oklahoma_policy.csv:\n",
      "        date                                             policy  \\\n",
      "0       date                                             policy   \n",
      "1  15-Mar-20              Governor Stitt declared an emergency.   \n",
      "2  17-Mar-20   The Governor signed an amended executive orde...   \n",
      "3  18-Mar-20   The Governor amended Executive Order 2020-07 ...   \n",
      "4  18-Mar-20   The Governor issued Executive Order 2020-08 s...   \n",
      "\n",
      "   Restrict/Close  Opening (State)  Deferring to County  Testing  Education  \\\n",
      "0  Restrict/Close  Opening (State)  Deferring to County  Testing  Education   \n",
      "1             NaN              NaN                  NaN      NaN        NaN   \n",
      "2             NaN              NaN                  NaN      NaN        NaN   \n",
      "3             NaN              NaN                  NaN      NaN        NaN   \n",
      "4             NaN              NaN                  NaN      NaN        NaN   \n",
      "\n",
      "   Health/Medical  Emergency Level  Transportation  Budget  Social Distancing  \\\n",
      "0  Health/Medical  Emergency Level  Transportation  Budget  Social Distancing   \n",
      "1             NaN                Y             NaN     NaN                NaN   \n",
      "2             NaN                Y             NaN     NaN                NaN   \n",
      "3             NaN              NaN             NaN     NaN                NaN   \n",
      "4               Y              NaN             NaN     NaN                NaN   \n",
      "\n",
      "   Other  Vaccine  \n",
      "0  Other  Vaccine  \n",
      "1    NaN      NaN  \n",
      "2    NaN      NaN  \n",
      "3      Y      NaN  \n",
      "4    NaN      NaN  \n",
      "DataFrame for Oregon_policy.csv:\n",
      "        date                                             policy  \\\n",
      "0       date                                             policy   \n",
      "1   3-Mar-20  Governor Kate Brown wrote a letter to Vice Pre...   \n",
      "2   5-Mar-20  The State of Oregon reached an agreement with ...   \n",
      "3   8-Mar-20  Governor Brown issued a state of emergency on ...   \n",
      "4  10-Mar-20  Governor Brown issued a policy to limit transm...   \n",
      "\n",
      "   Restrict/Close  Opening (State)  Deferring to County  Testing  Education  \\\n",
      "0  Restrict/Close  Opening (State)  Deferring to County  Testing  Education   \n",
      "1             NaN              NaN                  NaN      NaN        NaN   \n",
      "2             NaN              NaN                  NaN      NaN        NaN   \n",
      "3             NaN              NaN                  NaN      NaN        NaN   \n",
      "4             NaN              NaN                  NaN      NaN        NaN   \n",
      "\n",
      "   Health/Medical  Emergency Level  Transportation  Budget  Social Distancing  \\\n",
      "0  Health/Medical  Emergency Level  Transportation  Budget  Social Distancing   \n",
      "1               Y              NaN             NaN     NaN                NaN   \n",
      "2               Y              NaN             NaN     NaN                NaN   \n",
      "3             NaN                Y             NaN     NaN                NaN   \n",
      "4             NaN              NaN             NaN     NaN                NaN   \n",
      "\n",
      "   Other  Vaccine  \n",
      "0  Other  Vaccine  \n",
      "1      Y      NaN  \n",
      "2      Y      NaN  \n",
      "3    NaN      NaN  \n",
      "4      Y      NaN  \n",
      "DataFrame for Pennsylvania_policy.csv:\n",
      "        date                                             policy  \\\n",
      "0       date                                             policy   \n",
      "1   5-Mar-20  State officials have updated their travel guid...   \n",
      "2   5-Mar-20  The state updated their interim guidance for h...   \n",
      "3   7-Mar-20  Governor Wolf iscoordinating with legislative ...   \n",
      "4  10-Mar-20  The Department of Insurance issued a notice re...   \n",
      "\n",
      "   Restrict/Close  Opening (State)  Deferring to County  Testing  Education  \\\n",
      "0  Restrict/Close  Opening (State)  Deferring to County  Testing  Education   \n",
      "1               Y              NaN                  NaN      NaN        NaN   \n",
      "2             NaN              NaN                  NaN      NaN        NaN   \n",
      "3             NaN              NaN                  NaN      NaN        NaN   \n",
      "4             NaN              NaN                  NaN      NaN        NaN   \n",
      "\n",
      "   Health/Medical  Emergency Level  Transportation  Budget  Social Distancing  \\\n",
      "0  Health/Medical  Emergency Level  Transportation  Budget  Social Distancing   \n",
      "1             NaN              NaN             NaN     NaN                NaN   \n",
      "2             NaN              NaN             NaN     NaN                NaN   \n",
      "3               Y              NaN             NaN     NaN                NaN   \n",
      "4             NaN              NaN             NaN     NaN                NaN   \n",
      "\n",
      "   Other  Vaccine  \n",
      "0  Other  Vaccine  \n",
      "1    NaN      NaN  \n",
      "2      Y      NaN  \n",
      "3      Y      NaN  \n",
      "4      Y      NaN  \n",
      "DataFrame for Puerto Rico_policy.csv:\n",
      "        date                                             policy  \\\n",
      "0       date                                             policy   \n",
      "1  12-Mar-20  The Governor announced that Puerto Rico will b...   \n",
      "2  15-Mar-20  The Governor announced an island-wide curfew a...   \n",
      "3  16-Mar-20  The Governor issued an executive order easing ...   \n",
      "4  17-Mar-20  The Governor issued an executive order to addr...   \n",
      "\n",
      "   Restrict/Close  Opening (State)  Deferring to County  Testing  Education  \\\n",
      "0  Restrict/Close  Opening (State)  Deferring to County  Testing  Education   \n",
      "1             NaN              NaN                  NaN      NaN        NaN   \n",
      "2               Y              NaN                  NaN      NaN        NaN   \n",
      "3             NaN              NaN                  NaN      NaN        NaN   \n",
      "4             NaN              NaN                  NaN      NaN        NaN   \n",
      "\n",
      "   Health/Medical  Emergency Level  Transportation  Budget  Social Distancing  \\\n",
      "0  Health/Medical  Emergency Level  Transportation  Budget  Social Distancing   \n",
      "1             NaN                Y             NaN     NaN                NaN   \n",
      "2             NaN              NaN             NaN     NaN                NaN   \n",
      "3             NaN              NaN             NaN     NaN                NaN   \n",
      "4             NaN              NaN             NaN     NaN                NaN   \n",
      "\n",
      "   Other  Vaccine  \n",
      "0  Other  Vaccine  \n",
      "1    NaN      NaN  \n",
      "2    NaN      NaN  \n",
      "3      Y      NaN  \n",
      "4      Y      NaN  \n",
      "DataFrame for Rhode Island_policy.csv:\n",
      "        date                                             policy  \\\n",
      "0       date                                             policy   \n",
      "1   1-Mar-20  Rhode Island established an Incident Command S...   \n",
      "2   1-Mar-20  The Rhode Island Department of Health is coord...   \n",
      "3  11-Mar-20  Governor Raimondo issued guidance for large ev...   \n",
      "4  15-Mar-20  The Governor announced guidance directing all ...   \n",
      "\n",
      "   Restrict/Close  Opening (State)  Deferring to County  Testing  Education  \\\n",
      "0  Restrict/Close  Opening (State)  Deferring to County  Testing  Education   \n",
      "1             NaN              NaN                  NaN      NaN        NaN   \n",
      "2             NaN              NaN                  NaN      NaN        NaN   \n",
      "3             NaN              NaN                  NaN      NaN        NaN   \n",
      "4               Y              NaN                  NaN      NaN          Y   \n",
      "\n",
      "   Health/Medical  Emergency Level  Transportation  Budget  Social Distancing  \\\n",
      "0  Health/Medical  Emergency Level  Transportation  Budget  Social Distancing   \n",
      "1             NaN              NaN             NaN     NaN                NaN   \n",
      "2             NaN              NaN             NaN     NaN                NaN   \n",
      "3             NaN              NaN             NaN     NaN                NaN   \n",
      "4             NaN              NaN             NaN     NaN                NaN   \n",
      "\n",
      "   Other  Vaccine  \n",
      "0  Other  Vaccine  \n",
      "1      Y      NaN  \n",
      "2      Y      NaN  \n",
      "3      Y      NaN  \n",
      "4    NaN      NaN  \n",
      "DataFrame for South Carolina_policy.csv:\n",
      "        date                                             policy  \\\n",
      "0       date                                             policy   \n",
      "1  13-Mar-20   Governor McMaster issued an executive order t...   \n",
      "2  14-Mar-20   The SC Board of Medical Examiners and the SC ...   \n",
      "3  17-Mar-20  The Governor signed an executive order on addi...   \n",
      "4  19-Mar-20   The Governor signed an executive order which,...   \n",
      "\n",
      "   Restrict/Close  Opening (State)  Deferring to County  Testing  Education  \\\n",
      "0  Restrict/Close  Opening (State)  Deferring to County  Testing  Education   \n",
      "1               Y              NaN                  NaN      NaN          Y   \n",
      "2             NaN              NaN                  NaN      NaN        NaN   \n",
      "3               Y              NaN                  NaN      NaN        NaN   \n",
      "4               Y              NaN                  NaN      NaN        NaN   \n",
      "\n",
      "   Health/Medical  Emergency Level  Transportation  Budget  Social Distancing  \\\n",
      "0  Health/Medical  Emergency Level  Transportation  Budget  Social Distancing   \n",
      "1             NaN              NaN             NaN     NaN                NaN   \n",
      "2               Y              NaN             NaN     NaN                NaN   \n",
      "3             NaN              NaN             NaN     NaN                NaN   \n",
      "4             NaN              NaN             NaN     NaN                NaN   \n",
      "\n",
      "   Other  Vaccine  \n",
      "0  Other  Vaccine  \n",
      "1    NaN      NaN  \n",
      "2    NaN      NaN  \n",
      "3    NaN      NaN  \n",
      "4    NaN      NaN  \n",
      "DataFrame for South Dakota_policy.csv:\n",
      "        date                                             policy  \\\n",
      "0       date                                             policy   \n",
      "1   5-Mar-20  Governor Noem and the South Dakota Department ...   \n",
      "2  10-Mar-20  The South Dakota State Department of Health is...   \n",
      "3  13-Mar-20  Governor Noem signed a state of emergency orde...   \n",
      "4  16-Mar-20   The Governor activated the Small Business Adm...   \n",
      "\n",
      "   Restrict/Close  Opening (State)  Deferring to County  Testing  Education  \\\n",
      "0  Restrict/Close  Opening (State)  Deferring to County  Testing  Education   \n",
      "1             NaN              NaN                  NaN      NaN        NaN   \n",
      "2             NaN              NaN                  NaN      NaN          Y   \n",
      "3             NaN              NaN                  NaN      NaN        NaN   \n",
      "4             NaN              NaN                  NaN      NaN        NaN   \n",
      "\n",
      "   Health/Medical  Emergency Level  Transportation  Budget  Social Distancing  \\\n",
      "0  Health/Medical  Emergency Level  Transportation  Budget  Social Distancing   \n",
      "1             NaN              NaN             NaN     NaN                NaN   \n",
      "2             NaN              NaN             NaN     NaN                NaN   \n",
      "3             NaN                Y             NaN     NaN                NaN   \n",
      "4             NaN              NaN             NaN     NaN                NaN   \n",
      "\n",
      "   Other  Vaccine  \n",
      "0  Other  Vaccine  \n",
      "1      Y      NaN  \n",
      "2    NaN      NaN  \n",
      "3    NaN      NaN  \n",
      "4      Y      NaN  \n",
      "DataFrame for Tennessee_policy.csv:\n",
      "        date                                             policy  \\\n",
      "0       date                                             policy   \n",
      "1   5-Mar-20  Governor Lee announced the formation of a task...   \n",
      "2  12-Mar-20  Governor Lee issued a State of Emergency to fr...   \n",
      "3  13-Mar-20   The Governor issued further guidance regardin...   \n",
      "4  16-Mar-20   The Governor announced limiting all remaining...   \n",
      "\n",
      "   Restrict/Close  Opening (State)  Deferring to County  Testing  Education  \\\n",
      "0  Restrict/Close  Opening (State)  Deferring to County  Testing  Education   \n",
      "1             NaN              NaN                  NaN      NaN        NaN   \n",
      "2             NaN              NaN                  NaN      NaN        NaN   \n",
      "3               Y              NaN                  NaN      NaN        NaN   \n",
      "4               Y              NaN                  NaN      NaN        NaN   \n",
      "\n",
      "   Health/Medical  Emergency Level  Transportation  Budget  Social Distancing  \\\n",
      "0  Health/Medical  Emergency Level  Transportation  Budget  Social Distancing   \n",
      "1             NaN              NaN             NaN     NaN                NaN   \n",
      "2             NaN                Y             NaN     NaN                NaN   \n",
      "3             NaN              NaN             NaN     NaN                NaN   \n",
      "4             NaN              NaN             NaN     NaN                NaN   \n",
      "\n",
      "   Other  Vaccine  \n",
      "0  Other  Vaccine  \n",
      "1      Y      NaN  \n",
      "2    NaN      NaN  \n",
      "3    NaN      NaN  \n",
      "4    NaN      NaN  \n",
      "DataFrame for Texas_policy.csv:\n",
      "        date                                             policy  \\\n",
      "0       date                                             policy   \n",
      "1   6-Mar-20  Governor Abbott issued a statement regarding p...   \n",
      "2  11-Mar-20  Governor Abbott and the Texas Department of In...   \n",
      "3  11-Mar-20  Governor Abbott and the Texas Department of St...   \n",
      "4  12-Mar-20  Governor Abbott hosted a call with Texas legis...   \n",
      "\n",
      "   Restrict/Close  Opening (State)  Deferring to County  Testing  Education  \\\n",
      "0  Restrict/Close  Opening (State)  Deferring to County  Testing  Education   \n",
      "1             NaN              NaN                  NaN      NaN        NaN   \n",
      "2             NaN              NaN                  NaN      NaN        NaN   \n",
      "3             NaN              NaN                  NaN      NaN        NaN   \n",
      "4             NaN              NaN                  NaN      NaN        NaN   \n",
      "\n",
      "   Health/Medical  Emergency Level  Transportation  Budget  Social Distancing  \\\n",
      "0  Health/Medical  Emergency Level  Transportation  Budget  Social Distancing   \n",
      "1             NaN              NaN             NaN     NaN                NaN   \n",
      "2               Y              NaN             NaN     NaN                NaN   \n",
      "3             NaN              NaN             NaN     NaN                NaN   \n",
      "4             NaN              NaN             NaN     NaN                NaN   \n",
      "\n",
      "   Other  Vaccine  \n",
      "0  Other  Vaccine  \n",
      "1      Y      NaN  \n",
      "2      Y      NaN  \n",
      "3      Y      NaN  \n",
      "4      Y      NaN  \n",
      "DataFrame for Utah_policy.csv:\n",
      "        date                                             policy  \\\n",
      "0       date                                             policy   \n",
      "1   6-Mar-20  Governor Herbert declared astate of emergency,...   \n",
      "2   2-Mar-20  Utah established the COVID-19 Community Task F...   \n",
      "3  12-Mar-20  Governor Herbert issued astatement praising th...   \n",
      "4  12-Mar-20  Governor Herbert, in partnership with the Utah...   \n",
      "\n",
      "   Restrict/Close  Opening (State)  Deferring to County  Testing  Education  \\\n",
      "0  Restrict/Close  Opening (State)  Deferring to County  Testing  Education   \n",
      "1             NaN              NaN                  NaN      NaN        NaN   \n",
      "2             NaN              NaN                  NaN        Y        NaN   \n",
      "3             NaN              NaN                  NaN      NaN        NaN   \n",
      "4               Y              NaN                  NaN      NaN        NaN   \n",
      "\n",
      "   Health/Medical  Emergency Level  Transportation  Budget  Social Distancing  \\\n",
      "0  Health/Medical  Emergency Level  Transportation  Budget  Social Distancing   \n",
      "1             NaN                Y             NaN     NaN                NaN   \n",
      "2             NaN              NaN             NaN     NaN                NaN   \n",
      "3             NaN              NaN             NaN     NaN                NaN   \n",
      "4             NaN              NaN             NaN     NaN                NaN   \n",
      "\n",
      "   Other  Vaccine  \n",
      "0  Other  Vaccine  \n",
      "1    NaN      NaN  \n",
      "2      Y      NaN  \n",
      "3      Y      NaN  \n",
      "4    NaN      NaN  \n",
      "DataFrame for Vermont_policy.csv:\n",
      "        date                                             policy  \\\n",
      "0       date                                             policy   \n",
      "1   2-Mar-20  Governor Scott established a COVID-19 Task For...   \n",
      "2   6-Mar-20  The Vermont Department of Financial Regulation...   \n",
      "3  10-Mar-20  Governor Scott activated the State Emergency O...   \n",
      "4  10-Mar-20  The Vermont Department of Health issued guidan...   \n",
      "\n",
      "   Restrict/Close  Opening (State)  Deferring to County  Testing  Education  \\\n",
      "0  Restrict/Close  Opening (State)  Deferring to County  Testing  Education   \n",
      "1             NaN              NaN                  NaN      NaN        NaN   \n",
      "2             NaN              NaN                  NaN      NaN        NaN   \n",
      "3             NaN              NaN                  NaN      NaN        NaN   \n",
      "4             NaN              NaN                  NaN      NaN        NaN   \n",
      "\n",
      "   Health/Medical  Emergency Level  Transportation  Budget  Social Distancing  \\\n",
      "0  Health/Medical  Emergency Level  Transportation  Budget  Social Distancing   \n",
      "1             NaN              NaN             NaN     NaN                NaN   \n",
      "2               Y              NaN             NaN     NaN                NaN   \n",
      "3             NaN              NaN             NaN     NaN                NaN   \n",
      "4               Y              NaN             NaN     NaN                NaN   \n",
      "\n",
      "   Other  Vaccine  \n",
      "0  Other  Vaccine  \n",
      "1      Y      NaN  \n",
      "2      Y      NaN  \n",
      "3      Y      NaN  \n",
      "4      Y      NaN  \n",
      "DataFrame for Virgin Islands_policy.csv:\n",
      "        date                                             policy  \\\n",
      "0       date                                             policy   \n",
      "1  13-Mar-20  The Governor declared a state of emergency for...   \n",
      "2  13-Mar-20   Department of Licensing and Consumer Affairs ...   \n",
      "3  16-Mar-20  The Governor announced the closure of all publ...   \n",
      "4  16-Mar-20  The Virgin Islands Department of Human Service...   \n",
      "\n",
      "   Restrict/Close  Opening (State)  Deferring to County  Testing  Education  \\\n",
      "0  Restrict/Close  Opening (State)  Deferring to County  Testing  Education   \n",
      "1               Y              NaN                  NaN      NaN        NaN   \n",
      "2             NaN              NaN                  NaN      NaN        NaN   \n",
      "3               Y              NaN                  NaN      NaN          Y   \n",
      "4             NaN              NaN                  NaN      NaN        NaN   \n",
      "\n",
      "   Health/Medical  Emergency Level  Transportation  Budget  Social Distancing  \\\n",
      "0  Health/Medical  Emergency Level  Transportation  Budget  Social Distancing   \n",
      "1             NaN                Y             NaN     NaN                NaN   \n",
      "2             NaN              NaN             NaN     NaN                NaN   \n",
      "3             NaN              NaN             NaN     NaN                NaN   \n",
      "4             NaN              NaN             NaN     NaN                NaN   \n",
      "\n",
      "   Other  Vaccine  \n",
      "0  Other  Vaccine  \n",
      "1    NaN      NaN  \n",
      "2      Y      NaN  \n",
      "3    NaN      NaN  \n",
      "4      Y      NaN  \n",
      "DataFrame for Virginia_policy.csv:\n",
      "        date                                             policy  \\\n",
      "0       date                                             policy   \n",
      "1   4-Mar-20   Virginia's public health and safety experts e...   \n",
      "2  11-Mar-20  Governor Northam issued a statement addressing...   \n",
      "3  12-Mar-20  Governor Northam declared a State of Emergency...   \n",
      "4  13-Mar-20  The Governor ordered all K-12 schools in Virgi...   \n",
      "\n",
      "   Restrict/Close  Opening (State)  Deferring to County  Testing  Education  \\\n",
      "0  Restrict/Close  Opening (State)  Deferring to County  Testing  Education   \n",
      "1             NaN              NaN                  NaN      NaN        NaN   \n",
      "2             NaN              NaN                  NaN      NaN        NaN   \n",
      "3               Y              NaN                  NaN      NaN        NaN   \n",
      "4               Y              NaN                  NaN      NaN          Y   \n",
      "\n",
      "   Health/Medical  Emergency Level  Transportation  Budget  Social Distancing  \\\n",
      "0  Health/Medical  Emergency Level  Transportation  Budget  Social Distancing   \n",
      "1             NaN              NaN             NaN     NaN                NaN   \n",
      "2             NaN              NaN             NaN     NaN                NaN   \n",
      "3             NaN                Y             NaN     NaN                NaN   \n",
      "4             NaN              NaN             NaN     NaN                NaN   \n",
      "\n",
      "   Other  Vaccine  \n",
      "0  Other  Vaccine  \n",
      "1      Y      NaN  \n",
      "2      Y      NaN  \n",
      "3    NaN      NaN  \n",
      "4    NaN      NaN  \n",
      "DataFrame for Washington_policy.csv:\n",
      "       date                                             policy  \\\n",
      "0      date                                             policy   \n",
      "1  4-Mar-20  The state senate unanimously approved $100 mil...   \n",
      "2  4-Mar-20  According to news sources, King County purchas...   \n",
      "3  5-Mar-20  Insurance Commissioner Mike Kreidler issued an...   \n",
      "4  5-Mar-20  The Department of Labor and Industries has cha...   \n",
      "\n",
      "   Restrict/Close  Opening (State)  Deferring to County  Testing  Education  \\\n",
      "0  Restrict/Close  Opening (State)  Deferring to County  Testing  Education   \n",
      "1             NaN              NaN                  NaN      NaN        NaN   \n",
      "2             NaN              NaN                  NaN      NaN        NaN   \n",
      "3             NaN              NaN                  NaN      NaN        NaN   \n",
      "4             NaN              NaN                  NaN      NaN        NaN   \n",
      "\n",
      "   Health/Medical  Emergency Level  Transportation  Budget  Social Distancing  \\\n",
      "0  Health/Medical  Emergency Level  Transportation  Budget  Social Distancing   \n",
      "1             NaN              NaN             NaN     NaN                NaN   \n",
      "2             NaN              NaN             NaN     NaN                NaN   \n",
      "3               Y              NaN             NaN     NaN                NaN   \n",
      "4             NaN              NaN             NaN     NaN                NaN   \n",
      "\n",
      "   Other  Vaccine  \n",
      "0  Other  Vaccine  \n",
      "1      Y      NaN  \n",
      "2      Y      NaN  \n",
      "3      Y      NaN  \n",
      "4      Y      NaN  \n",
      "DataFrame for West Virginia_policy.csv:\n",
      "        date                                             policy  \\\n",
      "0       date                                             policy   \n",
      "1   4-Mar-20  Governor Justice held a meeting to discuss coo...   \n",
      "2   4-Mar-20  Governor Justiceissued a State of Preparedness...   \n",
      "3   9-Mar-20  The West Virginia Department of Health and Hum...   \n",
      "4  12-Mar-20  Governor Justice announced a state employee tr...   \n",
      "\n",
      "   Restrict/Close  Opening (State)  Deferring to County  Testing  Education  \\\n",
      "0  Restrict/Close  Opening (State)  Deferring to County  Testing  Education   \n",
      "1             NaN              NaN                  NaN      NaN        NaN   \n",
      "2             NaN              NaN                  NaN      NaN        NaN   \n",
      "3             NaN              NaN                  NaN      NaN        NaN   \n",
      "4               Y              NaN                  NaN      NaN        NaN   \n",
      "\n",
      "   Health/Medical  Emergency Level  Transportation  Budget  Social Distancing  \\\n",
      "0  Health/Medical  Emergency Level  Transportation  Budget  Social Distancing   \n",
      "1             NaN              NaN             NaN     NaN                NaN   \n",
      "2             NaN              NaN             NaN     NaN                NaN   \n",
      "3               Y              NaN             NaN     NaN                NaN   \n",
      "4             NaN              NaN             NaN     NaN                NaN   \n",
      "\n",
      "   Other  Vaccine  \n",
      "0  Other  Vaccine  \n",
      "1      Y      NaN  \n",
      "2      Y      NaN  \n",
      "3      Y      NaN  \n",
      "4    NaN      NaN  \n",
      "DataFrame for Wisconsin_policy.csv:\n",
      "        date                                             policy  \\\n",
      "0       date                                             policy   \n",
      "1   6-Mar-20  The Office of the Commissioner of Insurance re...   \n",
      "2  12-Mar-20  Governor Evers declared a public health emergency   \n",
      "3  12-Mar-20  Governor Evers declared a public health emerge...   \n",
      "4  14-Mar-20  The Governor ordered K-12 school (public and p...   \n",
      "\n",
      "   Restrict/Close  Opening (State)  Deferring to County  Testing  Education  \\\n",
      "0  Restrict/Close  Opening (State)  Deferring to County  Testing  Education   \n",
      "1             NaN              NaN                  NaN      NaN        NaN   \n",
      "2             NaN              NaN                  NaN      NaN        NaN   \n",
      "3               Y              NaN                  NaN      NaN        NaN   \n",
      "4               Y              NaN                  NaN      NaN          Y   \n",
      "\n",
      "   Health/Medical  Emergency Level  Transportation  Budget  Social Distancing  \\\n",
      "0  Health/Medical  Emergency Level  Transportation  Budget  Social Distancing   \n",
      "1             NaN              NaN             NaN     NaN                NaN   \n",
      "2             NaN                Y             NaN     NaN                NaN   \n",
      "3             NaN                Y             NaN     NaN                NaN   \n",
      "4             NaN              NaN             NaN     NaN                NaN   \n",
      "\n",
      "   Other  Vaccine  \n",
      "0  Other  Vaccine  \n",
      "1      Y      NaN  \n",
      "2    NaN      NaN  \n",
      "3    NaN      NaN  \n",
      "4    NaN      NaN  \n",
      "DataFrame for Wyoming_policy.csv:\n",
      "        date                                             policy  \\\n",
      "0       date                                             policy   \n",
      "1   9-Mar-20  Governor Gordon addressed the Wyoming legislat...   \n",
      "2  13-Mar-20  Governor Gordon declared a state of emergency ...   \n",
      "3  15-Mar-20  The Governor recommended that all schools rema...   \n",
      "4  16-Mar-20  The Governor created five task forces each to ...   \n",
      "\n",
      "   Restrict/Close  Opening (State)  Deferring to County  Testing  Education  \\\n",
      "0  Restrict/Close  Opening (State)  Deferring to County  Testing  Education   \n",
      "1             NaN              NaN                  NaN      NaN        NaN   \n",
      "2             NaN              NaN                  NaN      NaN        NaN   \n",
      "3             NaN              NaN                    Y      NaN        NaN   \n",
      "4             NaN              NaN                  NaN      NaN        NaN   \n",
      "\n",
      "   Health/Medical  Emergency Level  Transportation  Budget  Social Distancing  \\\n",
      "0  Health/Medical  Emergency Level  Transportation  Budget  Social Distancing   \n",
      "1             NaN              NaN             NaN     NaN                NaN   \n",
      "2             NaN                Y             NaN     NaN                NaN   \n",
      "3             NaN              NaN             NaN     NaN                NaN   \n",
      "4             NaN              NaN             NaN     NaN                NaN   \n",
      "\n",
      "   Other  Vaccine  \n",
      "0  Other  Vaccine  \n",
      "1      Y      NaN  \n",
      "2    NaN      NaN  \n",
      "3    NaN      NaN  \n",
      "4      Y      NaN  \n"
     ]
    }
   ],
   "source": [
    "import os\n",
    "import pandas as pd\n",
    "\n",
    "# Directory containing the CSV files\n",
    "directory = 'C:/Users/Public/Documents/UNCC/2024 SPRING/ITCS 6124 - Illustrative Visualization/Assignments/Project_Communication/IV-Communication-Project/policy'\n",
    "\n",
    "\n",
    "\n",
    "# List all files in the directory\n",
    "files = os.listdir(directory)\n",
    "\n",
    "# Filter out only the files ending with '_policy'\n",
    "policy_files = [file for file in files if file.endswith('_policy.csv')]\n",
    "\n",
    "# Define the common column names\n",
    "common_columns = ['date', 'policy', 'Restrict/Close', 'Opening (State)', 'Deferring to County', 'Testing', 'Education', 'Health/Medical', 'Emergency Level', 'Transportation', 'Budget', 'Social Distancing', 'Other', 'Vaccine']\n",
    "\n",
    "# Iterate through each policy file\n",
    "for file in policy_files:\n",
    "    # Construct the full path to the file\n",
    "    file_path = os.path.join(directory, file)\n",
    "    \n",
    "    # Read the CSV file into a DataFrame\n",
    "    df = pd.read_csv(file_path, names=common_columns)\n",
    "    \n",
    "    # Do whatever you want with the DataFrame, for example:\n",
    "    print(f\"DataFrame for {file}:\")\n",
    "    print(df.head())  # Display the first few rows of the DataFrame\n"
   ]
  },
  {
   "cell_type": "code",
   "execution_count": 13,
   "metadata": {},
   "outputs": [
    {
     "data": {
      "application/vnd.plotly.v1+json": {
       "config": {
        "plotlyServerURL": "https://plot.ly"
       },
       "data": [
        {
         "alignmentgroup": "True",
         "hovertemplate": "Category=%{x}<br>Count=%{y}<extra></extra>",
         "legendgroup": "",
         "marker": {
          "color": "#636efa",
          "pattern": {
           "shape": ""
          }
         },
         "name": "",
         "offsetgroup": "",
         "orientation": "v",
         "showlegend": false,
         "textposition": "auto",
         "type": "bar",
         "x": [
          "Restrict/Close",
          "Opening (State)",
          "Deferring to County",
          "Testing",
          "Education",
          "Health/Medical",
          "Emergency Level",
          "Transportation",
          "Budget",
          "Social Distancing",
          "Other",
          "Vaccine"
         ],
         "xaxis": "x",
         "y": [
          971,
          835,
          156,
          530,
          555,
          893,
          389,
          135,
          316,
          358,
          3703,
          660
         ],
         "yaxis": "y"
        }
       ],
       "layout": {
        "barmode": "relative",
        "legend": {
         "tracegroupgap": 0
        },
        "template": {
         "data": {
          "bar": [
           {
            "error_x": {
             "color": "#2a3f5f"
            },
            "error_y": {
             "color": "#2a3f5f"
            },
            "marker": {
             "line": {
              "color": "#E5ECF6",
              "width": 0.5
             },
             "pattern": {
              "fillmode": "overlay",
              "size": 10,
              "solidity": 0.2
             }
            },
            "type": "bar"
           }
          ],
          "barpolar": [
           {
            "marker": {
             "line": {
              "color": "#E5ECF6",
              "width": 0.5
             },
             "pattern": {
              "fillmode": "overlay",
              "size": 10,
              "solidity": 0.2
             }
            },
            "type": "barpolar"
           }
          ],
          "carpet": [
           {
            "aaxis": {
             "endlinecolor": "#2a3f5f",
             "gridcolor": "white",
             "linecolor": "white",
             "minorgridcolor": "white",
             "startlinecolor": "#2a3f5f"
            },
            "baxis": {
             "endlinecolor": "#2a3f5f",
             "gridcolor": "white",
             "linecolor": "white",
             "minorgridcolor": "white",
             "startlinecolor": "#2a3f5f"
            },
            "type": "carpet"
           }
          ],
          "choropleth": [
           {
            "colorbar": {
             "outlinewidth": 0,
             "ticks": ""
            },
            "type": "choropleth"
           }
          ],
          "contour": [
           {
            "colorbar": {
             "outlinewidth": 0,
             "ticks": ""
            },
            "colorscale": [
             [
              0,
              "#0d0887"
             ],
             [
              0.1111111111111111,
              "#46039f"
             ],
             [
              0.2222222222222222,
              "#7201a8"
             ],
             [
              0.3333333333333333,
              "#9c179e"
             ],
             [
              0.4444444444444444,
              "#bd3786"
             ],
             [
              0.5555555555555556,
              "#d8576b"
             ],
             [
              0.6666666666666666,
              "#ed7953"
             ],
             [
              0.7777777777777778,
              "#fb9f3a"
             ],
             [
              0.8888888888888888,
              "#fdca26"
             ],
             [
              1,
              "#f0f921"
             ]
            ],
            "type": "contour"
           }
          ],
          "contourcarpet": [
           {
            "colorbar": {
             "outlinewidth": 0,
             "ticks": ""
            },
            "type": "contourcarpet"
           }
          ],
          "heatmap": [
           {
            "colorbar": {
             "outlinewidth": 0,
             "ticks": ""
            },
            "colorscale": [
             [
              0,
              "#0d0887"
             ],
             [
              0.1111111111111111,
              "#46039f"
             ],
             [
              0.2222222222222222,
              "#7201a8"
             ],
             [
              0.3333333333333333,
              "#9c179e"
             ],
             [
              0.4444444444444444,
              "#bd3786"
             ],
             [
              0.5555555555555556,
              "#d8576b"
             ],
             [
              0.6666666666666666,
              "#ed7953"
             ],
             [
              0.7777777777777778,
              "#fb9f3a"
             ],
             [
              0.8888888888888888,
              "#fdca26"
             ],
             [
              1,
              "#f0f921"
             ]
            ],
            "type": "heatmap"
           }
          ],
          "heatmapgl": [
           {
            "colorbar": {
             "outlinewidth": 0,
             "ticks": ""
            },
            "colorscale": [
             [
              0,
              "#0d0887"
             ],
             [
              0.1111111111111111,
              "#46039f"
             ],
             [
              0.2222222222222222,
              "#7201a8"
             ],
             [
              0.3333333333333333,
              "#9c179e"
             ],
             [
              0.4444444444444444,
              "#bd3786"
             ],
             [
              0.5555555555555556,
              "#d8576b"
             ],
             [
              0.6666666666666666,
              "#ed7953"
             ],
             [
              0.7777777777777778,
              "#fb9f3a"
             ],
             [
              0.8888888888888888,
              "#fdca26"
             ],
             [
              1,
              "#f0f921"
             ]
            ],
            "type": "heatmapgl"
           }
          ],
          "histogram": [
           {
            "marker": {
             "pattern": {
              "fillmode": "overlay",
              "size": 10,
              "solidity": 0.2
             }
            },
            "type": "histogram"
           }
          ],
          "histogram2d": [
           {
            "colorbar": {
             "outlinewidth": 0,
             "ticks": ""
            },
            "colorscale": [
             [
              0,
              "#0d0887"
             ],
             [
              0.1111111111111111,
              "#46039f"
             ],
             [
              0.2222222222222222,
              "#7201a8"
             ],
             [
              0.3333333333333333,
              "#9c179e"
             ],
             [
              0.4444444444444444,
              "#bd3786"
             ],
             [
              0.5555555555555556,
              "#d8576b"
             ],
             [
              0.6666666666666666,
              "#ed7953"
             ],
             [
              0.7777777777777778,
              "#fb9f3a"
             ],
             [
              0.8888888888888888,
              "#fdca26"
             ],
             [
              1,
              "#f0f921"
             ]
            ],
            "type": "histogram2d"
           }
          ],
          "histogram2dcontour": [
           {
            "colorbar": {
             "outlinewidth": 0,
             "ticks": ""
            },
            "colorscale": [
             [
              0,
              "#0d0887"
             ],
             [
              0.1111111111111111,
              "#46039f"
             ],
             [
              0.2222222222222222,
              "#7201a8"
             ],
             [
              0.3333333333333333,
              "#9c179e"
             ],
             [
              0.4444444444444444,
              "#bd3786"
             ],
             [
              0.5555555555555556,
              "#d8576b"
             ],
             [
              0.6666666666666666,
              "#ed7953"
             ],
             [
              0.7777777777777778,
              "#fb9f3a"
             ],
             [
              0.8888888888888888,
              "#fdca26"
             ],
             [
              1,
              "#f0f921"
             ]
            ],
            "type": "histogram2dcontour"
           }
          ],
          "mesh3d": [
           {
            "colorbar": {
             "outlinewidth": 0,
             "ticks": ""
            },
            "type": "mesh3d"
           }
          ],
          "parcoords": [
           {
            "line": {
             "colorbar": {
              "outlinewidth": 0,
              "ticks": ""
             }
            },
            "type": "parcoords"
           }
          ],
          "pie": [
           {
            "automargin": true,
            "type": "pie"
           }
          ],
          "scatter": [
           {
            "fillpattern": {
             "fillmode": "overlay",
             "size": 10,
             "solidity": 0.2
            },
            "type": "scatter"
           }
          ],
          "scatter3d": [
           {
            "line": {
             "colorbar": {
              "outlinewidth": 0,
              "ticks": ""
             }
            },
            "marker": {
             "colorbar": {
              "outlinewidth": 0,
              "ticks": ""
             }
            },
            "type": "scatter3d"
           }
          ],
          "scattercarpet": [
           {
            "marker": {
             "colorbar": {
              "outlinewidth": 0,
              "ticks": ""
             }
            },
            "type": "scattercarpet"
           }
          ],
          "scattergeo": [
           {
            "marker": {
             "colorbar": {
              "outlinewidth": 0,
              "ticks": ""
             }
            },
            "type": "scattergeo"
           }
          ],
          "scattergl": [
           {
            "marker": {
             "colorbar": {
              "outlinewidth": 0,
              "ticks": ""
             }
            },
            "type": "scattergl"
           }
          ],
          "scattermapbox": [
           {
            "marker": {
             "colorbar": {
              "outlinewidth": 0,
              "ticks": ""
             }
            },
            "type": "scattermapbox"
           }
          ],
          "scatterpolar": [
           {
            "marker": {
             "colorbar": {
              "outlinewidth": 0,
              "ticks": ""
             }
            },
            "type": "scatterpolar"
           }
          ],
          "scatterpolargl": [
           {
            "marker": {
             "colorbar": {
              "outlinewidth": 0,
              "ticks": ""
             }
            },
            "type": "scatterpolargl"
           }
          ],
          "scatterternary": [
           {
            "marker": {
             "colorbar": {
              "outlinewidth": 0,
              "ticks": ""
             }
            },
            "type": "scatterternary"
           }
          ],
          "surface": [
           {
            "colorbar": {
             "outlinewidth": 0,
             "ticks": ""
            },
            "colorscale": [
             [
              0,
              "#0d0887"
             ],
             [
              0.1111111111111111,
              "#46039f"
             ],
             [
              0.2222222222222222,
              "#7201a8"
             ],
             [
              0.3333333333333333,
              "#9c179e"
             ],
             [
              0.4444444444444444,
              "#bd3786"
             ],
             [
              0.5555555555555556,
              "#d8576b"
             ],
             [
              0.6666666666666666,
              "#ed7953"
             ],
             [
              0.7777777777777778,
              "#fb9f3a"
             ],
             [
              0.8888888888888888,
              "#fdca26"
             ],
             [
              1,
              "#f0f921"
             ]
            ],
            "type": "surface"
           }
          ],
          "table": [
           {
            "cells": {
             "fill": {
              "color": "#EBF0F8"
             },
             "line": {
              "color": "white"
             }
            },
            "header": {
             "fill": {
              "color": "#C8D4E3"
             },
             "line": {
              "color": "white"
             }
            },
            "type": "table"
           }
          ]
         },
         "layout": {
          "annotationdefaults": {
           "arrowcolor": "#2a3f5f",
           "arrowhead": 0,
           "arrowwidth": 1
          },
          "autotypenumbers": "strict",
          "coloraxis": {
           "colorbar": {
            "outlinewidth": 0,
            "ticks": ""
           }
          },
          "colorscale": {
           "diverging": [
            [
             0,
             "#8e0152"
            ],
            [
             0.1,
             "#c51b7d"
            ],
            [
             0.2,
             "#de77ae"
            ],
            [
             0.3,
             "#f1b6da"
            ],
            [
             0.4,
             "#fde0ef"
            ],
            [
             0.5,
             "#f7f7f7"
            ],
            [
             0.6,
             "#e6f5d0"
            ],
            [
             0.7,
             "#b8e186"
            ],
            [
             0.8,
             "#7fbc41"
            ],
            [
             0.9,
             "#4d9221"
            ],
            [
             1,
             "#276419"
            ]
           ],
           "sequential": [
            [
             0,
             "#0d0887"
            ],
            [
             0.1111111111111111,
             "#46039f"
            ],
            [
             0.2222222222222222,
             "#7201a8"
            ],
            [
             0.3333333333333333,
             "#9c179e"
            ],
            [
             0.4444444444444444,
             "#bd3786"
            ],
            [
             0.5555555555555556,
             "#d8576b"
            ],
            [
             0.6666666666666666,
             "#ed7953"
            ],
            [
             0.7777777777777778,
             "#fb9f3a"
            ],
            [
             0.8888888888888888,
             "#fdca26"
            ],
            [
             1,
             "#f0f921"
            ]
           ],
           "sequentialminus": [
            [
             0,
             "#0d0887"
            ],
            [
             0.1111111111111111,
             "#46039f"
            ],
            [
             0.2222222222222222,
             "#7201a8"
            ],
            [
             0.3333333333333333,
             "#9c179e"
            ],
            [
             0.4444444444444444,
             "#bd3786"
            ],
            [
             0.5555555555555556,
             "#d8576b"
            ],
            [
             0.6666666666666666,
             "#ed7953"
            ],
            [
             0.7777777777777778,
             "#fb9f3a"
            ],
            [
             0.8888888888888888,
             "#fdca26"
            ],
            [
             1,
             "#f0f921"
            ]
           ]
          },
          "colorway": [
           "#636efa",
           "#EF553B",
           "#00cc96",
           "#ab63fa",
           "#FFA15A",
           "#19d3f3",
           "#FF6692",
           "#B6E880",
           "#FF97FF",
           "#FECB52"
          ],
          "font": {
           "color": "#2a3f5f"
          },
          "geo": {
           "bgcolor": "white",
           "lakecolor": "white",
           "landcolor": "#E5ECF6",
           "showlakes": true,
           "showland": true,
           "subunitcolor": "white"
          },
          "hoverlabel": {
           "align": "left"
          },
          "hovermode": "closest",
          "mapbox": {
           "style": "light"
          },
          "paper_bgcolor": "white",
          "plot_bgcolor": "#E5ECF6",
          "polar": {
           "angularaxis": {
            "gridcolor": "white",
            "linecolor": "white",
            "ticks": ""
           },
           "bgcolor": "#E5ECF6",
           "radialaxis": {
            "gridcolor": "white",
            "linecolor": "white",
            "ticks": ""
           }
          },
          "scene": {
           "xaxis": {
            "backgroundcolor": "#E5ECF6",
            "gridcolor": "white",
            "gridwidth": 2,
            "linecolor": "white",
            "showbackground": true,
            "ticks": "",
            "zerolinecolor": "white"
           },
           "yaxis": {
            "backgroundcolor": "#E5ECF6",
            "gridcolor": "white",
            "gridwidth": 2,
            "linecolor": "white",
            "showbackground": true,
            "ticks": "",
            "zerolinecolor": "white"
           },
           "zaxis": {
            "backgroundcolor": "#E5ECF6",
            "gridcolor": "white",
            "gridwidth": 2,
            "linecolor": "white",
            "showbackground": true,
            "ticks": "",
            "zerolinecolor": "white"
           }
          },
          "shapedefaults": {
           "line": {
            "color": "#2a3f5f"
           }
          },
          "ternary": {
           "aaxis": {
            "gridcolor": "white",
            "linecolor": "white",
            "ticks": ""
           },
           "baxis": {
            "gridcolor": "white",
            "linecolor": "white",
            "ticks": ""
           },
           "bgcolor": "#E5ECF6",
           "caxis": {
            "gridcolor": "white",
            "linecolor": "white",
            "ticks": ""
           }
          },
          "title": {
           "x": 0.05
          },
          "xaxis": {
           "automargin": true,
           "gridcolor": "white",
           "linecolor": "white",
           "ticks": "",
           "title": {
            "standoff": 15
           },
           "zerolinecolor": "white",
           "zerolinewidth": 2
          },
          "yaxis": {
           "automargin": true,
           "gridcolor": "white",
           "linecolor": "white",
           "ticks": "",
           "title": {
            "standoff": 15
           },
           "zerolinecolor": "white",
           "zerolinewidth": 2
          }
         }
        },
        "title": {
         "text": "Policy Counts by Category"
        },
        "xaxis": {
         "anchor": "y",
         "domain": [
          0,
          1
         ],
         "tickangle": 90,
         "title": {
          "text": "Category"
         }
        },
        "yaxis": {
         "anchor": "x",
         "domain": [
          0,
          1
         ],
         "title": {
          "text": "Count"
         }
        }
       }
      }
     },
     "metadata": {},
     "output_type": "display_data"
    }
   ],
   "source": [
    "import os\n",
    "import pandas as pd\n",
    "import plotly.express as px\n",
    "\n",
    "# List all files in the directory\n",
    "files = os.listdir(directory)\n",
    "\n",
    "# Filter out only the files ending with '_policy'\n",
    "policy_files = [file for file in files if file.endswith('_policy.csv')]\n",
    "\n",
    "# Define the common column names\n",
    "common_columns = ['date', 'policy', 'Restrict/Close', 'Opening (State)', 'Deferring to County', 'Testing', 'Education', 'Health/Medical', 'Emergency Level', 'Transportation', 'Budget', 'Social Distancing', 'Other', 'Vaccine']\n",
    "\n",
    "# Initialize a dictionary to store policy counts\n",
    "policy_counts = {category: 0 for category in common_columns[2:]}\n",
    "\n",
    "# Iterate through each policy file\n",
    "for file in policy_files:\n",
    "    # Construct the full path to the file\n",
    "    file_path = os.path.join(directory, file)\n",
    "    \n",
    "    # Read the CSV file into a DataFrame\n",
    "    df = pd.read_csv(file_path, names=common_columns)\n",
    "    \n",
    "    # Iterate through each policy category and count occurrences\n",
    "    for category in common_columns[2:]:\n",
    "        policy_counts[category] += df[category].count()\n",
    "\n",
    "# Convert the policy counts dictionary into a DataFrame\n",
    "policy_counts_df = pd.DataFrame(list(policy_counts.items()), columns=['Category', 'Count'])\n",
    "\n",
    "# Create a bar chart using Plotly\n",
    "fig = px.bar(policy_counts_df, x='Category', y='Count', title='Policy Counts by Category')\n",
    "fig.update_layout(xaxis_tickangle=90)\n",
    "fig.show()\n"
   ]
  },
  {
   "cell_type": "code",
   "execution_count": 8,
   "metadata": {},
   "outputs": [
    {
     "data": {
      "application/vnd.jupyter.widget-view+json": {
       "model_id": "6ee2229c9978440e8c580a64196f56c5",
       "version_major": 2,
       "version_minor": 0
      },
      "text/plain": [
       "Dropdown(description='Select State:', options=('Alabama', 'Alaska', 'American Samoa', 'Arizona', 'Arkansas', '…"
      ]
     },
     "metadata": {},
     "output_type": "display_data"
    },
    {
     "data": {
      "application/vnd.jupyter.widget-view+json": {
       "model_id": "053e0ff1be09463fa4dd2cdb9091c2d9",
       "version_major": 2,
       "version_minor": 0
      },
      "text/plain": [
       "interactive(children=(Dropdown(description='Select State:', options=('Alabama', 'Alaska', 'American Samoa', 'A…"
      ]
     },
     "execution_count": 8,
     "metadata": {},
     "output_type": "execute_result"
    },
    {
     "data": {
      "text/plain": [
       "<Figure size 640x480 with 0 Axes>"
      ]
     },
     "metadata": {},
     "output_type": "display_data"
    },
    {
     "data": {
      "image/png": "[encoded data removed]",
      "text/plain": [
       "<Figure size 1000x600 with 1 Axes>"
      ]
     },
     "metadata": {},
     "output_type": "display_data"
    }
   ],
   "source": [
    "\n",
    "import os\n",
    "import pandas as pd\n",
    "import matplotlib.pyplot as plt\n",
    "import ipywidgets as widgets\n",
    "from IPython.display import display\n",
    "\n",
    "\n",
    "\n",
    "# List all files in the directory\n",
    "files = os.listdir(directory)\n",
    "\n",
    "# Filter out only the files ending with '_policy'\n",
    "policy_files = [file for file in files if file.endswith('_policy.csv')]\n",
    "\n",
    "# Define the common column names\n",
    "common_columns = ['date', 'policy', 'Restrict/Close', 'Opening (State)', 'Deferring to County', 'Testing', 'Education', 'Health/Medical', 'Emergency Level', 'Transportation', 'Budget', 'Social Distancing', 'Other', 'Vaccine']\n",
    "\n",
    "# Load all data into a dictionary of DataFrames, one per state\n",
    "state_data = {}\n",
    "for file in policy_files:\n",
    "    state = file.replace('_policy.csv', '')\n",
    "    file_path = os.path.join(directory, file)\n",
    "    state_data[state] = pd.read_csv(file_path, names=common_columns)\n",
    "\n",
    "# Get list of states\n",
    "states = list(state_data.keys())\n",
    "\n",
    "# Create dropdown widget for selecting states\n",
    "state_dropdown = widgets.Dropdown(\n",
    "    options=states,\n",
    "    description='Select State:',\n",
    "    disabled=False\n",
    ")\n",
    "\n",
    "# Function to update the plot based on selected state\n",
    "def update_plot(selected_state):\n",
    "    # Clear previous plot\n",
    "    plt.clf()\n",
    "    \n",
    "    # Create subplots\n",
    "    fig, ax = plt.subplots(figsize=(10, 6))\n",
    "    \n",
    "    # Extract data for selected state\n",
    "    selected_data = state_data[selected_state]\n",
    "    \n",
    "    # Drop non-numeric columns\n",
    "    numeric_data = selected_data.drop(columns=['date', 'policy'], errors='ignore')\n",
    "    \n",
    "    # Check if any numeric columns exist\n",
    "    if len(numeric_data.columns) == 0:\n",
    "        print(\"No numeric data available for plotting.\")\n",
    "        return\n",
    "    \n",
    "    # Create box plot for each policy category\n",
    "    numeric_data.boxplot(ax=ax, vert=False)\n",
    "    \n",
    "    # Set plot labels and title\n",
    "    ax.set_xlabel('Count')\n",
    "    ax.set_title(f'Policy Metrics for {selected_state}')\n",
    "    \n",
    "    # Show plot\n",
    "    plt.show()\n",
    "\n",
    "# Display the dropdown widget\n",
    "display(state_dropdown)\n",
    "\n",
    "# Call update_plot function when dropdown value changes\n",
    "widgets.interactive(update_plot, selected_state=state_dropdown)\n",
    "\n",
    "\n"
   ]
  },
  {
   "cell_type": "code",
   "execution_count": 7,
   "metadata": {},
   "outputs": [
    {
     "data": {
      "application/vnd.plotly.v1+json": {
       "config": {
        "plotlyServerURL": "https://plot.ly"
       },
       "data": [
        {
         "hovertemplate": "x: %{x}<br>y: %{y}<br>color: [%{z[0]}, %{z[1]}, %{z[2]}]<extra></extra>",
         "name": "0",
         "source": "data:image/png;base64,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",
         "type": "image",
         "xaxis": "x",
         "yaxis": "y"
        }
       ],
       "layout": {
        "margin": {
         "t": 60
        },
        "template": {
         "data": {
          "bar": [
           {
            "error_x": {
             "color": "#2a3f5f"
            },
            "error_y": {
             "color": "#2a3f5f"
            },
            "marker": {
             "line": {
              "color": "#E5ECF6",
              "width": 0.5
             },
             "pattern": {
              "fillmode": "overlay",
              "size": 10,
              "solidity": 0.2
             }
            },
            "type": "bar"
           }
          ],
          "barpolar": [
           {
            "marker": {
             "line": {
              "color": "#E5ECF6",
              "width": 0.5
             },
             "pattern": {
              "fillmode": "overlay",
              "size": 10,
              "solidity": 0.2
             }
            },
            "type": "barpolar"
           }
          ],
          "carpet": [
           {
            "aaxis": {
             "endlinecolor": "#2a3f5f",
             "gridcolor": "white",
             "linecolor": "white",
             "minorgridcolor": "white",
             "startlinecolor": "#2a3f5f"
            },
            "baxis": {
             "endlinecolor": "#2a3f5f",
             "gridcolor": "white",
             "linecolor": "white",
             "minorgridcolor": "white",
             "startlinecolor": "#2a3f5f"
            },
            "type": "carpet"
           }
          ],
          "choropleth": [
           {
            "colorbar": {
             "outlinewidth": 0,
             "ticks": ""
            },
            "type": "choropleth"
           }
          ],
          "contour": [
           {
            "colorbar": {
             "outlinewidth": 0,
             "ticks": ""
            },
            "colorscale": [
             [
              0,
              "#0d0887"
             ],
             [
              0.1111111111111111,
              "#46039f"
             ],
             [
              0.2222222222222222,
              "#7201a8"
             ],
             [
              0.3333333333333333,
              "#9c179e"
             ],
             [
              0.4444444444444444,
              "#bd3786"
             ],
             [
              0.5555555555555556,
              "#d8576b"
             ],
             [
              0.6666666666666666,
              "#ed7953"
             ],
             [
              0.7777777777777778,
              "#fb9f3a"
             ],
             [
              0.8888888888888888,
              "#fdca26"
             ],
             [
              1,
              "#f0f921"
             ]
            ],
            "type": "contour"
           }
          ],
          "contourcarpet": [
           {
            "colorbar": {
             "outlinewidth": 0,
             "ticks": ""
            },
            "type": "contourcarpet"
           }
          ],
          "heatmap": [
           {
            "colorbar": {
             "outlinewidth": 0,
             "ticks": ""
            },
            "colorscale": [
             [
              0,
              "#0d0887"
             ],
             [
              0.1111111111111111,
              "#46039f"
             ],
             [
              0.2222222222222222,
              "#7201a8"
             ],
             [
              0.3333333333333333,
              "#9c179e"
             ],
             [
              0.4444444444444444,
              "#bd3786"
             ],
             [
              0.5555555555555556,
              "#d8576b"
             ],
             [
              0.6666666666666666,
              "#ed7953"
             ],
             [
              0.7777777777777778,
              "#fb9f3a"
             ],
             [
              0.8888888888888888,
              "#fdca26"
             ],
             [
              1,
              "#f0f921"
             ]
            ],
            "type": "heatmap"
           }
          ],
          "heatmapgl": [
           {
            "colorbar": {
             "outlinewidth": 0,
             "ticks": ""
            },
            "colorscale": [
             [
              0,
              "#0d0887"
             ],
             [
              0.1111111111111111,
              "#46039f"
             ],
             [
              0.2222222222222222,
              "#7201a8"
             ],
             [
              0.3333333333333333,
              "#9c179e"
             ],
             [
              0.4444444444444444,
              "#bd3786"
             ],
             [
              0.5555555555555556,
              "#d8576b"
             ],
             [
              0.6666666666666666,
              "#ed7953"
             ],
             [
              0.7777777777777778,
              "#fb9f3a"
             ],
             [
              0.8888888888888888,
              "#fdca26"
             ],
             [
              1,
              "#f0f921"
             ]
            ],
            "type": "heatmapgl"
           }
          ],
          "histogram": [
           {
            "marker": {
             "pattern": {
              "fillmode": "overlay",
              "size": 10,
              "solidity": 0.2
             }
            },
            "type": "histogram"
           }
          ],
          "histogram2d": [
           {
            "colorbar": {
             "outlinewidth": 0,
             "ticks": ""
            },
            "colorscale": [
             [
              0,
              "#0d0887"
             ],
             [
              0.1111111111111111,
              "#46039f"
             ],
             [
              0.2222222222222222,
              "#7201a8"
             ],
             [
              0.3333333333333333,
              "#9c179e"
             ],
             [
              0.4444444444444444,
              "#bd3786"
             ],
             [
              0.5555555555555556,
              "#d8576b"
             ],
             [
              0.6666666666666666,
              "#ed7953"
             ],
             [
              0.7777777777777778,
              "#fb9f3a"
             ],
             [
              0.8888888888888888,
              "#fdca26"
             ],
             [
              1,
              "#f0f921"
             ]
            ],
            "type": "histogram2d"
           }
          ],
          "histogram2dcontour": [
           {
            "colorbar": {
             "outlinewidth": 0,
             "ticks": ""
            },
            "colorscale": [
             [
              0,
              "#0d0887"
             ],
             [
              0.1111111111111111,
              "#46039f"
             ],
             [
              0.2222222222222222,
              "#7201a8"
             ],
             [
              0.3333333333333333,
              "#9c179e"
             ],
             [
              0.4444444444444444,
              "#bd3786"
             ],
             [
              0.5555555555555556,
              "#d8576b"
             ],
             [
              0.6666666666666666,
              "#ed7953"
             ],
             [
              0.7777777777777778,
              "#fb9f3a"
             ],
             [
              0.8888888888888888,
              "#fdca26"
             ],
             [
              1,
              "#f0f921"
             ]
            ],
            "type": "histogram2dcontour"
           }
          ],
          "mesh3d": [
           {
            "colorbar": {
             "outlinewidth": 0,
             "ticks": ""
            },
            "type": "mesh3d"
           }
          ],
          "parcoords": [
           {
            "line": {
             "colorbar": {
              "outlinewidth": 0,
              "ticks": ""
             }
            },
            "type": "parcoords"
           }
          ],
          "pie": [
           {
            "automargin": true,
            "type": "pie"
           }
          ],
          "scatter": [
           {
            "fillpattern": {
             "fillmode": "overlay",
             "size": 10,
             "solidity": 0.2
            },
            "type": "scatter"
           }
          ],
          "scatter3d": [
           {
            "line": {
             "colorbar": {
              "outlinewidth": 0,
              "ticks": ""
             }
            },
            "marker": {
             "colorbar": {
              "outlinewidth": 0,
              "ticks": ""
             }
            },
            "type": "scatter3d"
           }
          ],
          "scattercarpet": [
           {
            "marker": {
             "colorbar": {
              "outlinewidth": 0,
              "ticks": ""
             }
            },
            "type": "scattercarpet"
           }
          ],
          "scattergeo": [
           {
            "marker": {
             "colorbar": {
              "outlinewidth": 0,
              "ticks": ""
             }
            },
            "type": "scattergeo"
           }
          ],
          "scattergl": [
           {
            "marker": {
             "colorbar": {
              "outlinewidth": 0,
              "ticks": ""
             }
            },
            "type": "scattergl"
           }
          ],
          "scattermapbox": [
           {
            "marker": {
             "colorbar": {
              "outlinewidth": 0,
              "ticks": ""
             }
            },
            "type": "scattermapbox"
           }
          ],
          "scatterpolar": [
           {
            "marker": {
             "colorbar": {
              "outlinewidth": 0,
              "ticks": ""
             }
            },
            "type": "scatterpolar"
           }
          ],
          "scatterpolargl": [
           {
            "marker": {
             "colorbar": {
              "outlinewidth": 0,
              "ticks": ""
             }
            },
            "type": "scatterpolargl"
           }
          ],
          "scatterternary": [
           {
            "marker": {
             "colorbar": {
              "outlinewidth": 0,
              "ticks": ""
             }
            },
            "type": "scatterternary"
           }
          ],
          "surface": [
           {
            "colorbar": {
             "outlinewidth": 0,
             "ticks": ""
            },
            "colorscale": [
             [
              0,
              "#0d0887"
             ],
             [
              0.1111111111111111,
              "#46039f"
             ],
             [
              0.2222222222222222,
              "#7201a8"
             ],
             [
              0.3333333333333333,
              "#9c179e"
             ],
             [
              0.4444444444444444,
              "#bd3786"
             ],
             [
              0.5555555555555556,
              "#d8576b"
             ],
             [
              0.6666666666666666,
              "#ed7953"
             ],
             [
              0.7777777777777778,
              "#fb9f3a"
             ],
             [
              0.8888888888888888,
              "#fdca26"
             ],
             [
              1,
              "#f0f921"
             ]
            ],
            "type": "surface"
           }
          ],
          "table": [
           {
            "cells": {
             "fill": {
              "color": "#EBF0F8"
             },
             "line": {
              "color": "white"
             }
            },
            "header": {
             "fill": {
              "color": "#C8D4E3"
             },
             "line": {
              "color": "white"
             }
            },
            "type": "table"
           }
          ]
         },
         "layout": {
          "annotationdefaults": {
           "arrowcolor": "#2a3f5f",
           "arrowhead": 0,
           "arrowwidth": 1
          },
          "autotypenumbers": "strict",
          "coloraxis": {
           "colorbar": {
            "outlinewidth": 0,
            "ticks": ""
           }
          },
          "colorscale": {
           "diverging": [
            [
             0,
             "#8e0152"
            ],
            [
             0.1,
             "#c51b7d"
            ],
            [
             0.2,
             "#de77ae"
            ],
            [
             0.3,
             "#f1b6da"
            ],
            [
             0.4,
             "#fde0ef"
            ],
            [
             0.5,
             "#f7f7f7"
            ],
            [
             0.6,
             "#e6f5d0"
            ],
            [
             0.7,
             "#b8e186"
            ],
            [
             0.8,
             "#7fbc41"
            ],
            [
             0.9,
             "#4d9221"
            ],
            [
             1,
             "#276419"
            ]
           ],
           "sequential": [
            [
             0,
             "#0d0887"
            ],
            [
             0.1111111111111111,
             "#46039f"
            ],
            [
             0.2222222222222222,
             "#7201a8"
            ],
            [
             0.3333333333333333,
             "#9c179e"
            ],
            [
             0.4444444444444444,
             "#bd3786"
            ],
            [
             0.5555555555555556,
             "#d8576b"
            ],
            [
             0.6666666666666666,
             "#ed7953"
            ],
            [
             0.7777777777777778,
             "#fb9f3a"
            ],
            [
             0.8888888888888888,
             "#fdca26"
            ],
            [
             1,
             "#f0f921"
            ]
           ],
           "sequentialminus": [
            [
             0,
             "#0d0887"
            ],
            [
             0.1111111111111111,
             "#46039f"
            ],
            [
             0.2222222222222222,
             "#7201a8"
            ],
            [
             0.3333333333333333,
             "#9c179e"
            ],
            [
             0.4444444444444444,
             "#bd3786"
            ],
            [
             0.5555555555555556,
             "#d8576b"
            ],
            [
             0.6666666666666666,
             "#ed7953"
            ],
            [
             0.7777777777777778,
             "#fb9f3a"
            ],
            [
             0.8888888888888888,
             "#fdca26"
            ],
            [
             1,
             "#f0f921"
            ]
           ]
          },
          "colorway": [
           "#636efa",
           "#EF553B",
           "#00cc96",
           "#ab63fa",
           "#FFA15A",
           "#19d3f3",
           "#FF6692",
           "#B6E880",
           "#FF97FF",
           "#FECB52"
          ],
          "font": {
           "color": "#2a3f5f"
          },
          "geo": {
           "bgcolor": "white",
           "lakecolor": "white",
           "landcolor": "#E5ECF6",
           "showlakes": true,
           "showland": true,
           "subunitcolor": "white"
          },
          "hoverlabel": {
           "align": "left"
          },
          "hovermode": "closest",
          "mapbox": {
           "style": "light"
          },
          "paper_bgcolor": "white",
          "plot_bgcolor": "#E5ECF6",
          "polar": {
           "angularaxis": {
            "gridcolor": "white",
            "linecolor": "white",
            "ticks": ""
           },
           "bgcolor": "#E5ECF6",
           "radialaxis": {
            "gridcolor": "white",
            "linecolor": "white",
            "ticks": ""
           }
          },
          "scene": {
           "xaxis": {
            "backgroundcolor": "#E5ECF6",
            "gridcolor": "white",
            "gridwidth": 2,
            "linecolor": "white",
            "showbackground": true,
            "ticks": "",
            "zerolinecolor": "white"
           },
           "yaxis": {
            "backgroundcolor": "#E5ECF6",
            "gridcolor": "white",
            "gridwidth": 2,
            "linecolor": "white",
            "showbackground": true,
            "ticks": "",
            "zerolinecolor": "white"
           },
           "zaxis": {
            "backgroundcolor": "#E5ECF6",
            "gridcolor": "white",
            "gridwidth": 2,
            "linecolor": "white",
            "showbackground": true,
            "ticks": "",
            "zerolinecolor": "white"
           }
          },
          "shapedefaults": {
           "line": {
            "color": "#2a3f5f"
           }
          },
          "ternary": {
           "aaxis": {
            "gridcolor": "white",
            "linecolor": "white",
            "ticks": ""
           },
           "baxis": {
            "gridcolor": "white",
            "linecolor": "white",
            "ticks": ""
           },
           "bgcolor": "#E5ECF6",
           "caxis": {
            "gridcolor": "white",
            "linecolor": "white",
            "ticks": ""
           }
          },
          "title": {
           "x": 0.05
          },
          "xaxis": {
           "automargin": true,
           "gridcolor": "white",
           "linecolor": "white",
           "ticks": "",
           "title": {
            "standoff": 15
           },
           "zerolinecolor": "white",
           "zerolinewidth": 2
          },
          "yaxis": {
           "automargin": true,
           "gridcolor": "white",
           "linecolor": "white",
           "ticks": "",
           "title": {
            "standoff": 15
           },
           "zerolinecolor": "white",
           "zerolinewidth": 2
          }
         }
        },
        "title": {
         "text": "Word Cloud of Policy Text"
        },
        "xaxis": {
         "anchor": "y",
         "domain": [
          0,
          1
         ],
         "visible": false
        },
        "yaxis": {
         "anchor": "x",
         "domain": [
          0,
          1
         ],
         "visible": false
        }
       }
      }
     },
     "metadata": {},
     "output_type": "display_data"
    }
   ],
   "source": [
    "import os\n",
    "import pandas as pd\n",
    "import plotly.express as px\n",
    "from wordcloud import WordCloud\n",
    "\n",
    "# Directory containing the CSV files\n",
    "\n",
    "# List all files in the directory\n",
    "files = os.listdir(directory)\n",
    "\n",
    "# Filter out only the files ending with '_policy'\n",
    "policy_files = [file for file in files if file.endswith('_policy.csv')]\n",
    "\n",
    "# Define the common column names\n",
    "common_columns = ['date', 'policy', 'Restrict/Close', 'Opening (State)', 'Deferring to County', 'Testing', 'Education', 'Health/Medical', 'Emergency Level', 'Transportation', 'Budget', 'Social Distancing', 'Other', 'Vaccine']\n",
    "\n",
    "# Concatenate policy text from all states into a single string\n",
    "policy_text = ''\n",
    "for file in policy_files:\n",
    "    file_path = os.path.join(directory, file)\n",
    "    df = pd.read_csv(file_path, names=common_columns)\n",
    "    policy_text += ' '.join(df['policy'].dropna()) + ' '\n",
    "\n",
    "# Generate word cloud\n",
    "wordcloud = WordCloud(width=800, height=400, background_color='white').generate(policy_text)\n",
    "\n",
    "# Convert word cloud to image format\n",
    "image_array = wordcloud.to_array()\n",
    "\n",
    "# Create a Plotly figure\n",
    "fig = px.imshow(image_array)\n",
    "\n",
    "# Configure the layout\n",
    "fig.update_layout(title='Word Cloud of Policy Text', xaxis_visible=False, yaxis_visible=False)\n",
    "\n",
    "# Show the Plotly figure\n",
    "fig.show()\n"
   ]
  },
  {
   "cell_type": "code",
   "execution_count": 7,
   "metadata": {},
   "outputs": [
    {
     "data": {
      "application/vnd.jupyter.widget-view+json": {
       "model_id": "0579d6abfcad4335bad14cc7709a0440",
       "version_major": 2,
       "version_minor": 0
      },
      "text/plain": [
       "Dropdown(description='Select State:', options=('Alabama', 'Alaska', 'American Samoa', 'Arizona', 'Arkansas', '…"
      ]
     },
     "metadata": {},
     "output_type": "display_data"
    },
    {
     "data": {
      "application/vnd.jupyter.widget-view+json": {
       "model_id": "652144553ddb4345a08f08bfcda01029",
       "version_major": 2,
       "version_minor": 0
      },
      "text/plain": [
       "interactive(children=(Dropdown(description='Select State:', options=('Alabama', 'Alaska', 'American Samoa', 'A…"
      ]
     },
     "execution_count": 7,
     "metadata": {},
     "output_type": "execute_result"
    },
    {
     "data": {
      "text/plain": [
       "<Figure size 640x480 with 0 Axes>"
      ]
     },
     "metadata": {},
     "output_type": "display_data"
    },
    {
     "data": {
      "text/plain": [
       "<Figure size 1000x600 with 0 Axes>"
      ]
     },
     "metadata": {},
     "output_type": "display_data"
    }
   ],
   "source": [
    "import os\n",
    "import pandas as pd\n",
    "import matplotlib.pyplot as plt\n",
    "import ipywidgets as widgets\n",
    "from IPython.display import display\n",
    "\n",
    "directory = 'C:/Users/Public/Documents/UNCC/2024 SPRING/ITCS 6124 - Illustrative Visualization/Assignments/Project_Communication/IV-Communication-Project/policy'\n",
    "\n",
    "\n",
    "time_series_file = 'C:/Users/Public/Documents/UNCC/2024 SPRING/ITCS 6124 - Illustrative Visualization/Assignments/Project_Communication/IV-Communication-Project/time_series_covid19_confirmed_US.csv'\n",
    "\n",
    "# List all files in the policy directory\n",
    "policy_files = os.listdir(directory)\n",
    "\n",
    "# Extract prefixes from policy file names\n",
    "policy_prefixes = [file.split('_')[0] for file in policy_files]\n",
    "\n",
    "# Load time series data\n",
    "time_series_data = pd.read_csv(os.path.join(directory, time_series_file))\n",
    "\n",
    "# Create dropdown widget for selecting policy files\n",
    "policy_dropdown = widgets.Dropdown(\n",
    "    options=policy_prefixes,\n",
    "    description='Select State:',\n",
    "    disabled=False\n",
    ")\n",
    "\n",
    "# Display the dropdown widget\n",
    "display(policy_dropdown)\n",
    "\n",
    "# Function to perform policy impact analysis\n",
    "def perform_policy_analysis(selected_state):\n",
    "    # Clear previous plot\n",
    "    plt.clf()\n",
    "    \n",
    "    # Load selected policy data\n",
    "    selected_policy_file = selected_state + '_policy.csv'\n",
    "    selected_policy_data = pd.read_csv(os.path.join(directory, selected_policy_file))\n",
    "    \n",
    "    # Filter rows in time series data based on selected state\n",
    "    state_time_series_data = time_series_data[time_series_data['Province_State'] == selected_state]\n",
    "    \n",
    "    # Print column names of state_time_series_data\n",
    "    print(state_time_series_data.columns)\n",
    "    \n",
    "    # Assuming you have specific columns in the time series data to use for analysis\n",
    "    # You can use state_time_series_data['column_name'] to access the data\n",
    "    \n",
    "    # Visualize the relationship using a line plot\n",
    "    plt.figure(figsize=(10, 6))\n",
    "    plt.plot(state_time_series_data['Date'], state_time_series_data['COVID19_Cases'], label='COVID-19 Cases')\n",
    "    plt.xlabel('Date')\n",
    "    plt.ylabel('Number of Cases')\n",
    "    plt.title(f'COVID-19 Cases Over Time in {selected_state}')\n",
    "    \n",
    "    # Adding vertical lines to indicate policy dates\n",
    "    policy_dates = pd.to_datetime(selected_policy_data['date'])\n",
    "    for policy_date in policy_dates:\n",
    "        plt.axvline(policy_date, color='r', linestyle='--', alpha=0.5)  # Vertical line for each policy date\n",
    "    \n",
    "    plt.legend()\n",
    "    plt.xticks(rotation=45)\n",
    "    plt.tight_layout()\n",
    "    plt.show()\n",
    "\n",
    "# Call perform_policy_analysis function when dropdown value changes\n",
    "widgets.interactive(perform_policy_analysis, selected_state=policy_dropdown)\n",
    "\n"
   ]
  },
  {
   "cell_type": "code",
   "execution_count": null,
   "metadata": {},
   "outputs": [],
   "source": []
  }
 ],
 "metadata": {
  "kernelspec": {
   "display_name": "Python 3",
   "language": "python",
   "name": "python3"
  },
  "language_info": {
   "codemirror_mode": {
    "name": "ipython",
    "version": 3
   },
   "file_extension": ".py",
   "mimetype": "text/x-python",
   "name": "python",
   "nbconvert_exporter": "python",
   "pygments_lexer": "ipython3",
   "version": "3.11.6"
  }
 },
 "nbformat": 4,
 "nbformat_minor": 2
}
